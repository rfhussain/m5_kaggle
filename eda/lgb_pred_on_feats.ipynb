{
 "cells": [
  {
   "cell_type": "code",
   "execution_count": 5,
   "metadata": {},
   "outputs": [],
   "source": [
    "import pandas as pd\n",
    "import numpy as np\n",
    "import os\n",
    "from tqdm import tqdm_notebook\n",
    "from sklearn.preprocessing import LabelEncoder\n",
    "import gc\n",
    "from  datetime import datetime, timedelta\n",
    "\n",
    "DATA_FOLDER = '..//data//'\n",
    "d_parser = lambda x: pd.datetime.strptime(x,'%Y-%m-%d')\n",
    "\n",
    "import warnings\n",
    "warnings.filterwarnings(\"ignore\")\n",
    "import lightgbm as lgb"
   ]
  },
  {
   "cell_type": "code",
   "execution_count": 2,
   "metadata": {},
   "outputs": [],
   "source": [
    "features_folder = '..//features//'\n",
    "X_train = pd.read_csv(os.path.join(features_folder,'X_train_2.csv'))\n",
    "y_train = pd.read_csv(os.path.join(features_folder,'y_train_2.csv'))\n",
    "X_valid = pd.read_csv(os.path.join(features_folder,'X_valid_2.csv'))\n",
    "y_valid = pd.read_csv(os.path.join(features_folder,'y_valid_2.csv'))\n",
    "X_test = pd.read_csv(os.path.join(features_folder,'X_test_2.csv'))"
   ]
  },
  {
   "cell_type": "code",
   "execution_count": 3,
   "metadata": {},
   "outputs": [
    {
     "data": {
      "text/plain": [
       "((31862050, 23), (853720, 25), (853720, 25))"
      ]
     },
     "execution_count": 3,
     "metadata": {},
     "output_type": "execute_result"
    }
   ],
   "source": [
    "X_train.shape, X_valid.shape, X_test.shape"
   ]
  },
  {
   "cell_type": "code",
   "execution_count": 6,
   "metadata": {},
   "outputs": [],
   "source": [
    "cat_features = ['dept_id_code','cat_id_code','store_id_code','state_id_code', 'item_id_code']\n",
    "\n",
    "valid_data = lgb.Dataset(X_valid[X_valid.columns[X_valid.columns.isin(X_train.columns)]],\n",
    "                         label=y_valid, categorical_feature=cat_features, free_raw_data=False)\n",
    "train_data = lgb.Dataset(X_train, label=y_train, categorical_feature=cat_features, free_raw_data=False)"
   ]
  },
  {
   "cell_type": "code",
   "execution_count": 7,
   "metadata": {},
   "outputs": [],
   "source": [
    "params = {\n",
    "        \"objective\" : \"poisson\",\n",
    "        \"metric\" :\"rmse\",\n",
    "        \"force_row_wise\" : True,\n",
    "        \"learning_rate\" : 0.075,\n",
    "        \"sub_row\" : 0.75,\n",
    "        \"bagging_freq\" : 1,\n",
    "        \"lambda_l2\" : 0.1,\n",
    "         \"nthread\" : -1,\n",
    "        \"metric\": [\"rmse\"],\n",
    "    'verbosity': 1,\n",
    "    'num_iterations' : 1200,\n",
    "    'num_leaves': 128,\n",
    "    \"min_data_in_leaf\": 100,\n",
    "}\n",
    "from datetime import datetime "
   ]
  },
  {
   "cell_type": "code",
   "execution_count": 8,
   "metadata": {
    "scrolled": false
   },
   "outputs": [
    {
     "name": "stdout",
     "output_type": "stream",
     "text": [
      "2020-06-29 03:54:38.070297\n",
      "[20]\tvalid_0's rmse: 2.52694\n",
      "[40]\tvalid_0's rmse: 2.215\n",
      "[60]\tvalid_0's rmse: 2.13968\n",
      "[80]\tvalid_0's rmse: 2.12113\n",
      "[100]\tvalid_0's rmse: 2.11471\n",
      "[120]\tvalid_0's rmse: 2.11102\n",
      "[140]\tvalid_0's rmse: 2.10929\n",
      "[160]\tvalid_0's rmse: 2.10762\n",
      "[180]\tvalid_0's rmse: 2.10618\n",
      "[200]\tvalid_0's rmse: 2.10656\n",
      "[220]\tvalid_0's rmse: 2.10616\n",
      "[240]\tvalid_0's rmse: 2.10647\n",
      "[260]\tvalid_0's rmse: 2.10699\n",
      "[280]\tvalid_0's rmse: 2.10887\n",
      "[300]\tvalid_0's rmse: 2.11095\n",
      "[320]\tvalid_0's rmse: 2.11028\n",
      "[340]\tvalid_0's rmse: 2.11009\n",
      "[360]\tvalid_0's rmse: 2.11061\n",
      "[380]\tvalid_0's rmse: 2.11071\n",
      "[400]\tvalid_0's rmse: 2.11129\n",
      "[420]\tvalid_0's rmse: 2.11172\n",
      "[440]\tvalid_0's rmse: 2.11207\n",
      "[460]\tvalid_0's rmse: 2.11\n",
      "[480]\tvalid_0's rmse: 2.11034\n",
      "[500]\tvalid_0's rmse: 2.11172\n",
      "[520]\tvalid_0's rmse: 2.11139\n",
      "[540]\tvalid_0's rmse: 2.11084\n",
      "[560]\tvalid_0's rmse: 2.11017\n",
      "[580]\tvalid_0's rmse: 2.10996\n",
      "[600]\tvalid_0's rmse: 2.11087\n",
      "[620]\tvalid_0's rmse: 2.1103\n",
      "[640]\tvalid_0's rmse: 2.11015\n",
      "[660]\tvalid_0's rmse: 2.11065\n",
      "[680]\tvalid_0's rmse: 2.11024\n",
      "[700]\tvalid_0's rmse: 2.1095\n",
      "[720]\tvalid_0's rmse: 2.10908\n",
      "[740]\tvalid_0's rmse: 2.10894\n",
      "[760]\tvalid_0's rmse: 2.10845\n",
      "[780]\tvalid_0's rmse: 2.10878\n",
      "[800]\tvalid_0's rmse: 2.10906\n",
      "[820]\tvalid_0's rmse: 2.10801\n",
      "[840]\tvalid_0's rmse: 2.10747\n",
      "[860]\tvalid_0's rmse: 2.10698\n",
      "[880]\tvalid_0's rmse: 2.10679\n",
      "[900]\tvalid_0's rmse: 2.10635\n",
      "[920]\tvalid_0's rmse: 2.10554\n",
      "[940]\tvalid_0's rmse: 2.10511\n",
      "[960]\tvalid_0's rmse: 2.10492\n",
      "[980]\tvalid_0's rmse: 2.10475\n",
      "[1000]\tvalid_0's rmse: 2.10527\n",
      "[1020]\tvalid_0's rmse: 2.10485\n",
      "[1040]\tvalid_0's rmse: 2.10444\n",
      "[1060]\tvalid_0's rmse: 2.10432\n",
      "[1080]\tvalid_0's rmse: 2.10417\n",
      "[1100]\tvalid_0's rmse: 2.10466\n",
      "[1120]\tvalid_0's rmse: 2.10451\n",
      "[1140]\tvalid_0's rmse: 2.10413\n",
      "[1160]\tvalid_0's rmse: 2.10373\n",
      "[1180]\tvalid_0's rmse: 2.10336\n",
      "[1200]\tvalid_0's rmse: 2.10319\n",
      "2020-06-29 05:20:27.857529\n",
      "total time : 1:25:49.787232\n"
     ]
    },
    {
     "data": {
      "text/plain": [
       "<lightgbm.basic.Booster at 0x29e44625348>"
      ]
     },
     "execution_count": 8,
     "metadata": {},
     "output_type": "execute_result"
    }
   ],
   "source": [
    "start_time = datetime.now()\n",
    "print(start_time)\n",
    "lgb = lgb.train(params,train_data,valid_sets=[valid_data], verbose_eval=20)\n",
    "end_time = datetime.now()\n",
    "print(end_time)\n",
    "print('total time :' , end_time-start_time)\n",
    "#lgb.save_model('model_feat_2_1100d.lgb')"
   ]
  },
  {
   "cell_type": "code",
   "execution_count": 9,
   "metadata": {},
   "outputs": [
    {
     "data": {
      "text/plain": [
       "['..//models//model_feat_2_1100d.pkl']"
      ]
     },
     "execution_count": 9,
     "metadata": {},
     "output_type": "execute_result"
    }
   ],
   "source": [
    "import joblib\n",
    "models_path = '..//models//' \n",
    "model_name = 'model_feat_2_1100d.pkl'\n",
    "joblib.dump(lgb,os.path.join(models_path,model_name))"
   ]
  },
  {
   "cell_type": "code",
   "execution_count": 10,
   "metadata": {},
   "outputs": [],
   "source": [
    "X_train = pd.read_csv(os.path.join(features_folder,'X_train_3.csv'))\n",
    "y_train = pd.read_csv(os.path.join(features_folder,'y_train_3.csv'))\n",
    "X_valid = pd.read_csv(os.path.join(features_folder,'X_valid_3.csv'))\n",
    "y_valid = pd.read_csv(os.path.join(features_folder,'y_valid_3.csv'))\n",
    "X_test = pd.read_csv(os.path.join(features_folder,'X_test_3.csv'))"
   ]
  },
  {
   "cell_type": "code",
   "execution_count": 11,
   "metadata": {},
   "outputs": [
    {
     "data": {
      "text/plain": [
       "((9604350, 21), (853720, 23), (853720, 23))"
      ]
     },
     "execution_count": 11,
     "metadata": {},
     "output_type": "execute_result"
    }
   ],
   "source": [
    "X_train.shape, X_valid.shape, X_test.shape"
   ]
  },
  {
   "cell_type": "code",
   "execution_count": 12,
   "metadata": {},
   "outputs": [
    {
     "data": {
      "text/plain": [
       "Index(['snap_CA', 'snap_TX', 'snap_WI', 'dept_id_code', 'cat_id_code',\n",
       "       'store_id_code', 'state_id_code', 'item_id_code', 'target_lag_4',\n",
       "       'target_lag_8', 'target_lag_12', 'target_lag_16', 'target_lag_20',\n",
       "       'target_lag_24', 'target_lag_28', 'rmean_7_7', 'rmean_21_7',\n",
       "       'rmean_28_7', 'rmean_7_28', 'rmean_21_28', 'rmean_28_28'],\n",
       "      dtype='object')"
      ]
     },
     "execution_count": 12,
     "metadata": {},
     "output_type": "execute_result"
    }
   ],
   "source": [
    "X_train.columns"
   ]
  },
  {
   "cell_type": "code",
   "execution_count": 14,
   "metadata": {},
   "outputs": [],
   "source": [
    "import lightgbm as lgb\n",
    "cat_features = ['snap_CA', 'snap_TX', 'snap_WI', 'dept_id_code', 'cat_id_code','store_id_code', 'state_id_code', 'item_id_code']\n",
    "\n",
    "valid_data = lgb.Dataset(X_valid[X_valid.columns[X_valid.columns.isin(X_train.columns)]],\n",
    "                         label=y_valid, categorical_feature=cat_features, free_raw_data=False)\n",
    "train_data = lgb.Dataset(X_train, label=y_train, categorical_feature=cat_features, free_raw_data=False)"
   ]
  },
  {
   "cell_type": "code",
   "execution_count": 15,
   "metadata": {},
   "outputs": [
    {
     "name": "stdout",
     "output_type": "stream",
     "text": [
      "2020-06-29 06:23:12.085308\n",
      "[20]\tvalid_0's rmse: 2.46782\n",
      "[40]\tvalid_0's rmse: 2.17145\n",
      "[60]\tvalid_0's rmse: 2.09986\n",
      "[80]\tvalid_0's rmse: 2.082\n",
      "[100]\tvalid_0's rmse: 2.0765\n",
      "[120]\tvalid_0's rmse: 2.07445\n",
      "[140]\tvalid_0's rmse: 2.07221\n",
      "[160]\tvalid_0's rmse: 2.07042\n",
      "[180]\tvalid_0's rmse: 2.06958\n",
      "[200]\tvalid_0's rmse: 2.06833\n",
      "[220]\tvalid_0's rmse: 2.06712\n",
      "[240]\tvalid_0's rmse: 2.06638\n",
      "[260]\tvalid_0's rmse: 2.06594\n",
      "[280]\tvalid_0's rmse: 2.06438\n",
      "[300]\tvalid_0's rmse: 2.06372\n",
      "[320]\tvalid_0's rmse: 2.06334\n",
      "[340]\tvalid_0's rmse: 2.06331\n",
      "[360]\tvalid_0's rmse: 2.06273\n",
      "[380]\tvalid_0's rmse: 2.06256\n",
      "[400]\tvalid_0's rmse: 2.06194\n",
      "[420]\tvalid_0's rmse: 2.06149\n",
      "[440]\tvalid_0's rmse: 2.06163\n",
      "[460]\tvalid_0's rmse: 2.06133\n",
      "[480]\tvalid_0's rmse: 2.0616\n",
      "[500]\tvalid_0's rmse: 2.0616\n",
      "[520]\tvalid_0's rmse: 2.06142\n",
      "[540]\tvalid_0's rmse: 2.06135\n",
      "[560]\tvalid_0's rmse: 2.06131\n",
      "[580]\tvalid_0's rmse: 2.06125\n",
      "[600]\tvalid_0's rmse: 2.06142\n",
      "[620]\tvalid_0's rmse: 2.06109\n",
      "[640]\tvalid_0's rmse: 2.06101\n",
      "[660]\tvalid_0's rmse: 2.06061\n",
      "[680]\tvalid_0's rmse: 2.06078\n",
      "[700]\tvalid_0's rmse: 2.06114\n",
      "[720]\tvalid_0's rmse: 2.0613\n",
      "[740]\tvalid_0's rmse: 2.06101\n",
      "[760]\tvalid_0's rmse: 2.06102\n",
      "[780]\tvalid_0's rmse: 2.0609\n",
      "[800]\tvalid_0's rmse: 2.06125\n",
      "[820]\tvalid_0's rmse: 2.0614\n",
      "[840]\tvalid_0's rmse: 2.0618\n",
      "[860]\tvalid_0's rmse: 2.06156\n",
      "[880]\tvalid_0's rmse: 2.06183\n",
      "[900]\tvalid_0's rmse: 2.06176\n",
      "[920]\tvalid_0's rmse: 2.06215\n",
      "[940]\tvalid_0's rmse: 2.06196\n",
      "[960]\tvalid_0's rmse: 2.06196\n",
      "[980]\tvalid_0's rmse: 2.06208\n",
      "[1000]\tvalid_0's rmse: 2.06187\n",
      "[1020]\tvalid_0's rmse: 2.06203\n",
      "[1040]\tvalid_0's rmse: 2.06216\n",
      "[1060]\tvalid_0's rmse: 2.06213\n",
      "[1080]\tvalid_0's rmse: 2.06218\n",
      "[1100]\tvalid_0's rmse: 2.0624\n",
      "[1120]\tvalid_0's rmse: 2.06255\n",
      "[1140]\tvalid_0's rmse: 2.06254\n",
      "[1160]\tvalid_0's rmse: 2.06255\n",
      "[1180]\tvalid_0's rmse: 2.06257\n",
      "[1200]\tvalid_0's rmse: 2.06262\n",
      "2020-06-29 06:57:56.260816\n",
      "total time : 0:34:44.175508\n"
     ]
    }
   ],
   "source": [
    "start_time = datetime.now()\n",
    "print(start_time)\n",
    "lgb_feat_3_370d = lgb.train(params,train_data,valid_sets=[valid_data], verbose_eval=20)\n",
    "end_time = datetime.now()\n",
    "print(end_time)\n",
    "print('total time :' , end_time-start_time)"
   ]
  },
  {
   "cell_type": "code",
   "execution_count": 16,
   "metadata": {},
   "outputs": [
    {
     "data": {
      "text/plain": [
       "['..//models//model_feat_3_370d.lgb']"
      ]
     },
     "execution_count": 16,
     "metadata": {},
     "output_type": "execute_result"
    }
   ],
   "source": [
    "models_path = '..//models//' \n",
    "model_name = 'model_feat_3_370d.lgb'\n",
    "joblib.dump(lgb_feat_3_370d,os.path.join(models_path,model_name))"
   ]
  },
  {
   "cell_type": "code",
   "execution_count": 20,
   "metadata": {},
   "outputs": [
    {
     "data": {
      "text/plain": [
       "<bound method Booster.feature_importance of <lightgbm.basic.Booster object at 0x0000029E44617188>>"
      ]
     },
     "execution_count": 20,
     "metadata": {},
     "output_type": "execute_result"
    }
   ],
   "source": [
    "lgb_feat_3_370d.feature_importance"
   ]
  },
  {
   "cell_type": "code",
   "execution_count": null,
   "metadata": {},
   "outputs": [],
   "source": []
  }
 ],
 "metadata": {
  "kernelspec": {
   "display_name": "Python 3",
   "language": "python",
   "name": "python3"
  },
  "language_info": {
   "codemirror_mode": {
    "name": "ipython",
    "version": 3
   },
   "file_extension": ".py",
   "mimetype": "text/x-python",
   "name": "python",
   "nbconvert_exporter": "python",
   "pygments_lexer": "ipython3",
   "version": "3.7.6"
  }
 },
 "nbformat": 4,
 "nbformat_minor": 4
}
