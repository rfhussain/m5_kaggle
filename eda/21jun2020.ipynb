{
 "cells": [
  {
   "cell_type": "markdown",
   "metadata": {},
   "source": [
    "# This notebook is for Basic EDA"
   ]
  },
  {
   "cell_type": "code",
   "execution_count": 1,
   "metadata": {},
   "outputs": [],
   "source": [
    "import pandas as pd\n",
    "import numpy as np\n",
    "import os\n",
    "from tqdm import tqdm_notebook\n",
    "from sklearn.preprocessing import LabelEncoder\n",
    "import gc\n",
    "from datetime import datetime\n",
    "\n",
    "DATA_FOLDER = '..//data//'\n",
    "d_parser = lambda x: pd.datetime.strptime(x,'%Y-%m-%d')\n",
    "\n",
    "import warnings\n",
    "warnings.filterwarnings(\"ignore\")"
   ]
  },
  {
   "cell_type": "code",
   "execution_count": 2,
   "metadata": {},
   "outputs": [
    {
     "name": "stdout",
     "output_type": "stream",
     "text": [
      "2020-06-25 03:27:26.648604\n"
     ]
    }
   ],
   "source": [
    "start_time = datetime.now()\n",
    "print(datetime.now())\n",
    "df_sample_sub = pd.read_csv(os.path.join(DATA_FOLDER,'sample_submission.csv'))\n",
    "df_stv        = pd.read_csv(os.path.join(DATA_FOLDER,'sales_train_validation.csv'))\n",
    "df_ste        = pd.read_csv(os.path.join(DATA_FOLDER,'sales_train_evaluation.csv'))\n",
    "df_prices     = pd.read_csv(os.path.join(DATA_FOLDER,'sell_prices.csv'))\n",
    "df_calander   = pd.read_csv(os.path.join(DATA_FOLDER,'calendar.csv'), parse_dates=[\"date\"], date_parser=d_parser)\n"
   ]
  },
  {
   "cell_type": "markdown",
   "metadata": {},
   "source": [
    "### Checking the Sample Submission file"
   ]
  },
  {
   "cell_type": "code",
   "execution_count": 171,
   "metadata": {},
   "outputs": [
    {
     "data": {
      "text/plain": [
       "30490"
      ]
     },
     "execution_count": 171,
     "metadata": {},
     "output_type": "execute_result"
    }
   ],
   "source": [
    "df_submission.id.nunique()"
   ]
  },
  {
   "cell_type": "code",
   "execution_count": 178,
   "metadata": {},
   "outputs": [
    {
     "data": {
      "text/plain": [
       "(0    HOBBIES_1_001_CA_1_validation\n",
       " 1    HOBBIES_1_002_CA_1_validation\n",
       " 2    HOBBIES_1_003_CA_1_validation\n",
       " 3    HOBBIES_1_004_CA_1_validation\n",
       " 4    HOBBIES_1_005_CA_1_validation\n",
       " Name: id, dtype: object,\n",
       " 60975    FOODS_3_823_WI_3_evaluation\n",
       " 60976    FOODS_3_824_WI_3_evaluation\n",
       " 60977    FOODS_3_825_WI_3_evaluation\n",
       " 60978    FOODS_3_826_WI_3_evaluation\n",
       " 60979    FOODS_3_827_WI_3_evaluation\n",
       " Name: id, dtype: object)"
      ]
     },
     "execution_count": 178,
     "metadata": {},
     "output_type": "execute_result"
    }
   ],
   "source": [
    "df_sample_sub.id.head(), df_sample_sub.id.tail()"
   ]
  },
  {
   "cell_type": "markdown",
   "metadata": {},
   "source": [
    "**Important things to be noted about the Submission file**\n",
    "* The submission file is a format, which we have to follow when putting our submissions\n",
    "* The total number of rows in the submission files will be (total_items x total_stores x last 28 days) "
   ]
  },
  {
   "cell_type": "code",
   "execution_count": 4,
   "metadata": {},
   "outputs": [
    {
     "data": {
      "text/html": [
       "<div>\n",
       "<style scoped>\n",
       "    .dataframe tbody tr th:only-of-type {\n",
       "        vertical-align: middle;\n",
       "    }\n",
       "\n",
       "    .dataframe tbody tr th {\n",
       "        vertical-align: top;\n",
       "    }\n",
       "\n",
       "    .dataframe thead th {\n",
       "        text-align: right;\n",
       "    }\n",
       "</style>\n",
       "<table border=\"1\" class=\"dataframe\">\n",
       "  <thead>\n",
       "    <tr style=\"text-align: right;\">\n",
       "      <th></th>\n",
       "      <th>id</th>\n",
       "      <th>item_id</th>\n",
       "      <th>dept_id</th>\n",
       "      <th>cat_id</th>\n",
       "      <th>store_id</th>\n",
       "      <th>state_id</th>\n",
       "      <th>d_1</th>\n",
       "      <th>d_2</th>\n",
       "      <th>d_3</th>\n",
       "      <th>d_4</th>\n",
       "      <th>...</th>\n",
       "      <th>d_1904</th>\n",
       "      <th>d_1905</th>\n",
       "      <th>d_1906</th>\n",
       "      <th>d_1907</th>\n",
       "      <th>d_1908</th>\n",
       "      <th>d_1909</th>\n",
       "      <th>d_1910</th>\n",
       "      <th>d_1911</th>\n",
       "      <th>d_1912</th>\n",
       "      <th>d_1913</th>\n",
       "    </tr>\n",
       "  </thead>\n",
       "  <tbody>\n",
       "    <tr>\n",
       "      <th>0</th>\n",
       "      <td>HOBBIES_1_001_CA_1_validation</td>\n",
       "      <td>HOBBIES_1_001</td>\n",
       "      <td>HOBBIES_1</td>\n",
       "      <td>HOBBIES</td>\n",
       "      <td>CA_1</td>\n",
       "      <td>CA</td>\n",
       "      <td>0</td>\n",
       "      <td>0</td>\n",
       "      <td>0</td>\n",
       "      <td>0</td>\n",
       "      <td>...</td>\n",
       "      <td>1</td>\n",
       "      <td>3</td>\n",
       "      <td>0</td>\n",
       "      <td>1</td>\n",
       "      <td>1</td>\n",
       "      <td>1</td>\n",
       "      <td>3</td>\n",
       "      <td>0</td>\n",
       "      <td>1</td>\n",
       "      <td>1</td>\n",
       "    </tr>\n",
       "    <tr>\n",
       "      <th>1</th>\n",
       "      <td>HOBBIES_1_002_CA_1_validation</td>\n",
       "      <td>HOBBIES_1_002</td>\n",
       "      <td>HOBBIES_1</td>\n",
       "      <td>HOBBIES</td>\n",
       "      <td>CA_1</td>\n",
       "      <td>CA</td>\n",
       "      <td>0</td>\n",
       "      <td>0</td>\n",
       "      <td>0</td>\n",
       "      <td>0</td>\n",
       "      <td>...</td>\n",
       "      <td>0</td>\n",
       "      <td>0</td>\n",
       "      <td>0</td>\n",
       "      <td>0</td>\n",
       "      <td>0</td>\n",
       "      <td>1</td>\n",
       "      <td>0</td>\n",
       "      <td>0</td>\n",
       "      <td>0</td>\n",
       "      <td>0</td>\n",
       "    </tr>\n",
       "    <tr>\n",
       "      <th>2</th>\n",
       "      <td>HOBBIES_1_003_CA_1_validation</td>\n",
       "      <td>HOBBIES_1_003</td>\n",
       "      <td>HOBBIES_1</td>\n",
       "      <td>HOBBIES</td>\n",
       "      <td>CA_1</td>\n",
       "      <td>CA</td>\n",
       "      <td>0</td>\n",
       "      <td>0</td>\n",
       "      <td>0</td>\n",
       "      <td>0</td>\n",
       "      <td>...</td>\n",
       "      <td>2</td>\n",
       "      <td>1</td>\n",
       "      <td>2</td>\n",
       "      <td>1</td>\n",
       "      <td>1</td>\n",
       "      <td>1</td>\n",
       "      <td>0</td>\n",
       "      <td>1</td>\n",
       "      <td>1</td>\n",
       "      <td>1</td>\n",
       "    </tr>\n",
       "    <tr>\n",
       "      <th>3</th>\n",
       "      <td>HOBBIES_1_004_CA_1_validation</td>\n",
       "      <td>HOBBIES_1_004</td>\n",
       "      <td>HOBBIES_1</td>\n",
       "      <td>HOBBIES</td>\n",
       "      <td>CA_1</td>\n",
       "      <td>CA</td>\n",
       "      <td>0</td>\n",
       "      <td>0</td>\n",
       "      <td>0</td>\n",
       "      <td>0</td>\n",
       "      <td>...</td>\n",
       "      <td>1</td>\n",
       "      <td>0</td>\n",
       "      <td>5</td>\n",
       "      <td>4</td>\n",
       "      <td>1</td>\n",
       "      <td>0</td>\n",
       "      <td>1</td>\n",
       "      <td>3</td>\n",
       "      <td>7</td>\n",
       "      <td>2</td>\n",
       "    </tr>\n",
       "    <tr>\n",
       "      <th>4</th>\n",
       "      <td>HOBBIES_1_005_CA_1_validation</td>\n",
       "      <td>HOBBIES_1_005</td>\n",
       "      <td>HOBBIES_1</td>\n",
       "      <td>HOBBIES</td>\n",
       "      <td>CA_1</td>\n",
       "      <td>CA</td>\n",
       "      <td>0</td>\n",
       "      <td>0</td>\n",
       "      <td>0</td>\n",
       "      <td>0</td>\n",
       "      <td>...</td>\n",
       "      <td>2</td>\n",
       "      <td>1</td>\n",
       "      <td>1</td>\n",
       "      <td>0</td>\n",
       "      <td>1</td>\n",
       "      <td>1</td>\n",
       "      <td>2</td>\n",
       "      <td>2</td>\n",
       "      <td>2</td>\n",
       "      <td>4</td>\n",
       "    </tr>\n",
       "  </tbody>\n",
       "</table>\n",
       "<p>5 rows × 1919 columns</p>\n",
       "</div>"
      ],
      "text/plain": [
       "                              id        item_id    dept_id   cat_id store_id  \\\n",
       "0  HOBBIES_1_001_CA_1_validation  HOBBIES_1_001  HOBBIES_1  HOBBIES     CA_1   \n",
       "1  HOBBIES_1_002_CA_1_validation  HOBBIES_1_002  HOBBIES_1  HOBBIES     CA_1   \n",
       "2  HOBBIES_1_003_CA_1_validation  HOBBIES_1_003  HOBBIES_1  HOBBIES     CA_1   \n",
       "3  HOBBIES_1_004_CA_1_validation  HOBBIES_1_004  HOBBIES_1  HOBBIES     CA_1   \n",
       "4  HOBBIES_1_005_CA_1_validation  HOBBIES_1_005  HOBBIES_1  HOBBIES     CA_1   \n",
       "\n",
       "  state_id  d_1  d_2  d_3  d_4  ...  d_1904  d_1905  d_1906  d_1907  d_1908  \\\n",
       "0       CA    0    0    0    0  ...       1       3       0       1       1   \n",
       "1       CA    0    0    0    0  ...       0       0       0       0       0   \n",
       "2       CA    0    0    0    0  ...       2       1       2       1       1   \n",
       "3       CA    0    0    0    0  ...       1       0       5       4       1   \n",
       "4       CA    0    0    0    0  ...       2       1       1       0       1   \n",
       "\n",
       "   d_1909  d_1910  d_1911  d_1912  d_1913  \n",
       "0       1       3       0       1       1  \n",
       "1       1       0       0       0       0  \n",
       "2       1       0       1       1       1  \n",
       "3       0       1       3       7       2  \n",
       "4       1       2       2       2       4  \n",
       "\n",
       "[5 rows x 1919 columns]"
      ]
     },
     "execution_count": 4,
     "metadata": {},
     "output_type": "execute_result"
    }
   ],
   "source": [
    "df_stv.head()"
   ]
  },
  {
   "cell_type": "markdown",
   "metadata": {},
   "source": [
    "* **It is quite clear now that the columns which start from d_ are representing days.**\n",
    "* **We need to convert those days into rows, so that we should be able to process them**"
   ]
  },
  {
   "cell_type": "markdown",
   "metadata": {},
   "source": [
    "### Checking for the Uniques "
   ]
  },
  {
   "cell_type": "code",
   "execution_count": 5,
   "metadata": {
    "tags": []
   },
   "outputs": [
    {
     "name": "stdout",
     "output_type": "stream",
     "text": [
      "Evaluation Dataset: \n",
      " id          30490\n",
      "item_id      3049\n",
      "store_id       10\n",
      "dtype: int64\n",
      "\n",
      "\n",
      "Validation Dataset: \n",
      " id          30490\n",
      "item_id      3049\n",
      "store_id       10\n",
      "dtype: int64\n"
     ]
    }
   ],
   "source": [
    "print('Evaluation Dataset: \\n', df_ste.agg({'id':'nunique','item_id':'nunique', 'store_id':'nunique'}))\n",
    "print('\\n')\n",
    "print('Validation Dataset: \\n', df_stv.agg({'id':'nunique','item_id':'nunique', 'store_id':'nunique'}))"
   ]
  },
  {
   "cell_type": "markdown",
   "metadata": {},
   "source": [
    "**So, the unique ID in both evaluation and validation is unique_item_id X unique_store_id**"
   ]
  },
  {
   "cell_type": "markdown",
   "metadata": {},
   "source": [
    "### Converting the Days in the Evaluation and Validation Datasets \n",
    "* The column format to be converted into row format"
   ]
  },
  {
   "cell_type": "code",
   "execution_count": 6,
   "metadata": {},
   "outputs": [],
   "source": [
    "df_ste_rows = df_ste.melt(\n",
    "id_vars=['id', 'item_id', 'dept_id', 'cat_id', 'store_id', 'state_id'],\n",
    "var_name ='d',\n",
    "value_name ='target'\n",
    ")\n",
    "\n",
    "df_stv_rows = df_stv.melt(\n",
    "id_vars=['id', 'item_id', 'dept_id', 'cat_id', 'store_id', 'state_id'],\n",
    "var_name ='d',\n",
    "value_name ='target'\n",
    ")"
   ]
  },
  {
   "cell_type": "code",
   "execution_count": 7,
   "metadata": {},
   "outputs": [
    {
     "data": {
      "text/html": [
       "<div>\n",
       "<style scoped>\n",
       "    .dataframe tbody tr th:only-of-type {\n",
       "        vertical-align: middle;\n",
       "    }\n",
       "\n",
       "    .dataframe tbody tr th {\n",
       "        vertical-align: top;\n",
       "    }\n",
       "\n",
       "    .dataframe thead th {\n",
       "        text-align: right;\n",
       "    }\n",
       "</style>\n",
       "<table border=\"1\" class=\"dataframe\">\n",
       "  <thead>\n",
       "    <tr style=\"text-align: right;\">\n",
       "      <th></th>\n",
       "      <th>id</th>\n",
       "      <th>item_id</th>\n",
       "      <th>dept_id</th>\n",
       "      <th>cat_id</th>\n",
       "      <th>store_id</th>\n",
       "      <th>state_id</th>\n",
       "      <th>d</th>\n",
       "      <th>target</th>\n",
       "    </tr>\n",
       "  </thead>\n",
       "  <tbody>\n",
       "    <tr>\n",
       "      <th>0</th>\n",
       "      <td>HOBBIES_1_001_CA_1_evaluation</td>\n",
       "      <td>HOBBIES_1_001</td>\n",
       "      <td>HOBBIES_1</td>\n",
       "      <td>HOBBIES</td>\n",
       "      <td>CA_1</td>\n",
       "      <td>CA</td>\n",
       "      <td>d_1</td>\n",
       "      <td>0</td>\n",
       "    </tr>\n",
       "    <tr>\n",
       "      <th>1</th>\n",
       "      <td>HOBBIES_1_002_CA_1_evaluation</td>\n",
       "      <td>HOBBIES_1_002</td>\n",
       "      <td>HOBBIES_1</td>\n",
       "      <td>HOBBIES</td>\n",
       "      <td>CA_1</td>\n",
       "      <td>CA</td>\n",
       "      <td>d_1</td>\n",
       "      <td>0</td>\n",
       "    </tr>\n",
       "    <tr>\n",
       "      <th>2</th>\n",
       "      <td>HOBBIES_1_003_CA_1_evaluation</td>\n",
       "      <td>HOBBIES_1_003</td>\n",
       "      <td>HOBBIES_1</td>\n",
       "      <td>HOBBIES</td>\n",
       "      <td>CA_1</td>\n",
       "      <td>CA</td>\n",
       "      <td>d_1</td>\n",
       "      <td>0</td>\n",
       "    </tr>\n",
       "    <tr>\n",
       "      <th>3</th>\n",
       "      <td>HOBBIES_1_004_CA_1_evaluation</td>\n",
       "      <td>HOBBIES_1_004</td>\n",
       "      <td>HOBBIES_1</td>\n",
       "      <td>HOBBIES</td>\n",
       "      <td>CA_1</td>\n",
       "      <td>CA</td>\n",
       "      <td>d_1</td>\n",
       "      <td>0</td>\n",
       "    </tr>\n",
       "    <tr>\n",
       "      <th>4</th>\n",
       "      <td>HOBBIES_1_005_CA_1_evaluation</td>\n",
       "      <td>HOBBIES_1_005</td>\n",
       "      <td>HOBBIES_1</td>\n",
       "      <td>HOBBIES</td>\n",
       "      <td>CA_1</td>\n",
       "      <td>CA</td>\n",
       "      <td>d_1</td>\n",
       "      <td>0</td>\n",
       "    </tr>\n",
       "  </tbody>\n",
       "</table>\n",
       "</div>"
      ],
      "text/plain": [
       "                              id        item_id    dept_id   cat_id store_id  \\\n",
       "0  HOBBIES_1_001_CA_1_evaluation  HOBBIES_1_001  HOBBIES_1  HOBBIES     CA_1   \n",
       "1  HOBBIES_1_002_CA_1_evaluation  HOBBIES_1_002  HOBBIES_1  HOBBIES     CA_1   \n",
       "2  HOBBIES_1_003_CA_1_evaluation  HOBBIES_1_003  HOBBIES_1  HOBBIES     CA_1   \n",
       "3  HOBBIES_1_004_CA_1_evaluation  HOBBIES_1_004  HOBBIES_1  HOBBIES     CA_1   \n",
       "4  HOBBIES_1_005_CA_1_evaluation  HOBBIES_1_005  HOBBIES_1  HOBBIES     CA_1   \n",
       "\n",
       "  state_id    d  target  \n",
       "0       CA  d_1       0  \n",
       "1       CA  d_1       0  \n",
       "2       CA  d_1       0  \n",
       "3       CA  d_1       0  \n",
       "4       CA  d_1       0  "
      ]
     },
     "execution_count": 7,
     "metadata": {},
     "output_type": "execute_result"
    }
   ],
   "source": [
    "df_ste_rows.head()"
   ]
  },
  {
   "cell_type": "code",
   "execution_count": 8,
   "metadata": {},
   "outputs": [
    {
     "name": "stdout",
     "output_type": "stream",
     "text": [
      "<class 'pandas.core.frame.DataFrame'>\n",
      "RangeIndex: 59181090 entries, 0 to 59181089\n",
      "Data columns (total 8 columns):\n",
      " #   Column    Dtype \n",
      "---  ------    ----- \n",
      " 0   id        object\n",
      " 1   item_id   object\n",
      " 2   dept_id   object\n",
      " 3   cat_id    object\n",
      " 4   store_id  object\n",
      " 5   state_id  object\n",
      " 6   d         object\n",
      " 7   target    int64 \n",
      "dtypes: int64(1), object(7)\n",
      "memory usage: 3.5+ GB\n"
     ]
    }
   ],
   "source": [
    "df_ste_rows.info()"
   ]
  },
  {
   "cell_type": "code",
   "execution_count": 9,
   "metadata": {},
   "outputs": [
    {
     "name": "stdout",
     "output_type": "stream",
     "text": [
      "<class 'pandas.core.frame.DataFrame'>\n",
      "RangeIndex: 58327370 entries, 0 to 58327369\n",
      "Data columns (total 8 columns):\n",
      " #   Column    Dtype \n",
      "---  ------    ----- \n",
      " 0   id        object\n",
      " 1   item_id   object\n",
      " 2   dept_id   object\n",
      " 3   cat_id    object\n",
      " 4   store_id  object\n",
      " 5   state_id  object\n",
      " 6   d         object\n",
      " 7   target    int64 \n",
      "dtypes: int64(1), object(7)\n",
      "memory usage: 3.5+ GB\n"
     ]
    }
   ],
   "source": [
    "df_stv_rows.info()"
   ]
  },
  {
   "cell_type": "code",
   "execution_count": 10,
   "metadata": {},
   "outputs": [
    {
     "name": "stdout",
     "output_type": "stream",
     "text": [
      "<class 'pandas.core.frame.DataFrame'>\n",
      "RangeIndex: 30490 entries, 0 to 30489\n",
      "Columns: 1947 entries, id to d_1941\n",
      "dtypes: int64(1941), object(6)\n",
      "memory usage: 452.9+ MB\n"
     ]
    }
   ],
   "source": [
    "df_ste.info()"
   ]
  },
  {
   "cell_type": "code",
   "execution_count": 11,
   "metadata": {},
   "outputs": [
    {
     "name": "stdout",
     "output_type": "stream",
     "text": [
      "<class 'pandas.core.frame.DataFrame'>\n",
      "RangeIndex: 30490 entries, 0 to 30489\n",
      "Columns: 1919 entries, id to d_1913\n",
      "dtypes: int64(1913), object(6)\n",
      "memory usage: 446.4+ MB\n"
     ]
    }
   ],
   "source": [
    "df_stv.info()"
   ]
  },
  {
   "cell_type": "markdown",
   "metadata": {},
   "source": [
    "**the colum d has a suffix d_ , we can remove that**"
   ]
  },
  {
   "cell_type": "code",
   "execution_count": 12,
   "metadata": {},
   "outputs": [],
   "source": [
    "df_ste_rows['d']   = df_ste_rows['d'].apply(lambda x: x.replace('d_',''))\n",
    "df_ste_rows['d']   = df_ste_rows['d'].astype('int16')\n",
    "\n",
    "df_stv_rows['d']   = df_stv_rows['d'].apply(lambda x: x.replace('d_',''))\n",
    "df_stv_rows['d']   = df_stv_rows['d'].astype('int16')"
   ]
  },
  {
   "cell_type": "markdown",
   "metadata": {},
   "source": [
    "**checking for the rows after conversion**"
   ]
  },
  {
   "cell_type": "code",
   "execution_count": 13,
   "metadata": {},
   "outputs": [
    {
     "data": {
      "text/plain": [
       "(59181090, 58327370, 30490, 30490)"
      ]
     },
     "execution_count": 13,
     "metadata": {},
     "output_type": "execute_result"
    }
   ],
   "source": [
    "len(df_ste_rows), len(df_stv_rows), len(df_ste), len(df_stv)"
   ]
  },
  {
   "cell_type": "code",
   "execution_count": 14,
   "metadata": {},
   "outputs": [
    {
     "data": {
      "text/plain": [
       "((59181090, 8), (58327370, 8))"
      ]
     },
     "execution_count": 14,
     "metadata": {},
     "output_type": "execute_result"
    }
   ],
   "source": [
    "df_ste_rows.shape, df_stv_rows.shape"
   ]
  },
  {
   "cell_type": "markdown",
   "metadata": {},
   "source": [
    "**as we can see that there are 60 million rows, we have to do some serious down casting here...**\n",
    "* I am also beginning to think that there must be a way to manage the data without having to do **melt**"
   ]
  },
  {
   "cell_type": "code",
   "execution_count": 15,
   "metadata": {},
   "outputs": [
    {
     "name": "stdout",
     "output_type": "stream",
     "text": [
      "<class 'pandas.core.frame.DataFrame'>\n",
      "RangeIndex: 59181090 entries, 0 to 59181089\n",
      "Data columns (total 8 columns):\n",
      " #   Column    Dtype \n",
      "---  ------    ----- \n",
      " 0   id        object\n",
      " 1   item_id   object\n",
      " 2   dept_id   object\n",
      " 3   cat_id    object\n",
      " 4   store_id  object\n",
      " 5   state_id  object\n",
      " 6   d         int16 \n",
      " 7   target    int64 \n",
      "dtypes: int16(1), int64(1), object(6)\n",
      "memory usage: 3.2+ GB\n"
     ]
    }
   ],
   "source": [
    "df_ste_rows.info()"
   ]
  },
  {
   "cell_type": "code",
   "execution_count": 16,
   "metadata": {},
   "outputs": [
    {
     "name": "stdout",
     "output_type": "stream",
     "text": [
      "<class 'pandas.core.frame.DataFrame'>\n",
      "RangeIndex: 58327370 entries, 0 to 58327369\n",
      "Data columns (total 8 columns):\n",
      " #   Column    Dtype \n",
      "---  ------    ----- \n",
      " 0   id        object\n",
      " 1   item_id   object\n",
      " 2   dept_id   object\n",
      " 3   cat_id    object\n",
      " 4   store_id  object\n",
      " 5   state_id  object\n",
      " 6   d         int16 \n",
      " 7   target    int64 \n",
      "dtypes: int16(1), int64(1), object(6)\n",
      "memory usage: 3.2+ GB\n"
     ]
    }
   ],
   "source": [
    "df_stv_rows.info()"
   ]
  },
  {
   "cell_type": "markdown",
   "metadata": {},
   "source": [
    "# Checking the difference between the Evaluation and Validation Sales data"
   ]
  },
  {
   "cell_type": "code",
   "execution_count": 17,
   "metadata": {},
   "outputs": [
    {
     "name": "stdout",
     "output_type": "stream",
     "text": [
      "Last day in evaluation: 1941 and last day in Validation: 1913, means 28 days more\n",
      "Evaluation Dataset , total sales for day 600 is 11513, While in Validation it is 11513\n",
      "max for validation is 1913 and max in evaluation is 1941\n",
      "total additional days in evaluation are 28\n"
     ]
    }
   ],
   "source": [
    "max_d_in_e = df_ste_rows.d.max()\n",
    "max_d_in_v = df_stv_rows.d.max()\n",
    "\n",
    "d = 600\n",
    "s = df_ste_rows[(df_ste_rows.d==d) & (df_ste_rows.state_id=='CA')]['target'].sum()\n",
    "t = df_stv_rows[(df_stv_rows.d==d) & (df_stv_rows.state_id=='CA')]['target'].sum()\n",
    "\n",
    "\n",
    "print(f'Last day in evaluation: {df_ste_rows.d.max()} and last day in Validation: {df_stv_rows.d.max()}, means 28 days more')\n",
    "print(f'Evaluation Dataset , total sales for day {d} is {s}, While in Validation it is {t}')\n",
    "print(f'max for validation is {max_d_in_v} and max in evaluation is {max_d_in_e}')\n",
    "print(f'total additional days in evaluation are {max_d_in_e - max_d_in_v}')"
   ]
  },
  {
   "cell_type": "markdown",
   "metadata": {},
   "source": [
    "**This means that both data sets are same, and we have to train our model on validation dataset, and** \n",
    "\n",
    "### Step-1\n",
    "* train our model on validation dataset which is until 1913\n",
    "* predict for  1913 + 28\n",
    "* evaluate the performance of our dataset from the evaluate dataset, as these dates are available.\n",
    "\n",
    "### Step-2 (final predictions)\n",
    "* train our model on evaluation dataset which is until 1941\n",
    "* predict for 1942 + 28\n",
    "* submit to kaggle\n",
    "\n",
    "<font color=red> Or rather we don't use the validation data at all, and extract (last 28 days) from evaluation for test</font>"
   ]
  },
  {
   "cell_type": "markdown",
   "metadata": {},
   "source": [
    "# Getting rid of validation data frame"
   ]
  },
  {
   "cell_type": "code",
   "execution_count": 18,
   "metadata": {},
   "outputs": [
    {
     "data": {
      "text/plain": [
       "20"
      ]
     },
     "execution_count": 18,
     "metadata": {},
     "output_type": "execute_result"
    }
   ],
   "source": [
    "del df_stv, df_stv_rows\n",
    "gc.collect()"
   ]
  },
  {
   "cell_type": "code",
   "execution_count": 19,
   "metadata": {},
   "outputs": [
    {
     "name": "stdout",
     "output_type": "stream",
     "text": [
      "<class 'pandas.core.frame.DataFrame'>\n",
      "RangeIndex: 59181090 entries, 0 to 59181089\n",
      "Data columns (total 8 columns):\n",
      " #   Column    Dtype \n",
      "---  ------    ----- \n",
      " 0   id        object\n",
      " 1   item_id   object\n",
      " 2   dept_id   object\n",
      " 3   cat_id    object\n",
      " 4   store_id  object\n",
      " 5   state_id  object\n",
      " 6   d         int16 \n",
      " 7   target    int64 \n",
      "dtypes: int16(1), int64(1), object(6)\n",
      "memory usage: 3.2+ GB\n"
     ]
    }
   ],
   "source": [
    "df_ste_rows.info()"
   ]
  },
  {
   "cell_type": "code",
   "execution_count": 20,
   "metadata": {},
   "outputs": [
    {
     "data": {
      "text/html": [
       "<div>\n",
       "<style scoped>\n",
       "    .dataframe tbody tr th:only-of-type {\n",
       "        vertical-align: middle;\n",
       "    }\n",
       "\n",
       "    .dataframe tbody tr th {\n",
       "        vertical-align: top;\n",
       "    }\n",
       "\n",
       "    .dataframe thead th {\n",
       "        text-align: right;\n",
       "    }\n",
       "</style>\n",
       "<table border=\"1\" class=\"dataframe\">\n",
       "  <thead>\n",
       "    <tr style=\"text-align: right;\">\n",
       "      <th></th>\n",
       "      <th>id</th>\n",
       "      <th>item_id</th>\n",
       "      <th>dept_id</th>\n",
       "      <th>cat_id</th>\n",
       "      <th>store_id</th>\n",
       "      <th>state_id</th>\n",
       "      <th>d</th>\n",
       "      <th>target</th>\n",
       "    </tr>\n",
       "  </thead>\n",
       "  <tbody>\n",
       "    <tr>\n",
       "      <th>0</th>\n",
       "      <td>HOBBIES_1_001_CA_1_evaluation</td>\n",
       "      <td>HOBBIES_1_001</td>\n",
       "      <td>HOBBIES_1</td>\n",
       "      <td>HOBBIES</td>\n",
       "      <td>CA_1</td>\n",
       "      <td>CA</td>\n",
       "      <td>1</td>\n",
       "      <td>0</td>\n",
       "    </tr>\n",
       "    <tr>\n",
       "      <th>1</th>\n",
       "      <td>HOBBIES_1_002_CA_1_evaluation</td>\n",
       "      <td>HOBBIES_1_002</td>\n",
       "      <td>HOBBIES_1</td>\n",
       "      <td>HOBBIES</td>\n",
       "      <td>CA_1</td>\n",
       "      <td>CA</td>\n",
       "      <td>1</td>\n",
       "      <td>0</td>\n",
       "    </tr>\n",
       "    <tr>\n",
       "      <th>2</th>\n",
       "      <td>HOBBIES_1_003_CA_1_evaluation</td>\n",
       "      <td>HOBBIES_1_003</td>\n",
       "      <td>HOBBIES_1</td>\n",
       "      <td>HOBBIES</td>\n",
       "      <td>CA_1</td>\n",
       "      <td>CA</td>\n",
       "      <td>1</td>\n",
       "      <td>0</td>\n",
       "    </tr>\n",
       "    <tr>\n",
       "      <th>3</th>\n",
       "      <td>HOBBIES_1_004_CA_1_evaluation</td>\n",
       "      <td>HOBBIES_1_004</td>\n",
       "      <td>HOBBIES_1</td>\n",
       "      <td>HOBBIES</td>\n",
       "      <td>CA_1</td>\n",
       "      <td>CA</td>\n",
       "      <td>1</td>\n",
       "      <td>0</td>\n",
       "    </tr>\n",
       "    <tr>\n",
       "      <th>4</th>\n",
       "      <td>HOBBIES_1_005_CA_1_evaluation</td>\n",
       "      <td>HOBBIES_1_005</td>\n",
       "      <td>HOBBIES_1</td>\n",
       "      <td>HOBBIES</td>\n",
       "      <td>CA_1</td>\n",
       "      <td>CA</td>\n",
       "      <td>1</td>\n",
       "      <td>0</td>\n",
       "    </tr>\n",
       "  </tbody>\n",
       "</table>\n",
       "</div>"
      ],
      "text/plain": [
       "                              id        item_id    dept_id   cat_id store_id  \\\n",
       "0  HOBBIES_1_001_CA_1_evaluation  HOBBIES_1_001  HOBBIES_1  HOBBIES     CA_1   \n",
       "1  HOBBIES_1_002_CA_1_evaluation  HOBBIES_1_002  HOBBIES_1  HOBBIES     CA_1   \n",
       "2  HOBBIES_1_003_CA_1_evaluation  HOBBIES_1_003  HOBBIES_1  HOBBIES     CA_1   \n",
       "3  HOBBIES_1_004_CA_1_evaluation  HOBBIES_1_004  HOBBIES_1  HOBBIES     CA_1   \n",
       "4  HOBBIES_1_005_CA_1_evaluation  HOBBIES_1_005  HOBBIES_1  HOBBIES     CA_1   \n",
       "\n",
       "  state_id  d  target  \n",
       "0       CA  1       0  \n",
       "1       CA  1       0  \n",
       "2       CA  1       0  \n",
       "3       CA  1       0  \n",
       "4       CA  1       0  "
      ]
     },
     "execution_count": 20,
     "metadata": {},
     "output_type": "execute_result"
    }
   ],
   "source": [
    "df_ste_rows.head()"
   ]
  },
  {
   "cell_type": "markdown",
   "metadata": {},
   "source": [
    "### Down casting"
   ]
  },
  {
   "cell_type": "code",
   "execution_count": 21,
   "metadata": {},
   "outputs": [
    {
     "data": {
      "text/plain": [
       "(1941, 763)"
      ]
     },
     "execution_count": 21,
     "metadata": {},
     "output_type": "execute_result"
    }
   ],
   "source": [
    "df_ste_rows.d.max(), df_ste_rows.target.max()"
   ]
  },
  {
   "cell_type": "code",
   "execution_count": 22,
   "metadata": {},
   "outputs": [
    {
     "data": {
      "text/plain": [
       "80"
      ]
     },
     "execution_count": 22,
     "metadata": {},
     "output_type": "execute_result"
    }
   ],
   "source": [
    "df_ste_rows.d   = df_ste_rows.d.astype('int16')\n",
    "df_ste_rows.target   = df_ste_rows.target.astype('int16')\n",
    "gc.collect()"
   ]
  },
  {
   "cell_type": "code",
   "execution_count": 23,
   "metadata": {},
   "outputs": [
    {
     "name": "stdout",
     "output_type": "stream",
     "text": [
      "<class 'pandas.core.frame.DataFrame'>\n",
      "RangeIndex: 59181090 entries, 0 to 59181089\n",
      "Data columns (total 8 columns):\n",
      " #   Column    Dtype \n",
      "---  ------    ----- \n",
      " 0   id        object\n",
      " 1   item_id   object\n",
      " 2   dept_id   object\n",
      " 3   cat_id    object\n",
      " 4   store_id  object\n",
      " 5   state_id  object\n",
      " 6   d         int16 \n",
      " 7   target    int16 \n",
      "dtypes: int16(2), object(6)\n",
      "memory usage: 2.9+ GB\n"
     ]
    }
   ],
   "source": [
    "df_ste_rows.info()"
   ]
  },
  {
   "cell_type": "markdown",
   "metadata": {},
   "source": [
    "### Analyzing for Calendar"
   ]
  },
  {
   "cell_type": "code",
   "execution_count": 24,
   "metadata": {},
   "outputs": [
    {
     "data": {
      "text/html": [
       "<div>\n",
       "<style scoped>\n",
       "    .dataframe tbody tr th:only-of-type {\n",
       "        vertical-align: middle;\n",
       "    }\n",
       "\n",
       "    .dataframe tbody tr th {\n",
       "        vertical-align: top;\n",
       "    }\n",
       "\n",
       "    .dataframe thead th {\n",
       "        text-align: right;\n",
       "    }\n",
       "</style>\n",
       "<table border=\"1\" class=\"dataframe\">\n",
       "  <thead>\n",
       "    <tr style=\"text-align: right;\">\n",
       "      <th></th>\n",
       "      <th>date</th>\n",
       "      <th>wm_yr_wk</th>\n",
       "      <th>weekday</th>\n",
       "      <th>wday</th>\n",
       "      <th>month</th>\n",
       "      <th>year</th>\n",
       "      <th>d</th>\n",
       "      <th>event_name_1</th>\n",
       "      <th>event_type_1</th>\n",
       "      <th>event_name_2</th>\n",
       "      <th>event_type_2</th>\n",
       "      <th>snap_CA</th>\n",
       "      <th>snap_TX</th>\n",
       "      <th>snap_WI</th>\n",
       "    </tr>\n",
       "  </thead>\n",
       "  <tbody>\n",
       "    <tr>\n",
       "      <th>0</th>\n",
       "      <td>2011-01-29</td>\n",
       "      <td>11101</td>\n",
       "      <td>Saturday</td>\n",
       "      <td>1</td>\n",
       "      <td>1</td>\n",
       "      <td>2011</td>\n",
       "      <td>d_1</td>\n",
       "      <td>NaN</td>\n",
       "      <td>NaN</td>\n",
       "      <td>NaN</td>\n",
       "      <td>NaN</td>\n",
       "      <td>0</td>\n",
       "      <td>0</td>\n",
       "      <td>0</td>\n",
       "    </tr>\n",
       "    <tr>\n",
       "      <th>1</th>\n",
       "      <td>2011-01-30</td>\n",
       "      <td>11101</td>\n",
       "      <td>Sunday</td>\n",
       "      <td>2</td>\n",
       "      <td>1</td>\n",
       "      <td>2011</td>\n",
       "      <td>d_2</td>\n",
       "      <td>NaN</td>\n",
       "      <td>NaN</td>\n",
       "      <td>NaN</td>\n",
       "      <td>NaN</td>\n",
       "      <td>0</td>\n",
       "      <td>0</td>\n",
       "      <td>0</td>\n",
       "    </tr>\n",
       "    <tr>\n",
       "      <th>2</th>\n",
       "      <td>2011-01-31</td>\n",
       "      <td>11101</td>\n",
       "      <td>Monday</td>\n",
       "      <td>3</td>\n",
       "      <td>1</td>\n",
       "      <td>2011</td>\n",
       "      <td>d_3</td>\n",
       "      <td>NaN</td>\n",
       "      <td>NaN</td>\n",
       "      <td>NaN</td>\n",
       "      <td>NaN</td>\n",
       "      <td>0</td>\n",
       "      <td>0</td>\n",
       "      <td>0</td>\n",
       "    </tr>\n",
       "    <tr>\n",
       "      <th>3</th>\n",
       "      <td>2011-02-01</td>\n",
       "      <td>11101</td>\n",
       "      <td>Tuesday</td>\n",
       "      <td>4</td>\n",
       "      <td>2</td>\n",
       "      <td>2011</td>\n",
       "      <td>d_4</td>\n",
       "      <td>NaN</td>\n",
       "      <td>NaN</td>\n",
       "      <td>NaN</td>\n",
       "      <td>NaN</td>\n",
       "      <td>1</td>\n",
       "      <td>1</td>\n",
       "      <td>0</td>\n",
       "    </tr>\n",
       "    <tr>\n",
       "      <th>4</th>\n",
       "      <td>2011-02-02</td>\n",
       "      <td>11101</td>\n",
       "      <td>Wednesday</td>\n",
       "      <td>5</td>\n",
       "      <td>2</td>\n",
       "      <td>2011</td>\n",
       "      <td>d_5</td>\n",
       "      <td>NaN</td>\n",
       "      <td>NaN</td>\n",
       "      <td>NaN</td>\n",
       "      <td>NaN</td>\n",
       "      <td>1</td>\n",
       "      <td>0</td>\n",
       "      <td>1</td>\n",
       "    </tr>\n",
       "  </tbody>\n",
       "</table>\n",
       "</div>"
      ],
      "text/plain": [
       "        date  wm_yr_wk    weekday  wday  month  year    d event_name_1  \\\n",
       "0 2011-01-29     11101   Saturday     1      1  2011  d_1          NaN   \n",
       "1 2011-01-30     11101     Sunday     2      1  2011  d_2          NaN   \n",
       "2 2011-01-31     11101     Monday     3      1  2011  d_3          NaN   \n",
       "3 2011-02-01     11101    Tuesday     4      2  2011  d_4          NaN   \n",
       "4 2011-02-02     11101  Wednesday     5      2  2011  d_5          NaN   \n",
       "\n",
       "  event_type_1 event_name_2 event_type_2  snap_CA  snap_TX  snap_WI  \n",
       "0          NaN          NaN          NaN        0        0        0  \n",
       "1          NaN          NaN          NaN        0        0        0  \n",
       "2          NaN          NaN          NaN        0        0        0  \n",
       "3          NaN          NaN          NaN        1        1        0  \n",
       "4          NaN          NaN          NaN        1        0        1  "
      ]
     },
     "execution_count": 24,
     "metadata": {},
     "output_type": "execute_result"
    }
   ],
   "source": [
    "df_calander.head()"
   ]
  },
  {
   "cell_type": "code",
   "execution_count": 25,
   "metadata": {},
   "outputs": [
    {
     "data": {
      "text/plain": [
       "1969"
      ]
     },
     "execution_count": 25,
     "metadata": {},
     "output_type": "execute_result"
    }
   ],
   "source": [
    "len(df_calander)"
   ]
  },
  {
   "cell_type": "code",
   "execution_count": 26,
   "metadata": {},
   "outputs": [
    {
     "name": "stdout",
     "output_type": "stream",
     "text": [
      "We have  53  weeks in 2015\n",
      "\n"
     ]
    },
    {
     "data": {
      "text/plain": [
       "array([11448, 11449, 11450, 11451, 11452, 11501, 11502, 11503, 11504,\n",
       "       11505, 11506, 11507, 11508, 11509, 11510, 11511, 11512, 11513,\n",
       "       11514, 11515, 11516, 11517, 11518, 11519, 11520, 11521, 11522,\n",
       "       11523, 11524, 11525, 11526, 11527, 11528, 11529, 11530, 11531,\n",
       "       11532, 11533, 11534, 11535, 11536, 11537, 11538, 11539, 11540,\n",
       "       11541, 11542, 11543, 11544, 11545, 11546, 11547, 11548],\n",
       "      dtype=int64)"
      ]
     },
     "execution_count": 26,
     "metadata": {},
     "output_type": "execute_result"
    }
   ],
   "source": [
    "total_weeks_2015 = df_calander[df_calander.year==2017]['wm_yr_wk'].sort_values().nunique()\n",
    "print('We have ',df_calander[df_calander.year==2015]['wm_yr_wk'].sort_values().nunique(), ' weeks in 2015\\n')\n",
    "df_calander[df_calander.year==2015]['wm_yr_wk'].sort_values().unique()"
   ]
  },
  {
   "cell_type": "code",
   "execution_count": 27,
   "metadata": {},
   "outputs": [
    {
     "data": {
      "text/html": [
       "<div>\n",
       "<style scoped>\n",
       "    .dataframe tbody tr th:only-of-type {\n",
       "        vertical-align: middle;\n",
       "    }\n",
       "\n",
       "    .dataframe tbody tr th {\n",
       "        vertical-align: top;\n",
       "    }\n",
       "\n",
       "    .dataframe thead th {\n",
       "        text-align: right;\n",
       "    }\n",
       "</style>\n",
       "<table border=\"1\" class=\"dataframe\">\n",
       "  <thead>\n",
       "    <tr style=\"text-align: right;\">\n",
       "      <th></th>\n",
       "      <th>date</th>\n",
       "      <th>wm_yr_wk</th>\n",
       "      <th>weekday</th>\n",
       "      <th>wday</th>\n",
       "      <th>month</th>\n",
       "      <th>year</th>\n",
       "      <th>d</th>\n",
       "      <th>event_name_1</th>\n",
       "      <th>event_type_1</th>\n",
       "      <th>event_name_2</th>\n",
       "      <th>event_type_2</th>\n",
       "      <th>snap_CA</th>\n",
       "      <th>snap_TX</th>\n",
       "      <th>snap_WI</th>\n",
       "    </tr>\n",
       "  </thead>\n",
       "  <tbody>\n",
       "    <tr>\n",
       "      <th>1505</th>\n",
       "      <td>2015-03-14</td>\n",
       "      <td>11507</td>\n",
       "      <td>Saturday</td>\n",
       "      <td>1</td>\n",
       "      <td>3</td>\n",
       "      <td>2015</td>\n",
       "      <td>d_1506</td>\n",
       "      <td>NaN</td>\n",
       "      <td>NaN</td>\n",
       "      <td>NaN</td>\n",
       "      <td>NaN</td>\n",
       "      <td>0</td>\n",
       "      <td>0</td>\n",
       "      <td>1</td>\n",
       "    </tr>\n",
       "    <tr>\n",
       "      <th>1506</th>\n",
       "      <td>2015-03-15</td>\n",
       "      <td>11507</td>\n",
       "      <td>Sunday</td>\n",
       "      <td>2</td>\n",
       "      <td>3</td>\n",
       "      <td>2015</td>\n",
       "      <td>d_1507</td>\n",
       "      <td>NaN</td>\n",
       "      <td>NaN</td>\n",
       "      <td>NaN</td>\n",
       "      <td>NaN</td>\n",
       "      <td>0</td>\n",
       "      <td>1</td>\n",
       "      <td>1</td>\n",
       "    </tr>\n",
       "    <tr>\n",
       "      <th>1507</th>\n",
       "      <td>2015-03-16</td>\n",
       "      <td>11507</td>\n",
       "      <td>Monday</td>\n",
       "      <td>3</td>\n",
       "      <td>3</td>\n",
       "      <td>2015</td>\n",
       "      <td>d_1508</td>\n",
       "      <td>NaN</td>\n",
       "      <td>NaN</td>\n",
       "      <td>NaN</td>\n",
       "      <td>NaN</td>\n",
       "      <td>0</td>\n",
       "      <td>0</td>\n",
       "      <td>0</td>\n",
       "    </tr>\n",
       "    <tr>\n",
       "      <th>1508</th>\n",
       "      <td>2015-03-17</td>\n",
       "      <td>11507</td>\n",
       "      <td>Tuesday</td>\n",
       "      <td>4</td>\n",
       "      <td>3</td>\n",
       "      <td>2015</td>\n",
       "      <td>d_1509</td>\n",
       "      <td>StPatricksDay</td>\n",
       "      <td>Cultural</td>\n",
       "      <td>NaN</td>\n",
       "      <td>NaN</td>\n",
       "      <td>0</td>\n",
       "      <td>0</td>\n",
       "      <td>0</td>\n",
       "    </tr>\n",
       "    <tr>\n",
       "      <th>1509</th>\n",
       "      <td>2015-03-18</td>\n",
       "      <td>11507</td>\n",
       "      <td>Wednesday</td>\n",
       "      <td>5</td>\n",
       "      <td>3</td>\n",
       "      <td>2015</td>\n",
       "      <td>d_1510</td>\n",
       "      <td>NaN</td>\n",
       "      <td>NaN</td>\n",
       "      <td>NaN</td>\n",
       "      <td>NaN</td>\n",
       "      <td>0</td>\n",
       "      <td>0</td>\n",
       "      <td>0</td>\n",
       "    </tr>\n",
       "    <tr>\n",
       "      <th>1510</th>\n",
       "      <td>2015-03-19</td>\n",
       "      <td>11507</td>\n",
       "      <td>Thursday</td>\n",
       "      <td>6</td>\n",
       "      <td>3</td>\n",
       "      <td>2015</td>\n",
       "      <td>d_1511</td>\n",
       "      <td>NaN</td>\n",
       "      <td>NaN</td>\n",
       "      <td>NaN</td>\n",
       "      <td>NaN</td>\n",
       "      <td>0</td>\n",
       "      <td>0</td>\n",
       "      <td>0</td>\n",
       "    </tr>\n",
       "    <tr>\n",
       "      <th>1511</th>\n",
       "      <td>2015-03-20</td>\n",
       "      <td>11507</td>\n",
       "      <td>Friday</td>\n",
       "      <td>7</td>\n",
       "      <td>3</td>\n",
       "      <td>2015</td>\n",
       "      <td>d_1512</td>\n",
       "      <td>NaN</td>\n",
       "      <td>NaN</td>\n",
       "      <td>NaN</td>\n",
       "      <td>NaN</td>\n",
       "      <td>0</td>\n",
       "      <td>0</td>\n",
       "      <td>0</td>\n",
       "    </tr>\n",
       "  </tbody>\n",
       "</table>\n",
       "</div>"
      ],
      "text/plain": [
       "           date  wm_yr_wk    weekday  wday  month  year       d  \\\n",
       "1505 2015-03-14     11507   Saturday     1      3  2015  d_1506   \n",
       "1506 2015-03-15     11507     Sunday     2      3  2015  d_1507   \n",
       "1507 2015-03-16     11507     Monday     3      3  2015  d_1508   \n",
       "1508 2015-03-17     11507    Tuesday     4      3  2015  d_1509   \n",
       "1509 2015-03-18     11507  Wednesday     5      3  2015  d_1510   \n",
       "1510 2015-03-19     11507   Thursday     6      3  2015  d_1511   \n",
       "1511 2015-03-20     11507     Friday     7      3  2015  d_1512   \n",
       "\n",
       "       event_name_1 event_type_1 event_name_2 event_type_2  snap_CA  snap_TX  \\\n",
       "1505            NaN          NaN          NaN          NaN        0        0   \n",
       "1506            NaN          NaN          NaN          NaN        0        1   \n",
       "1507            NaN          NaN          NaN          NaN        0        0   \n",
       "1508  StPatricksDay     Cultural          NaN          NaN        0        0   \n",
       "1509            NaN          NaN          NaN          NaN        0        0   \n",
       "1510            NaN          NaN          NaN          NaN        0        0   \n",
       "1511            NaN          NaN          NaN          NaN        0        0   \n",
       "\n",
       "      snap_WI  \n",
       "1505        1  \n",
       "1506        1  \n",
       "1507        0  \n",
       "1508        0  \n",
       "1509        0  \n",
       "1510        0  \n",
       "1511        0  "
      ]
     },
     "execution_count": 27,
     "metadata": {},
     "output_type": "execute_result"
    }
   ],
   "source": [
    "df_calander[(df_calander.year==2015) &\n",
    "           (df_calander.wm_yr_wk==11507)]"
   ]
  },
  {
   "cell_type": "code",
   "execution_count": 28,
   "metadata": {},
   "outputs": [
    {
     "name": "stdout",
     "output_type": "stream",
     "text": [
      "So in california state, we had 19244 items sold on day 1443\n"
     ]
    }
   ],
   "source": [
    "t = df_ste_rows[(df_ste_rows.d==1443) & (df_ste_rows.state_id=='CA')]['target'].sum()\n",
    "print(f'So in california state, we had {t} items sold on day 1443')"
   ]
  },
  {
   "cell_type": "markdown",
   "metadata": {},
   "source": [
    "# snap\n",
    "\n",
    "There are 3 binary variables with a prefix \"snap_\" plus the state name.\n",
    "\n",
    "snapCA, snapTX, and snap_WI: A binary variable (0 or 1) indicating whether the stores of CA, TX or WI allow SNAP purchases on the examined date. 1 indicates that SNAP purchases are allowed.\n",
    "\n",
    "For those who is not familiar with SNAP like me;\n",
    "\"The United States federal government provides a nutrition assistance benefit called the Supplement Nutrition Assistance Program (SNAP). SNAP provides low income families and individuals with an Electronic Benefits Transfer debit card to purchase food products. In many states, the monetary benefits are dispersed to people across 10 days of the month and on each of these days 1/10 of the people will receive the benefit on their card.\"\n",
    "Source: https://www.fns.usda.gov/snap/supplemental-nutrition-assistance-program"
   ]
  },
  {
   "cell_type": "markdown",
   "metadata": {},
   "source": [
    "**there is not point in keeping a prefix of d_ with the d column as we all know that this is a day number sequence**"
   ]
  },
  {
   "cell_type": "code",
   "execution_count": 29,
   "metadata": {},
   "outputs": [
    {
     "data": {
      "text/plain": [
       "60"
      ]
     },
     "execution_count": 29,
     "metadata": {},
     "output_type": "execute_result"
    }
   ],
   "source": [
    "df_calander['d'] = df_calander['d'].apply(lambda x: x.replace('d_',''))\n",
    "df_calander['d'] = df_calander['d'].astype('int16')\n",
    "gc.collect()"
   ]
  },
  {
   "cell_type": "code",
   "execution_count": 30,
   "metadata": {},
   "outputs": [],
   "source": [
    "#but before deleting the date, we may add dofm (day of month)\n",
    "def get_d_of_m(col):\n",
    "    return col.day\n",
    "df_calander['dom'] = df_calander['date'].apply(get_d_of_m)"
   ]
  },
  {
   "cell_type": "code",
   "execution_count": 31,
   "metadata": {},
   "outputs": [
    {
     "data": {
      "text/html": [
       "<div>\n",
       "<style scoped>\n",
       "    .dataframe tbody tr th:only-of-type {\n",
       "        vertical-align: middle;\n",
       "    }\n",
       "\n",
       "    .dataframe tbody tr th {\n",
       "        vertical-align: top;\n",
       "    }\n",
       "\n",
       "    .dataframe thead th {\n",
       "        text-align: right;\n",
       "    }\n",
       "</style>\n",
       "<table border=\"1\" class=\"dataframe\">\n",
       "  <thead>\n",
       "    <tr style=\"text-align: right;\">\n",
       "      <th></th>\n",
       "      <th>date</th>\n",
       "      <th>dom</th>\n",
       "    </tr>\n",
       "  </thead>\n",
       "  <tbody>\n",
       "    <tr>\n",
       "      <th>0</th>\n",
       "      <td>2011-01-29</td>\n",
       "      <td>29</td>\n",
       "    </tr>\n",
       "    <tr>\n",
       "      <th>1</th>\n",
       "      <td>2011-01-30</td>\n",
       "      <td>30</td>\n",
       "    </tr>\n",
       "    <tr>\n",
       "      <th>2</th>\n",
       "      <td>2011-01-31</td>\n",
       "      <td>31</td>\n",
       "    </tr>\n",
       "    <tr>\n",
       "      <th>3</th>\n",
       "      <td>2011-02-01</td>\n",
       "      <td>1</td>\n",
       "    </tr>\n",
       "    <tr>\n",
       "      <th>4</th>\n",
       "      <td>2011-02-02</td>\n",
       "      <td>2</td>\n",
       "    </tr>\n",
       "    <tr>\n",
       "      <th>...</th>\n",
       "      <td>...</td>\n",
       "      <td>...</td>\n",
       "    </tr>\n",
       "    <tr>\n",
       "      <th>1964</th>\n",
       "      <td>2016-06-15</td>\n",
       "      <td>15</td>\n",
       "    </tr>\n",
       "    <tr>\n",
       "      <th>1965</th>\n",
       "      <td>2016-06-16</td>\n",
       "      <td>16</td>\n",
       "    </tr>\n",
       "    <tr>\n",
       "      <th>1966</th>\n",
       "      <td>2016-06-17</td>\n",
       "      <td>17</td>\n",
       "    </tr>\n",
       "    <tr>\n",
       "      <th>1967</th>\n",
       "      <td>2016-06-18</td>\n",
       "      <td>18</td>\n",
       "    </tr>\n",
       "    <tr>\n",
       "      <th>1968</th>\n",
       "      <td>2016-06-19</td>\n",
       "      <td>19</td>\n",
       "    </tr>\n",
       "  </tbody>\n",
       "</table>\n",
       "<p>1969 rows × 2 columns</p>\n",
       "</div>"
      ],
      "text/plain": [
       "           date  dom\n",
       "0    2011-01-29   29\n",
       "1    2011-01-30   30\n",
       "2    2011-01-31   31\n",
       "3    2011-02-01    1\n",
       "4    2011-02-02    2\n",
       "...         ...  ...\n",
       "1964 2016-06-15   15\n",
       "1965 2016-06-16   16\n",
       "1966 2016-06-17   17\n",
       "1967 2016-06-18   18\n",
       "1968 2016-06-19   19\n",
       "\n",
       "[1969 rows x 2 columns]"
      ]
     },
     "execution_count": 31,
     "metadata": {},
     "output_type": "execute_result"
    }
   ],
   "source": [
    "df_calander[['date','dom']]"
   ]
  },
  {
   "cell_type": "markdown",
   "metadata": {},
   "source": [
    "# Join Calendar and Sales (Evaluation)"
   ]
  },
  {
   "cell_type": "code",
   "execution_count": 32,
   "metadata": {},
   "outputs": [],
   "source": [
    "dfmain = df_ste_rows.merge(df_calander[['date','wm_yr_wk','wday','d','month','year','dom']], on=['d'], how='left')"
   ]
  },
  {
   "cell_type": "markdown",
   "metadata": {},
   "source": [
    "**Verifying the merge**"
   ]
  },
  {
   "cell_type": "code",
   "execution_count": 33,
   "metadata": {},
   "outputs": [
    {
     "name": "stdout",
     "output_type": "stream",
     "text": [
      "So in california state, we had 19244 items sold on day 1443\n"
     ]
    }
   ],
   "source": [
    "t = df_ste_rows[(df_ste_rows.d==1443) & (df_ste_rows.state_id=='CA')]['target'].sum()\n",
    "print(f'So in california state, we had {t} items sold on day 1443')"
   ]
  },
  {
   "cell_type": "code",
   "execution_count": 34,
   "metadata": {},
   "outputs": [
    {
     "name": "stdout",
     "output_type": "stream",
     "text": [
      "So in california state, we had 19244 items sold on day 1443\n"
     ]
    }
   ],
   "source": [
    "s = dfmain[(dfmain.d==1443) & (dfmain.state_id=='CA')]['target'].sum()\n",
    "print(f'So in california state, we had {s} items sold on day 1443')"
   ]
  },
  {
   "cell_type": "code",
   "execution_count": 35,
   "metadata": {},
   "outputs": [
    {
     "data": {
      "text/plain": [
       "100"
      ]
     },
     "execution_count": 35,
     "metadata": {},
     "output_type": "execute_result"
    }
   ],
   "source": [
    "# delete the unwanted data sets\n",
    "del df_ste,df_ste_rows, df_calander\n",
    "gc.collect()"
   ]
  },
  {
   "cell_type": "code",
   "execution_count": 36,
   "metadata": {},
   "outputs": [
    {
     "data": {
      "text/html": [
       "<div>\n",
       "<style scoped>\n",
       "    .dataframe tbody tr th:only-of-type {\n",
       "        vertical-align: middle;\n",
       "    }\n",
       "\n",
       "    .dataframe tbody tr th {\n",
       "        vertical-align: top;\n",
       "    }\n",
       "\n",
       "    .dataframe thead th {\n",
       "        text-align: right;\n",
       "    }\n",
       "</style>\n",
       "<table border=\"1\" class=\"dataframe\">\n",
       "  <thead>\n",
       "    <tr style=\"text-align: right;\">\n",
       "      <th></th>\n",
       "      <th>date</th>\n",
       "      <th>d</th>\n",
       "      <th>wm_yr_wk</th>\n",
       "      <th>dom</th>\n",
       "    </tr>\n",
       "  </thead>\n",
       "  <tbody>\n",
       "    <tr>\n",
       "      <th>43966580</th>\n",
       "      <td>2015-01-10</td>\n",
       "      <td>1443</td>\n",
       "      <td>11450</td>\n",
       "      <td>10</td>\n",
       "    </tr>\n",
       "  </tbody>\n",
       "</table>\n",
       "</div>"
      ],
      "text/plain": [
       "               date     d  wm_yr_wk  dom\n",
       "43966580 2015-01-10  1443     11450   10"
      ]
     },
     "execution_count": 36,
     "metadata": {},
     "output_type": "execute_result"
    }
   ],
   "source": [
    "dfmain[(dfmain.d==1443)][['date','d','wm_yr_wk','dom']].drop_duplicates()"
   ]
  },
  {
   "cell_type": "markdown",
   "metadata": {},
   "source": [
    "# Checking the Prices"
   ]
  },
  {
   "cell_type": "code",
   "execution_count": 37,
   "metadata": {},
   "outputs": [
    {
     "data": {
      "text/html": [
       "<div>\n",
       "<style scoped>\n",
       "    .dataframe tbody tr th:only-of-type {\n",
       "        vertical-align: middle;\n",
       "    }\n",
       "\n",
       "    .dataframe tbody tr th {\n",
       "        vertical-align: top;\n",
       "    }\n",
       "\n",
       "    .dataframe thead th {\n",
       "        text-align: right;\n",
       "    }\n",
       "</style>\n",
       "<table border=\"1\" class=\"dataframe\">\n",
       "  <thead>\n",
       "    <tr style=\"text-align: right;\">\n",
       "      <th></th>\n",
       "      <th>store_id</th>\n",
       "      <th>item_id</th>\n",
       "      <th>wm_yr_wk</th>\n",
       "      <th>sell_price</th>\n",
       "    </tr>\n",
       "  </thead>\n",
       "  <tbody>\n",
       "    <tr>\n",
       "      <th>0</th>\n",
       "      <td>CA_1</td>\n",
       "      <td>HOBBIES_1_001</td>\n",
       "      <td>11325</td>\n",
       "      <td>9.58</td>\n",
       "    </tr>\n",
       "    <tr>\n",
       "      <th>1</th>\n",
       "      <td>CA_1</td>\n",
       "      <td>HOBBIES_1_001</td>\n",
       "      <td>11326</td>\n",
       "      <td>9.58</td>\n",
       "    </tr>\n",
       "    <tr>\n",
       "      <th>2</th>\n",
       "      <td>CA_1</td>\n",
       "      <td>HOBBIES_1_001</td>\n",
       "      <td>11327</td>\n",
       "      <td>8.26</td>\n",
       "    </tr>\n",
       "    <tr>\n",
       "      <th>3</th>\n",
       "      <td>CA_1</td>\n",
       "      <td>HOBBIES_1_001</td>\n",
       "      <td>11328</td>\n",
       "      <td>8.26</td>\n",
       "    </tr>\n",
       "    <tr>\n",
       "      <th>4</th>\n",
       "      <td>CA_1</td>\n",
       "      <td>HOBBIES_1_001</td>\n",
       "      <td>11329</td>\n",
       "      <td>8.26</td>\n",
       "    </tr>\n",
       "  </tbody>\n",
       "</table>\n",
       "</div>"
      ],
      "text/plain": [
       "  store_id        item_id  wm_yr_wk  sell_price\n",
       "0     CA_1  HOBBIES_1_001     11325        9.58\n",
       "1     CA_1  HOBBIES_1_001     11326        9.58\n",
       "2     CA_1  HOBBIES_1_001     11327        8.26\n",
       "3     CA_1  HOBBIES_1_001     11328        8.26\n",
       "4     CA_1  HOBBIES_1_001     11329        8.26"
      ]
     },
     "execution_count": 37,
     "metadata": {},
     "output_type": "execute_result"
    }
   ],
   "source": [
    "df_prices.head()"
   ]
  },
  {
   "cell_type": "code",
   "execution_count": 38,
   "metadata": {},
   "outputs": [
    {
     "data": {
      "text/html": [
       "<div>\n",
       "<style scoped>\n",
       "    .dataframe tbody tr th:only-of-type {\n",
       "        vertical-align: middle;\n",
       "    }\n",
       "\n",
       "    .dataframe tbody tr th {\n",
       "        vertical-align: top;\n",
       "    }\n",
       "\n",
       "    .dataframe thead th {\n",
       "        text-align: right;\n",
       "    }\n",
       "</style>\n",
       "<table border=\"1\" class=\"dataframe\">\n",
       "  <thead>\n",
       "    <tr style=\"text-align: right;\">\n",
       "      <th></th>\n",
       "      <th>id</th>\n",
       "      <th>item_id</th>\n",
       "      <th>dept_id</th>\n",
       "      <th>cat_id</th>\n",
       "      <th>store_id</th>\n",
       "      <th>state_id</th>\n",
       "      <th>d</th>\n",
       "      <th>target</th>\n",
       "      <th>date</th>\n",
       "      <th>wm_yr_wk</th>\n",
       "      <th>wday</th>\n",
       "      <th>month</th>\n",
       "      <th>year</th>\n",
       "      <th>dom</th>\n",
       "    </tr>\n",
       "  </thead>\n",
       "  <tbody>\n",
       "    <tr>\n",
       "      <th>0</th>\n",
       "      <td>HOBBIES_1_001_CA_1_evaluation</td>\n",
       "      <td>HOBBIES_1_001</td>\n",
       "      <td>HOBBIES_1</td>\n",
       "      <td>HOBBIES</td>\n",
       "      <td>CA_1</td>\n",
       "      <td>CA</td>\n",
       "      <td>1</td>\n",
       "      <td>0</td>\n",
       "      <td>2011-01-29</td>\n",
       "      <td>11101</td>\n",
       "      <td>1</td>\n",
       "      <td>1</td>\n",
       "      <td>2011</td>\n",
       "      <td>29</td>\n",
       "    </tr>\n",
       "    <tr>\n",
       "      <th>1</th>\n",
       "      <td>HOBBIES_1_002_CA_1_evaluation</td>\n",
       "      <td>HOBBIES_1_002</td>\n",
       "      <td>HOBBIES_1</td>\n",
       "      <td>HOBBIES</td>\n",
       "      <td>CA_1</td>\n",
       "      <td>CA</td>\n",
       "      <td>1</td>\n",
       "      <td>0</td>\n",
       "      <td>2011-01-29</td>\n",
       "      <td>11101</td>\n",
       "      <td>1</td>\n",
       "      <td>1</td>\n",
       "      <td>2011</td>\n",
       "      <td>29</td>\n",
       "    </tr>\n",
       "    <tr>\n",
       "      <th>2</th>\n",
       "      <td>HOBBIES_1_003_CA_1_evaluation</td>\n",
       "      <td>HOBBIES_1_003</td>\n",
       "      <td>HOBBIES_1</td>\n",
       "      <td>HOBBIES</td>\n",
       "      <td>CA_1</td>\n",
       "      <td>CA</td>\n",
       "      <td>1</td>\n",
       "      <td>0</td>\n",
       "      <td>2011-01-29</td>\n",
       "      <td>11101</td>\n",
       "      <td>1</td>\n",
       "      <td>1</td>\n",
       "      <td>2011</td>\n",
       "      <td>29</td>\n",
       "    </tr>\n",
       "    <tr>\n",
       "      <th>3</th>\n",
       "      <td>HOBBIES_1_004_CA_1_evaluation</td>\n",
       "      <td>HOBBIES_1_004</td>\n",
       "      <td>HOBBIES_1</td>\n",
       "      <td>HOBBIES</td>\n",
       "      <td>CA_1</td>\n",
       "      <td>CA</td>\n",
       "      <td>1</td>\n",
       "      <td>0</td>\n",
       "      <td>2011-01-29</td>\n",
       "      <td>11101</td>\n",
       "      <td>1</td>\n",
       "      <td>1</td>\n",
       "      <td>2011</td>\n",
       "      <td>29</td>\n",
       "    </tr>\n",
       "    <tr>\n",
       "      <th>4</th>\n",
       "      <td>HOBBIES_1_005_CA_1_evaluation</td>\n",
       "      <td>HOBBIES_1_005</td>\n",
       "      <td>HOBBIES_1</td>\n",
       "      <td>HOBBIES</td>\n",
       "      <td>CA_1</td>\n",
       "      <td>CA</td>\n",
       "      <td>1</td>\n",
       "      <td>0</td>\n",
       "      <td>2011-01-29</td>\n",
       "      <td>11101</td>\n",
       "      <td>1</td>\n",
       "      <td>1</td>\n",
       "      <td>2011</td>\n",
       "      <td>29</td>\n",
       "    </tr>\n",
       "  </tbody>\n",
       "</table>\n",
       "</div>"
      ],
      "text/plain": [
       "                              id        item_id    dept_id   cat_id store_id  \\\n",
       "0  HOBBIES_1_001_CA_1_evaluation  HOBBIES_1_001  HOBBIES_1  HOBBIES     CA_1   \n",
       "1  HOBBIES_1_002_CA_1_evaluation  HOBBIES_1_002  HOBBIES_1  HOBBIES     CA_1   \n",
       "2  HOBBIES_1_003_CA_1_evaluation  HOBBIES_1_003  HOBBIES_1  HOBBIES     CA_1   \n",
       "3  HOBBIES_1_004_CA_1_evaluation  HOBBIES_1_004  HOBBIES_1  HOBBIES     CA_1   \n",
       "4  HOBBIES_1_005_CA_1_evaluation  HOBBIES_1_005  HOBBIES_1  HOBBIES     CA_1   \n",
       "\n",
       "  state_id  d  target       date  wm_yr_wk  wday  month  year  dom  \n",
       "0       CA  1       0 2011-01-29     11101     1      1  2011   29  \n",
       "1       CA  1       0 2011-01-29     11101     1      1  2011   29  \n",
       "2       CA  1       0 2011-01-29     11101     1      1  2011   29  \n",
       "3       CA  1       0 2011-01-29     11101     1      1  2011   29  \n",
       "4       CA  1       0 2011-01-29     11101     1      1  2011   29  "
      ]
     },
     "execution_count": 38,
     "metadata": {},
     "output_type": "execute_result"
    }
   ],
   "source": [
    "dfmain.head()"
   ]
  },
  {
   "cell_type": "markdown",
   "metadata": {},
   "source": [
    "**so, this is basically item prices on a particular week in a particular store**\n",
    "* We can easily join the item prices to the main data frame."
   ]
  },
  {
   "cell_type": "code",
   "execution_count": 39,
   "metadata": {},
   "outputs": [],
   "source": [
    "dfmain = dfmain.merge(df_prices, how='left', on=['store_id','item_id','wm_yr_wk'])"
   ]
  },
  {
   "cell_type": "code",
   "execution_count": 40,
   "metadata": {},
   "outputs": [
    {
     "name": "stdout",
     "output_type": "stream",
     "text": [
      "<class 'pandas.core.frame.DataFrame'>\n",
      "Int64Index: 59181090 entries, 0 to 59181089\n",
      "Data columns (total 15 columns):\n",
      " #   Column      Dtype         \n",
      "---  ------      -----         \n",
      " 0   id          object        \n",
      " 1   item_id     object        \n",
      " 2   dept_id     object        \n",
      " 3   cat_id      object        \n",
      " 4   store_id    object        \n",
      " 5   state_id    object        \n",
      " 6   d           int16         \n",
      " 7   target      int16         \n",
      " 8   date        datetime64[ns]\n",
      " 9   wm_yr_wk    int64         \n",
      " 10  wday        int64         \n",
      " 11  month       int64         \n",
      " 12  year        int64         \n",
      " 13  dom         int64         \n",
      " 14  sell_price  float64       \n",
      "dtypes: datetime64[ns](1), float64(1), int16(2), int64(5), object(6)\n",
      "memory usage: 6.4+ GB\n"
     ]
    }
   ],
   "source": [
    "dfmain.info()"
   ]
  },
  {
   "cell_type": "markdown",
   "metadata": {},
   "source": [
    "### Adding Group by for Item and store for lags\n",
    "\n",
    "* what is the sales of a particular item across the country on a particular day\n",
    "    * That will be used as a lagged feature\n",
    "* what is the performance of a particular department across the country on a particular day \n",
    "    * That too, can be used as a lagged feature"
   ]
  },
  {
   "cell_type": "code",
   "execution_count": 41,
   "metadata": {},
   "outputs": [],
   "source": [
    "# by item\n",
    "gb_item  = dfmain.groupby(['item_id','d'], as_index=False).target.sum()\n",
    "gb_item.rename(columns={'target':'target_item'}, inplace=True)    \n",
    "\n",
    "# by dept\n",
    "gb_dept  = dfmain.groupby(['dept_id','d'], as_index=False).target.sum()\n",
    "gb_dept.rename(columns={'target':'target_dept'}, inplace=True)    "
   ]
  },
  {
   "cell_type": "code",
   "execution_count": 42,
   "metadata": {},
   "outputs": [],
   "source": [
    "#adding the item groupped target and store groupped target as feature\n",
    "dfmain = dfmain.merge(gb_dept, how='left', on=['dept_id','d']).fillna(0)\n",
    "dfmain = dfmain.merge(gb_item, how='left', on=['item_id','d']).fillna(0)"
   ]
  },
  {
   "cell_type": "code",
   "execution_count": 43,
   "metadata": {},
   "outputs": [
    {
     "data": {
      "text/plain": [
       "20"
      ]
     },
     "execution_count": 43,
     "metadata": {},
     "output_type": "execute_result"
    }
   ],
   "source": [
    "del gb_dept, gb_item\n",
    "gc.collect()"
   ]
  },
  {
   "cell_type": "code",
   "execution_count": 44,
   "metadata": {},
   "outputs": [
    {
     "name": "stdout",
     "output_type": "stream",
     "text": [
      "<class 'pandas.core.frame.DataFrame'>\n",
      "Int64Index: 59181090 entries, 0 to 59181089\n",
      "Data columns (total 17 columns):\n",
      " #   Column       Dtype         \n",
      "---  ------       -----         \n",
      " 0   id           object        \n",
      " 1   item_id      object        \n",
      " 2   dept_id      object        \n",
      " 3   cat_id       object        \n",
      " 4   store_id     object        \n",
      " 5   state_id     object        \n",
      " 6   d            int16         \n",
      " 7   target       int16         \n",
      " 8   date         datetime64[ns]\n",
      " 9   wm_yr_wk     int64         \n",
      " 10  wday         int64         \n",
      " 11  month        int64         \n",
      " 12  year         int64         \n",
      " 13  dom          int64         \n",
      " 14  sell_price   float64       \n",
      " 15  target_dept  int16         \n",
      " 16  target_item  int16         \n",
      "dtypes: datetime64[ns](1), float64(1), int16(4), int64(5), object(6)\n",
      "memory usage: 6.6+ GB\n"
     ]
    }
   ],
   "source": [
    "dfmain.info()"
   ]
  },
  {
   "cell_type": "markdown",
   "metadata": {},
   "source": [
    "### down casting, label encoding and removing unwanted columns"
   ]
  },
  {
   "cell_type": "code",
   "execution_count": 45,
   "metadata": {},
   "outputs": [
    {
     "data": {
      "text/plain": [
       "(6, 2, 9, 3048)"
      ]
     },
     "execution_count": 45,
     "metadata": {},
     "output_type": "execute_result"
    }
   ],
   "source": [
    "#converting all the ids to label encoded values\n",
    "le = LabelEncoder()\n",
    "dfmain['dept_id_code'] = le.fit_transform(dfmain.dept_id)\n",
    "dfmain['cat_id_code'] = le.fit_transform(dfmain.cat_id)\n",
    "dfmain['store_id_code'] = le.fit_transform(dfmain.store_id)\n",
    "dfmain['state_id_code'] = le.fit_transform(dfmain.state_id)\n",
    "dfmain['item_id_code'] = le.fit_transform(dfmain.item_id)\n",
    "\n",
    "#deleting all such columns\n",
    "dfmain.drop(['dept_id','cat_id','store_id','state_id','item_id'], axis=1, inplace=True)\n",
    "\n",
    "dfmain.dept_id_code.max(), dfmain.cat_id_code.max(),dfmain.store_id_code.max(),dfmain.item_id_code.max()"
   ]
  },
  {
   "cell_type": "code",
   "execution_count": 46,
   "metadata": {},
   "outputs": [
    {
     "data": {
      "text/plain": [
       "3048"
      ]
     },
     "execution_count": 46,
     "metadata": {},
     "output_type": "execute_result"
    }
   ],
   "source": [
    "dfmain.item_id_code.max()"
   ]
  },
  {
   "cell_type": "code",
   "execution_count": 47,
   "metadata": {},
   "outputs": [],
   "source": [
    "dfmain.wm_yr_wk     = dfmain.wm_yr_wk.astype('int16')\n",
    "dfmain.wday         = dfmain.wday.astype('int8')\n",
    "dfmain.month        = dfmain.month.astype('int8')\n",
    "dfmain.year         = dfmain.year.astype('int16')\n",
    "dfmain.sell_price   = dfmain.sell_price.astype('float16')\n",
    "dfmain.dept_id_code = dfmain.dept_id_code.astype('int8')\n",
    "dfmain.cat_id_code  = dfmain.cat_id_code.astype('int8')\n",
    "dfmain.store_id_code= dfmain.store_id_code.astype('int8')\n",
    "dfmain.state_id_code= dfmain.state_id_code.astype('int8')\n",
    "dfmain.item_id_code = dfmain.item_id_code.astype('int16')\n",
    "dfmain.dom          = dfmain.dom.astype('int8')"
   ]
  },
  {
   "cell_type": "markdown",
   "metadata": {},
   "source": [
    "**delete the date as well, as it is not needed**"
   ]
  },
  {
   "cell_type": "code",
   "execution_count": 48,
   "metadata": {},
   "outputs": [],
   "source": [
    "dfmain.drop(['date'], inplace=True, axis=1)"
   ]
  },
  {
   "cell_type": "code",
   "execution_count": 49,
   "metadata": {},
   "outputs": [],
   "source": [
    "dfmain['sell_price'].fillna(0, inplace=True)"
   ]
  },
  {
   "cell_type": "code",
   "execution_count": 50,
   "metadata": {},
   "outputs": [
    {
     "name": "stdout",
     "output_type": "stream",
     "text": [
      "<class 'pandas.core.frame.DataFrame'>\n",
      "Int64Index: 59181090 entries, 0 to 59181089\n",
      "Data columns (total 16 columns):\n",
      " #   Column         Dtype  \n",
      "---  ------         -----  \n",
      " 0   id             object \n",
      " 1   d              int16  \n",
      " 2   target         int16  \n",
      " 3   wm_yr_wk       int16  \n",
      " 4   wday           int8   \n",
      " 5   month          int8   \n",
      " 6   year           int16  \n",
      " 7   dom            int8   \n",
      " 8   sell_price     float16\n",
      " 9   target_dept    int16  \n",
      " 10  target_item    int16  \n",
      " 11  dept_id_code   int8   \n",
      " 12  cat_id_code    int8   \n",
      " 13  store_id_code  int8   \n",
      " 14  state_id_code  int8   \n",
      " 15  item_id_code   int16  \n",
      "dtypes: float16(1), int16(7), int8(7), object(1)\n",
      "memory usage: 2.1+ GB\n"
     ]
    }
   ],
   "source": [
    "dfmain.info()"
   ]
  },
  {
   "cell_type": "code",
   "execution_count": 51,
   "metadata": {},
   "outputs": [
    {
     "data": {
      "text/plain": [
       "id               0\n",
       "d                0\n",
       "target           0\n",
       "wm_yr_wk         0\n",
       "wday             0\n",
       "month            0\n",
       "year             0\n",
       "dom              0\n",
       "sell_price       0\n",
       "target_dept      0\n",
       "target_item      0\n",
       "dept_id_code     0\n",
       "cat_id_code      0\n",
       "store_id_code    0\n",
       "state_id_code    0\n",
       "item_id_code     0\n",
       "dtype: int64"
      ]
     },
     "execution_count": 51,
     "metadata": {},
     "output_type": "execute_result"
    }
   ],
   "source": [
    "dfmain.isna().sum()"
   ]
  },
  {
   "cell_type": "markdown",
   "metadata": {},
   "source": [
    "# Preparing the Data for Training"
   ]
  },
  {
   "cell_type": "markdown",
   "metadata": {},
   "source": [
    "# Adding Means"
   ]
  },
  {
   "cell_type": "code",
   "execution_count": 52,
   "metadata": {},
   "outputs": [],
   "source": [
    "### Adding Means\n",
    "\n",
    "'''\n",
    "in future feature sets, we should be adding \n",
    "1 - store_state_target_mean \n",
    "2 - store_dept_target_mean etc \n",
    "3 - wday_target_mean\n",
    "4 - month_target_mean\n",
    "  - others\n",
    "'''\n",
    "\n",
    "def add_mean(dfmain, col):\n",
    "    mean_attrib = col + '_target_mean'\n",
    "    mean_values = dfmain.groupby(col).target.mean()\n",
    "    dfmain[mean_attrib] = dfmain[col].map(mean_values)\n",
    "    return dfmain"
   ]
  },
  {
   "cell_type": "code",
   "execution_count": 53,
   "metadata": {},
   "outputs": [],
   "source": [
    "dfmain = add_mean(dfmain,'store_id_code') # will not delete, as it is index column\n",
    "dfmain = add_mean(dfmain,'cat_id_code') # will DELETE, as we got the mean from it\n",
    "dfmain = add_mean(dfmain,'state_id_code') # will DELETE, as we got the mean from it\n",
    "dfmain = add_mean(dfmain,'item_id_code') # will not delete, as it is index column\n",
    "dfmain = add_mean(dfmain,'dept_id_code')# will DELETE, as we got the mean from it"
   ]
  },
  {
   "cell_type": "code",
   "execution_count": 54,
   "metadata": {},
   "outputs": [
    {
     "name": "stdout",
     "output_type": "stream",
     "text": [
      "<class 'pandas.core.frame.DataFrame'>\n",
      "Int64Index: 59181090 entries, 0 to 59181089\n",
      "Data columns (total 21 columns):\n",
      " #   Column                     Dtype  \n",
      "---  ------                     -----  \n",
      " 0   id                         object \n",
      " 1   d                          int16  \n",
      " 2   target                     int16  \n",
      " 3   wm_yr_wk                   int16  \n",
      " 4   wday                       int8   \n",
      " 5   month                      int8   \n",
      " 6   year                       int16  \n",
      " 7   dom                        int8   \n",
      " 8   sell_price                 float16\n",
      " 9   target_dept                int16  \n",
      " 10  target_item                int16  \n",
      " 11  dept_id_code               int8   \n",
      " 12  cat_id_code                int8   \n",
      " 13  store_id_code              int8   \n",
      " 14  state_id_code              int8   \n",
      " 15  item_id_code               int16  \n",
      " 16  store_id_code_target_mean  float64\n",
      " 17  cat_id_code_target_mean    float64\n",
      " 18  state_id_code_target_mean  float64\n",
      " 19  item_id_code_target_mean   float64\n",
      " 20  dept_id_code_target_mean   float64\n",
      "dtypes: float16(1), float64(5), int16(7), int8(7), object(1)\n",
      "memory usage: 4.4+ GB\n"
     ]
    }
   ],
   "source": [
    "dfmain.info()"
   ]
  },
  {
   "cell_type": "markdown",
   "metadata": {},
   "source": [
    "# <font color=red>Getting the records only for last 6 months </font>"
   ]
  },
  {
   "cell_type": "code",
   "execution_count": 55,
   "metadata": {},
   "outputs": [],
   "source": [
    "dfmain =dfmain[(dfmain.d > (dfmain.d.max() - 180))]"
   ]
  },
  {
   "cell_type": "code",
   "execution_count": 56,
   "metadata": {},
   "outputs": [
    {
     "name": "stdout",
     "output_type": "stream",
     "text": [
      "<class 'pandas.core.frame.DataFrame'>\n",
      "Int64Index: 5488200 entries, 53692890 to 59181089\n",
      "Data columns (total 21 columns):\n",
      " #   Column                     Dtype  \n",
      "---  ------                     -----  \n",
      " 0   id                         object \n",
      " 1   d                          int16  \n",
      " 2   target                     int16  \n",
      " 3   wm_yr_wk                   int16  \n",
      " 4   wday                       int8   \n",
      " 5   month                      int8   \n",
      " 6   year                       int16  \n",
      " 7   dom                        int8   \n",
      " 8   sell_price                 float16\n",
      " 9   target_dept                int16  \n",
      " 10  target_item                int16  \n",
      " 11  dept_id_code               int8   \n",
      " 12  cat_id_code                int8   \n",
      " 13  store_id_code              int8   \n",
      " 14  state_id_code              int8   \n",
      " 15  item_id_code               int16  \n",
      " 16  store_id_code_target_mean  float64\n",
      " 17  cat_id_code_target_mean    float64\n",
      " 18  state_id_code_target_mean  float64\n",
      " 19  item_id_code_target_mean   float64\n",
      " 20  dept_id_code_target_mean   float64\n",
      "dtypes: float16(1), float64(5), int16(7), int8(7), object(1)\n",
      "memory usage: 413.5+ MB\n"
     ]
    }
   ],
   "source": [
    "dfmain.info()"
   ]
  },
  {
   "cell_type": "code",
   "execution_count": 57,
   "metadata": {},
   "outputs": [
    {
     "data": {
      "text/html": [
       "<div>\n",
       "<style scoped>\n",
       "    .dataframe tbody tr th:only-of-type {\n",
       "        vertical-align: middle;\n",
       "    }\n",
       "\n",
       "    .dataframe tbody tr th {\n",
       "        vertical-align: top;\n",
       "    }\n",
       "\n",
       "    .dataframe thead th {\n",
       "        text-align: right;\n",
       "    }\n",
       "</style>\n",
       "<table border=\"1\" class=\"dataframe\">\n",
       "  <thead>\n",
       "    <tr style=\"text-align: right;\">\n",
       "      <th></th>\n",
       "      <th>store_id_code</th>\n",
       "      <th>store_id_code_target_mean</th>\n",
       "    </tr>\n",
       "  </thead>\n",
       "  <tbody>\n",
       "    <tr>\n",
       "      <th>53692890</th>\n",
       "      <td>0</td>\n",
       "      <td>1.323438</td>\n",
       "    </tr>\n",
       "    <tr>\n",
       "      <th>53695939</th>\n",
       "      <td>1</td>\n",
       "      <td>0.983151</td>\n",
       "    </tr>\n",
       "    <tr>\n",
       "      <th>53698988</th>\n",
       "      <td>2</td>\n",
       "      <td>1.920130</td>\n",
       "    </tr>\n",
       "    <tr>\n",
       "      <th>53702037</th>\n",
       "      <td>3</td>\n",
       "      <td>0.706735</td>\n",
       "    </tr>\n",
       "    <tr>\n",
       "      <th>53705086</th>\n",
       "      <td>4</td>\n",
       "      <td>0.961933</td>\n",
       "    </tr>\n",
       "    <tr>\n",
       "      <th>53708135</th>\n",
       "      <td>5</td>\n",
       "      <td>1.238511</td>\n",
       "    </tr>\n",
       "    <tr>\n",
       "      <th>53711184</th>\n",
       "      <td>6</td>\n",
       "      <td>1.048636</td>\n",
       "    </tr>\n",
       "    <tr>\n",
       "      <th>53714233</th>\n",
       "      <td>7</td>\n",
       "      <td>0.889052</td>\n",
       "    </tr>\n",
       "    <tr>\n",
       "      <th>53717282</th>\n",
       "      <td>8</td>\n",
       "      <td>1.131778</td>\n",
       "    </tr>\n",
       "    <tr>\n",
       "      <th>53720331</th>\n",
       "      <td>9</td>\n",
       "      <td>1.105515</td>\n",
       "    </tr>\n",
       "  </tbody>\n",
       "</table>\n",
       "</div>"
      ],
      "text/plain": [
       "          store_id_code  store_id_code_target_mean\n",
       "53692890              0                   1.323438\n",
       "53695939              1                   0.983151\n",
       "53698988              2                   1.920130\n",
       "53702037              3                   0.706735\n",
       "53705086              4                   0.961933\n",
       "53708135              5                   1.238511\n",
       "53711184              6                   1.048636\n",
       "53714233              7                   0.889052\n",
       "53717282              8                   1.131778\n",
       "53720331              9                   1.105515"
      ]
     },
     "execution_count": 57,
     "metadata": {},
     "output_type": "execute_result"
    }
   ],
   "source": [
    "dfmain[['store_id_code','store_id_code_target_mean']].drop_duplicates()"
   ]
  },
  {
   "cell_type": "code",
   "execution_count": 58,
   "metadata": {},
   "outputs": [
    {
     "data": {
      "text/html": [
       "<div>\n",
       "<style scoped>\n",
       "    .dataframe tbody tr th:only-of-type {\n",
       "        vertical-align: middle;\n",
       "    }\n",
       "\n",
       "    .dataframe tbody tr th {\n",
       "        vertical-align: top;\n",
       "    }\n",
       "\n",
       "    .dataframe thead th {\n",
       "        text-align: right;\n",
       "    }\n",
       "</style>\n",
       "<table border=\"1\" class=\"dataframe\">\n",
       "  <thead>\n",
       "    <tr style=\"text-align: right;\">\n",
       "      <th></th>\n",
       "      <th>cat_id_code</th>\n",
       "      <th>cat_id_code_target_mean</th>\n",
       "    </tr>\n",
       "  </thead>\n",
       "  <tbody>\n",
       "    <tr>\n",
       "      <th>53692890</th>\n",
       "      <td>1</td>\n",
       "      <td>0.569058</td>\n",
       "    </tr>\n",
       "    <tr>\n",
       "      <th>53693455</th>\n",
       "      <td>2</td>\n",
       "      <td>0.726498</td>\n",
       "    </tr>\n",
       "    <tr>\n",
       "      <th>53694502</th>\n",
       "      <td>0</td>\n",
       "      <td>1.646427</td>\n",
       "    </tr>\n",
       "  </tbody>\n",
       "</table>\n",
       "</div>"
      ],
      "text/plain": [
       "          cat_id_code  cat_id_code_target_mean\n",
       "53692890            1                 0.569058\n",
       "53693455            2                 0.726498\n",
       "53694502            0                 1.646427"
      ]
     },
     "execution_count": 58,
     "metadata": {},
     "output_type": "execute_result"
    }
   ],
   "source": [
    "dfmain[['cat_id_code','cat_id_code_target_mean']].drop_duplicates()"
   ]
  },
  {
   "cell_type": "code",
   "execution_count": 59,
   "metadata": {},
   "outputs": [
    {
     "data": {
      "text/html": [
       "<div>\n",
       "<style scoped>\n",
       "    .dataframe tbody tr th:only-of-type {\n",
       "        vertical-align: middle;\n",
       "    }\n",
       "\n",
       "    .dataframe tbody tr th {\n",
       "        vertical-align: top;\n",
       "    }\n",
       "\n",
       "    .dataframe thead th {\n",
       "        text-align: right;\n",
       "    }\n",
       "</style>\n",
       "<table border=\"1\" class=\"dataframe\">\n",
       "  <thead>\n",
       "    <tr style=\"text-align: right;\">\n",
       "      <th></th>\n",
       "      <th>dept_id_code</th>\n",
       "      <th>dept_id_code_target_mean</th>\n",
       "    </tr>\n",
       "  </thead>\n",
       "  <tbody>\n",
       "    <tr>\n",
       "      <th>53692890</th>\n",
       "      <td>3</td>\n",
       "      <td>0.705799</td>\n",
       "    </tr>\n",
       "    <tr>\n",
       "      <th>53693306</th>\n",
       "      <td>4</td>\n",
       "      <td>0.187284</td>\n",
       "    </tr>\n",
       "    <tr>\n",
       "      <th>53693455</th>\n",
       "      <td>5</td>\n",
       "      <td>1.135262</td>\n",
       "    </tr>\n",
       "    <tr>\n",
       "      <th>53693987</th>\n",
       "      <td>6</td>\n",
       "      <td>0.304241</td>\n",
       "    </tr>\n",
       "    <tr>\n",
       "      <th>53694502</th>\n",
       "      <td>0</td>\n",
       "      <td>1.238003</td>\n",
       "    </tr>\n",
       "    <tr>\n",
       "      <th>53694718</th>\n",
       "      <td>1</td>\n",
       "      <td>1.009041</td>\n",
       "    </tr>\n",
       "    <tr>\n",
       "      <th>53695116</th>\n",
       "      <td>2</td>\n",
       "      <td>2.061858</td>\n",
       "    </tr>\n",
       "  </tbody>\n",
       "</table>\n",
       "</div>"
      ],
      "text/plain": [
       "          dept_id_code  dept_id_code_target_mean\n",
       "53692890             3                  0.705799\n",
       "53693306             4                  0.187284\n",
       "53693455             5                  1.135262\n",
       "53693987             6                  0.304241\n",
       "53694502             0                  1.238003\n",
       "53694718             1                  1.009041\n",
       "53695116             2                  2.061858"
      ]
     },
     "execution_count": 59,
     "metadata": {},
     "output_type": "execute_result"
    }
   ],
   "source": [
    "dfmain[['dept_id_code','dept_id_code_target_mean']].drop_duplicates()"
   ]
  },
  {
   "cell_type": "code",
   "execution_count": 60,
   "metadata": {},
   "outputs": [
    {
     "data": {
      "text/plain": [
       "Index(['id', 'd', 'target', 'wm_yr_wk', 'wday', 'month', 'year', 'dom',\n",
       "       'sell_price', 'target_dept', 'target_item', 'dept_id_code',\n",
       "       'cat_id_code', 'store_id_code', 'state_id_code', 'item_id_code',\n",
       "       'store_id_code_target_mean', 'cat_id_code_target_mean',\n",
       "       'state_id_code_target_mean', 'item_id_code_target_mean',\n",
       "       'dept_id_code_target_mean'],\n",
       "      dtype='object')"
      ]
     },
     "execution_count": 60,
     "metadata": {},
     "output_type": "execute_result"
    }
   ],
   "source": [
    "dfmain.columns"
   ]
  },
  {
   "cell_type": "code",
   "execution_count": 61,
   "metadata": {},
   "outputs": [
    {
     "name": "stdout",
     "output_type": "stream",
     "text": [
      "<class 'pandas.core.frame.DataFrame'>\n",
      "Int64Index: 5488200 entries, 53692890 to 59181089\n",
      "Data columns (total 21 columns):\n",
      " #   Column                     Dtype  \n",
      "---  ------                     -----  \n",
      " 0   id                         object \n",
      " 1   d                          int16  \n",
      " 2   target                     int16  \n",
      " 3   wm_yr_wk                   int16  \n",
      " 4   wday                       int8   \n",
      " 5   month                      int8   \n",
      " 6   year                       int16  \n",
      " 7   dom                        int8   \n",
      " 8   sell_price                 float16\n",
      " 9   target_dept                int16  \n",
      " 10  target_item                int16  \n",
      " 11  dept_id_code               int8   \n",
      " 12  cat_id_code                int8   \n",
      " 13  store_id_code              int8   \n",
      " 14  state_id_code              int8   \n",
      " 15  item_id_code               int16  \n",
      " 16  store_id_code_target_mean  float64\n",
      " 17  cat_id_code_target_mean    float64\n",
      " 18  state_id_code_target_mean  float64\n",
      " 19  item_id_code_target_mean   float64\n",
      " 20  dept_id_code_target_mean   float64\n",
      "dtypes: float16(1), float64(5), int16(7), int8(7), object(1)\n",
      "memory usage: 413.5+ MB\n"
     ]
    }
   ],
   "source": [
    "dfmain.info()"
   ]
  },
  {
   "cell_type": "code",
   "execution_count": 62,
   "metadata": {},
   "outputs": [],
   "source": [
    "# drop the following attributes, since we've already added their means\n",
    "df_train = dfmain.drop(['cat_id_code','state_id_code','dept_id_code','wm_yr_wk','wday','sell_price'], axis=1)"
   ]
  },
  {
   "cell_type": "code",
   "execution_count": 63,
   "metadata": {},
   "outputs": [
    {
     "data": {
      "text/plain": [
       "40"
      ]
     },
     "execution_count": 63,
     "metadata": {},
     "output_type": "execute_result"
    }
   ],
   "source": [
    "del dfmain\n",
    "gc.collect()"
   ]
  },
  {
   "cell_type": "code",
   "execution_count": 64,
   "metadata": {},
   "outputs": [],
   "source": [
    "df_train.dept_id_code_target_mean = df_train.dept_id_code_target_mean.astype('float16')\n",
    "df_train.item_id_code_target_mean = df_train.item_id_code_target_mean.astype('float16')\n",
    "df_train.state_id_code_target_mean= df_train.state_id_code_target_mean.astype('float16')\n",
    "df_train.store_id_code_target_mean= df_train.store_id_code_target_mean.astype('float16')\n",
    "df_train.cat_id_code_target_mean  = df_train.cat_id_code_target_mean.astype('float16')"
   ]
  },
  {
   "cell_type": "code",
   "execution_count": 65,
   "metadata": {},
   "outputs": [
    {
     "data": {
      "text/plain": [
       "40"
      ]
     },
     "execution_count": 65,
     "metadata": {},
     "output_type": "execute_result"
    }
   ],
   "source": [
    "gc.collect()"
   ]
  },
  {
   "cell_type": "code",
   "execution_count": 66,
   "metadata": {},
   "outputs": [
    {
     "name": "stdout",
     "output_type": "stream",
     "text": [
      "<class 'pandas.core.frame.DataFrame'>\n",
      "Int64Index: 5488200 entries, 53692890 to 59181089\n",
      "Data columns (total 15 columns):\n",
      " #   Column                     Dtype  \n",
      "---  ------                     -----  \n",
      " 0   id                         object \n",
      " 1   d                          int16  \n",
      " 2   target                     int16  \n",
      " 3   month                      int8   \n",
      " 4   year                       int16  \n",
      " 5   dom                        int8   \n",
      " 6   target_dept                int16  \n",
      " 7   target_item                int16  \n",
      " 8   store_id_code              int8   \n",
      " 9   item_id_code               int16  \n",
      " 10  store_id_code_target_mean  float16\n",
      " 11  cat_id_code_target_mean    float16\n",
      " 12  state_id_code_target_mean  float16\n",
      " 13  item_id_code_target_mean   float16\n",
      " 14  dept_id_code_target_mean   float16\n",
      "dtypes: float16(5), int16(6), int8(3), object(1)\n",
      "memory usage: 214.6+ MB\n"
     ]
    }
   ],
   "source": [
    "df_train.info()"
   ]
  },
  {
   "cell_type": "code",
   "execution_count": 68,
   "metadata": {},
   "outputs": [],
   "source": [
    "# create three datasets\n",
    "#df_train = df_train.merge(df_tmp, on='id', how='inner')\n",
    "\n",
    "#let's go with all the data set and let's see what happens...anyways we are experimenting and learning\n",
    "#df_train = df_train[df_train.year > 2013] \n",
    "#df_tmp[(df_tmp.year==2015) & (df_tmp.dom==1)][['dom']].drop_duplicates\n",
    "'''\n",
    "one = df_tmp[(df_tmp.year==2015) & (df_tmp.dom==1)]['d'].count()\n",
    "two = df_tmp[(df_tmp.year==2015) & (df_tmp.dom==2)]['d'].count()\n",
    "three = df_tmp[(df_tmp.year==2015) & (df_tmp.dom==3)]['d'].count()\n",
    "\n",
    "four = df_tmp[(df_tmp.year==2015) & (df_tmp.dom==4)]['d'].count()\n",
    "five = df_tmp[(df_tmp.year==2015) & (df_tmp.dom==5)]['d'].count()\n",
    "six = df_tmp[(df_tmp.year==2015) & (df_tmp.dom==6)]['d'].count()\n",
    "\n",
    "one,two, three, four, five, six\n",
    "df_tmp['dom'].unique()\n",
    "'''\n",
    "pass"
   ]
  },
  {
   "cell_type": "code",
   "execution_count": 69,
   "metadata": {},
   "outputs": [
    {
     "data": {
      "text/plain": [
       "548820.0"
      ]
     },
     "execution_count": 69,
     "metadata": {},
     "output_type": "execute_result"
    }
   ],
   "source": [
    "len(df_train)/df_train['store_id_code'].nunique()"
   ]
  },
  {
   "cell_type": "code",
   "execution_count": 70,
   "metadata": {},
   "outputs": [],
   "source": [
    "def add_lags(df, shift_range,index_cols, lag_cols, exception_cols):\n",
    "    cols_to_rename = list(df.columns.difference(index_cols + exception_cols)) \n",
    "    \n",
    "    #print('Columns to rename : ',cols_to_rename)\n",
    "    \n",
    "    #print(index_cols + cols_to_rename)\n",
    "\n",
    "    for day_shift in tqdm_notebook(shift_range):\n",
    "        train_shift = df[index_cols + cols_to_rename].copy()\n",
    "        print('copied to train_shift')\n",
    "        train_shift['d'] = train_shift['d'] + day_shift\n",
    "        \n",
    "        print(f'performed the shifting of {day_shift}')\n",
    "\n",
    "        foo = lambda x: '{}_lag_{}'.format(x, day_shift) if x in cols_to_rename else x\n",
    "        train_shift = train_shift.rename(columns=foo)\n",
    "\n",
    "        df = pd.merge(df, train_shift, on=index_cols, how='left').fillna(0)\n",
    "        \n",
    "        print(f'performed the merge ---------{day_shift}--------------')\n",
    "        \n",
    "    return df"
   ]
  },
  {
   "cell_type": "markdown",
   "metadata": {},
   "source": [
    "**So the index columns where we will merge the lags will be**\n",
    "* d\n",
    "* item_id_code\n",
    "* store_id_code\n",
    "\n",
    "the obvious reason to chose these three is the fact that, id column is a concatenation of dept_id and store_id\n",
    "\n",
    "**while one thing, that I am not able to findout is that the id has either _validation or _evaluation suffix.**\n",
    "\n",
    "whether we are going to use _validation suffice in the id while submitting, I am not sure but once we submit it. "
   ]
  },
  {
   "cell_type": "code",
   "execution_count": 71,
   "metadata": {},
   "outputs": [
    {
     "data": {
      "text/plain": [
       "Index(['id', 'd', 'target', 'month', 'year', 'dom', 'target_dept',\n",
       "       'target_item', 'store_id_code', 'item_id_code',\n",
       "       'store_id_code_target_mean', 'cat_id_code_target_mean',\n",
       "       'state_id_code_target_mean', 'item_id_code_target_mean',\n",
       "       'dept_id_code_target_mean'],\n",
       "      dtype='object')"
      ]
     },
     "execution_count": 71,
     "metadata": {},
     "output_type": "execute_result"
    }
   ],
   "source": [
    "df_train.columns"
   ]
  },
  {
   "cell_type": "code",
   "execution_count": null,
   "metadata": {},
   "outputs": [],
   "source": [
    "# divide the columns to add the lags, that will be joined at a later stage\n",
    "'''\n",
    "tmp_columns = ['id', 'd','month', 'year', 'dom','store_id_code_target_mean', 'cat_id_code_target_mean',\n",
    "       'state_id_code_target_mean', 'item_id_code_target_mean',\n",
    "       'dept_id_code_target_mean','target_dept','target_item']\n",
    "\n",
    "df_tmp = df_train[tmp_columns]\n",
    "\n",
    "df_train.head(15)\n",
    "df_train.tail(15)\n",
    "df_tmp.info()\n",
    "df_train.drop(list(set(tmp_columns) - set(['id','d'])), axis=1, inplace=True)\n"
   ]
  },
  {
   "cell_type": "markdown",
   "metadata": {},
   "source": [
    "# Keeping on last 6 months"
   ]
  },
  {
   "cell_type": "markdown",
   "metadata": {},
   "source": [
    "**we will use later, the id column to merge df_train and df_tmp**"
   ]
  },
  {
   "cell_type": "code",
   "execution_count": 72,
   "metadata": {
    "scrolled": false
   },
   "outputs": [
    {
     "data": {
      "application/vnd.jupyter.widget-view+json": {
       "model_id": "4a82a00bb90f4e94ac95eb807ff95fa7",
       "version_major": 2,
       "version_minor": 0
      },
      "text/plain": [
       "HBox(children=(FloatProgress(value=0.0, max=28.0), HTML(value='')))"
      ]
     },
     "metadata": {},
     "output_type": "display_data"
    },
    {
     "name": "stdout",
     "output_type": "stream",
     "text": [
      "copied to train_shift\n",
      "performed the shifting of 1\n",
      "performed the merge ---------1--------------\n",
      "copied to train_shift\n",
      "performed the shifting of 2\n",
      "performed the merge ---------2--------------\n",
      "copied to train_shift\n",
      "performed the shifting of 3\n",
      "performed the merge ---------3--------------\n",
      "copied to train_shift\n",
      "performed the shifting of 4\n",
      "performed the merge ---------4--------------\n",
      "copied to train_shift\n",
      "performed the shifting of 5\n",
      "performed the merge ---------5--------------\n",
      "copied to train_shift\n",
      "performed the shifting of 6\n",
      "performed the merge ---------6--------------\n",
      "copied to train_shift\n",
      "performed the shifting of 7\n",
      "performed the merge ---------7--------------\n",
      "copied to train_shift\n",
      "performed the shifting of 8\n",
      "performed the merge ---------8--------------\n",
      "copied to train_shift\n",
      "performed the shifting of 9\n",
      "performed the merge ---------9--------------\n",
      "copied to train_shift\n",
      "performed the shifting of 10\n",
      "performed the merge ---------10--------------\n",
      "copied to train_shift\n",
      "performed the shifting of 11\n",
      "performed the merge ---------11--------------\n",
      "copied to train_shift\n",
      "performed the shifting of 12\n",
      "performed the merge ---------12--------------\n",
      "copied to train_shift\n",
      "performed the shifting of 13\n",
      "performed the merge ---------13--------------\n",
      "copied to train_shift\n",
      "performed the shifting of 14\n",
      "performed the merge ---------14--------------\n",
      "copied to train_shift\n",
      "performed the shifting of 15\n",
      "performed the merge ---------15--------------\n",
      "copied to train_shift\n",
      "performed the shifting of 16\n",
      "performed the merge ---------16--------------\n",
      "copied to train_shift\n",
      "performed the shifting of 17\n",
      "performed the merge ---------17--------------\n",
      "copied to train_shift\n",
      "performed the shifting of 18\n",
      "performed the merge ---------18--------------\n",
      "copied to train_shift\n",
      "performed the shifting of 19\n",
      "performed the merge ---------19--------------\n",
      "copied to train_shift\n",
      "performed the shifting of 20\n",
      "performed the merge ---------20--------------\n",
      "copied to train_shift\n",
      "performed the shifting of 21\n",
      "performed the merge ---------21--------------\n",
      "copied to train_shift\n",
      "performed the shifting of 22\n",
      "performed the merge ---------22--------------\n",
      "copied to train_shift\n",
      "performed the shifting of 23\n",
      "performed the merge ---------23--------------\n",
      "copied to train_shift\n",
      "performed the shifting of 24\n",
      "performed the merge ---------24--------------\n",
      "copied to train_shift\n",
      "performed the shifting of 25\n",
      "performed the merge ---------25--------------\n",
      "copied to train_shift\n",
      "performed the shifting of 26\n",
      "performed the merge ---------26--------------\n",
      "copied to train_shift\n",
      "performed the shifting of 27\n",
      "performed the merge ---------27--------------\n",
      "copied to train_shift\n",
      "performed the shifting of 28\n",
      "performed the merge ---------28--------------\n",
      "\n"
     ]
    }
   ],
   "source": [
    "mean_enc_cols = [col for col in df_train.columns if 'mean' in str(col)]\n",
    "exception_cols = mean_enc_cols + ['cat_id', 'date', 'day', 'id','sell_price', 'snap_CA', 'snap_TX', 'snap_WI',\n",
    "                                  'state_id', 'wday', 'wm_yr_wk','year','month','dom']\n",
    "\n",
    "index_cols = ['store_id_code','item_id_code','d']\n",
    "lag_cols = ['target']\n",
    "shift_range = [x for x in range(1,29)] # from 4 to 28\n",
    "\n",
    "#divide the dataframe to add the lags\n",
    "\n",
    "df_train = add_lags(df_train,shift_range,index_cols,lag_cols,exception_cols)"
   ]
  },
  {
   "cell_type": "code",
   "execution_count": 74,
   "metadata": {},
   "outputs": [
    {
     "data": {
      "text/html": [
       "<div>\n",
       "<style scoped>\n",
       "    .dataframe tbody tr th:only-of-type {\n",
       "        vertical-align: middle;\n",
       "    }\n",
       "\n",
       "    .dataframe tbody tr th {\n",
       "        vertical-align: top;\n",
       "    }\n",
       "\n",
       "    .dataframe thead th {\n",
       "        text-align: right;\n",
       "    }\n",
       "</style>\n",
       "<table border=\"1\" class=\"dataframe\">\n",
       "  <thead>\n",
       "    <tr style=\"text-align: right;\">\n",
       "      <th></th>\n",
       "      <th>d</th>\n",
       "      <th>target_dept</th>\n",
       "      <th>target_dept_lag_1</th>\n",
       "      <th>target_dept_lag_2</th>\n",
       "      <th>target_dept_lag_3</th>\n",
       "      <th>target_dept_lag_4</th>\n",
       "      <th>target_dept_lag_5</th>\n",
       "      <th>target_dept_lag_6</th>\n",
       "      <th>target_dept_lag_7</th>\n",
       "      <th>target_dept_lag_8</th>\n",
       "      <th>target_dept_lag_9</th>\n",
       "    </tr>\n",
       "  </thead>\n",
       "  <tbody>\n",
       "    <tr>\n",
       "      <th>4662</th>\n",
       "      <td>1762</td>\n",
       "      <td>2915</td>\n",
       "      <td>0.0</td>\n",
       "      <td>0.0</td>\n",
       "      <td>0.0</td>\n",
       "      <td>0.0</td>\n",
       "      <td>0.0</td>\n",
       "      <td>0.0</td>\n",
       "      <td>0.0</td>\n",
       "      <td>0.0</td>\n",
       "      <td>0.0</td>\n",
       "    </tr>\n",
       "    <tr>\n",
       "      <th>35152</th>\n",
       "      <td>1763</td>\n",
       "      <td>1715</td>\n",
       "      <td>2915.0</td>\n",
       "      <td>0.0</td>\n",
       "      <td>0.0</td>\n",
       "      <td>0.0</td>\n",
       "      <td>0.0</td>\n",
       "      <td>0.0</td>\n",
       "      <td>0.0</td>\n",
       "      <td>0.0</td>\n",
       "      <td>0.0</td>\n",
       "    </tr>\n",
       "    <tr>\n",
       "      <th>65642</th>\n",
       "      <td>1764</td>\n",
       "      <td>2737</td>\n",
       "      <td>1715.0</td>\n",
       "      <td>2915.0</td>\n",
       "      <td>0.0</td>\n",
       "      <td>0.0</td>\n",
       "      <td>0.0</td>\n",
       "      <td>0.0</td>\n",
       "      <td>0.0</td>\n",
       "      <td>0.0</td>\n",
       "      <td>0.0</td>\n",
       "    </tr>\n",
       "    <tr>\n",
       "      <th>96132</th>\n",
       "      <td>1765</td>\n",
       "      <td>2664</td>\n",
       "      <td>2737.0</td>\n",
       "      <td>1715.0</td>\n",
       "      <td>2915.0</td>\n",
       "      <td>0.0</td>\n",
       "      <td>0.0</td>\n",
       "      <td>0.0</td>\n",
       "      <td>0.0</td>\n",
       "      <td>0.0</td>\n",
       "      <td>0.0</td>\n",
       "    </tr>\n",
       "    <tr>\n",
       "      <th>126622</th>\n",
       "      <td>1766</td>\n",
       "      <td>2247</td>\n",
       "      <td>2664.0</td>\n",
       "      <td>2737.0</td>\n",
       "      <td>1715.0</td>\n",
       "      <td>2915.0</td>\n",
       "      <td>0.0</td>\n",
       "      <td>0.0</td>\n",
       "      <td>0.0</td>\n",
       "      <td>0.0</td>\n",
       "      <td>0.0</td>\n",
       "    </tr>\n",
       "    <tr>\n",
       "      <th>157112</th>\n",
       "      <td>1767</td>\n",
       "      <td>2169</td>\n",
       "      <td>2247.0</td>\n",
       "      <td>2664.0</td>\n",
       "      <td>2737.0</td>\n",
       "      <td>1715.0</td>\n",
       "      <td>2915.0</td>\n",
       "      <td>0.0</td>\n",
       "      <td>0.0</td>\n",
       "      <td>0.0</td>\n",
       "      <td>0.0</td>\n",
       "    </tr>\n",
       "    <tr>\n",
       "      <th>187602</th>\n",
       "      <td>1768</td>\n",
       "      <td>2795</td>\n",
       "      <td>2169.0</td>\n",
       "      <td>2247.0</td>\n",
       "      <td>2664.0</td>\n",
       "      <td>2737.0</td>\n",
       "      <td>1715.0</td>\n",
       "      <td>2915.0</td>\n",
       "      <td>0.0</td>\n",
       "      <td>0.0</td>\n",
       "      <td>0.0</td>\n",
       "    </tr>\n",
       "    <tr>\n",
       "      <th>218092</th>\n",
       "      <td>1769</td>\n",
       "      <td>2637</td>\n",
       "      <td>2795.0</td>\n",
       "      <td>2169.0</td>\n",
       "      <td>2247.0</td>\n",
       "      <td>2664.0</td>\n",
       "      <td>2737.0</td>\n",
       "      <td>1715.0</td>\n",
       "      <td>2915.0</td>\n",
       "      <td>0.0</td>\n",
       "      <td>0.0</td>\n",
       "    </tr>\n",
       "    <tr>\n",
       "      <th>248582</th>\n",
       "      <td>1770</td>\n",
       "      <td>3042</td>\n",
       "      <td>2637.0</td>\n",
       "      <td>2795.0</td>\n",
       "      <td>2169.0</td>\n",
       "      <td>2247.0</td>\n",
       "      <td>2664.0</td>\n",
       "      <td>2737.0</td>\n",
       "      <td>1715.0</td>\n",
       "      <td>2915.0</td>\n",
       "      <td>0.0</td>\n",
       "    </tr>\n",
       "    <tr>\n",
       "      <th>279072</th>\n",
       "      <td>1771</td>\n",
       "      <td>3270</td>\n",
       "      <td>3042.0</td>\n",
       "      <td>2637.0</td>\n",
       "      <td>2795.0</td>\n",
       "      <td>2169.0</td>\n",
       "      <td>2247.0</td>\n",
       "      <td>2664.0</td>\n",
       "      <td>2737.0</td>\n",
       "      <td>1715.0</td>\n",
       "      <td>2915.0</td>\n",
       "    </tr>\n",
       "    <tr>\n",
       "      <th>309562</th>\n",
       "      <td>1772</td>\n",
       "      <td>4295</td>\n",
       "      <td>3270.0</td>\n",
       "      <td>3042.0</td>\n",
       "      <td>2637.0</td>\n",
       "      <td>2795.0</td>\n",
       "      <td>2169.0</td>\n",
       "      <td>2247.0</td>\n",
       "      <td>2664.0</td>\n",
       "      <td>2737.0</td>\n",
       "      <td>1715.0</td>\n",
       "    </tr>\n",
       "    <tr>\n",
       "      <th>340052</th>\n",
       "      <td>1773</td>\n",
       "      <td>3650</td>\n",
       "      <td>4295.0</td>\n",
       "      <td>3270.0</td>\n",
       "      <td>3042.0</td>\n",
       "      <td>2637.0</td>\n",
       "      <td>2795.0</td>\n",
       "      <td>2169.0</td>\n",
       "      <td>2247.0</td>\n",
       "      <td>2664.0</td>\n",
       "      <td>2737.0</td>\n",
       "    </tr>\n",
       "    <tr>\n",
       "      <th>370542</th>\n",
       "      <td>1774</td>\n",
       "      <td>2624</td>\n",
       "      <td>3650.0</td>\n",
       "      <td>4295.0</td>\n",
       "      <td>3270.0</td>\n",
       "      <td>3042.0</td>\n",
       "      <td>2637.0</td>\n",
       "      <td>2795.0</td>\n",
       "      <td>2169.0</td>\n",
       "      <td>2247.0</td>\n",
       "      <td>2664.0</td>\n",
       "    </tr>\n",
       "    <tr>\n",
       "      <th>401032</th>\n",
       "      <td>1775</td>\n",
       "      <td>2687</td>\n",
       "      <td>2624.0</td>\n",
       "      <td>3650.0</td>\n",
       "      <td>4295.0</td>\n",
       "      <td>3270.0</td>\n",
       "      <td>3042.0</td>\n",
       "      <td>2637.0</td>\n",
       "      <td>2795.0</td>\n",
       "      <td>2169.0</td>\n",
       "      <td>2247.0</td>\n",
       "    </tr>\n",
       "    <tr>\n",
       "      <th>431522</th>\n",
       "      <td>1776</td>\n",
       "      <td>2698</td>\n",
       "      <td>2687.0</td>\n",
       "      <td>2624.0</td>\n",
       "      <td>3650.0</td>\n",
       "      <td>4295.0</td>\n",
       "      <td>3270.0</td>\n",
       "      <td>3042.0</td>\n",
       "      <td>2637.0</td>\n",
       "      <td>2795.0</td>\n",
       "      <td>2169.0</td>\n",
       "    </tr>\n",
       "  </tbody>\n",
       "</table>\n",
       "</div>"
      ],
      "text/plain": [
       "           d  target_dept  target_dept_lag_1  target_dept_lag_2  \\\n",
       "4662    1762         2915                0.0                0.0   \n",
       "35152   1763         1715             2915.0                0.0   \n",
       "65642   1764         2737             1715.0             2915.0   \n",
       "96132   1765         2664             2737.0             1715.0   \n",
       "126622  1766         2247             2664.0             2737.0   \n",
       "157112  1767         2169             2247.0             2664.0   \n",
       "187602  1768         2795             2169.0             2247.0   \n",
       "218092  1769         2637             2795.0             2169.0   \n",
       "248582  1770         3042             2637.0             2795.0   \n",
       "279072  1771         3270             3042.0             2637.0   \n",
       "309562  1772         4295             3270.0             3042.0   \n",
       "340052  1773         3650             4295.0             3270.0   \n",
       "370542  1774         2624             3650.0             4295.0   \n",
       "401032  1775         2687             2624.0             3650.0   \n",
       "431522  1776         2698             2687.0             2624.0   \n",
       "\n",
       "        target_dept_lag_3  target_dept_lag_4  target_dept_lag_5  \\\n",
       "4662                  0.0                0.0                0.0   \n",
       "35152                 0.0                0.0                0.0   \n",
       "65642                 0.0                0.0                0.0   \n",
       "96132              2915.0                0.0                0.0   \n",
       "126622             1715.0             2915.0                0.0   \n",
       "157112             2737.0             1715.0             2915.0   \n",
       "187602             2664.0             2737.0             1715.0   \n",
       "218092             2247.0             2664.0             2737.0   \n",
       "248582             2169.0             2247.0             2664.0   \n",
       "279072             2795.0             2169.0             2247.0   \n",
       "309562             2637.0             2795.0             2169.0   \n",
       "340052             3042.0             2637.0             2795.0   \n",
       "370542             3270.0             3042.0             2637.0   \n",
       "401032             4295.0             3270.0             3042.0   \n",
       "431522             3650.0             4295.0             3270.0   \n",
       "\n",
       "        target_dept_lag_6  target_dept_lag_7  target_dept_lag_8  \\\n",
       "4662                  0.0                0.0                0.0   \n",
       "35152                 0.0                0.0                0.0   \n",
       "65642                 0.0                0.0                0.0   \n",
       "96132                 0.0                0.0                0.0   \n",
       "126622                0.0                0.0                0.0   \n",
       "157112                0.0                0.0                0.0   \n",
       "187602             2915.0                0.0                0.0   \n",
       "218092             1715.0             2915.0                0.0   \n",
       "248582             2737.0             1715.0             2915.0   \n",
       "279072             2664.0             2737.0             1715.0   \n",
       "309562             2247.0             2664.0             2737.0   \n",
       "340052             2169.0             2247.0             2664.0   \n",
       "370542             2795.0             2169.0             2247.0   \n",
       "401032             2637.0             2795.0             2169.0   \n",
       "431522             3042.0             2637.0             2795.0   \n",
       "\n",
       "        target_dept_lag_9  \n",
       "4662                  0.0  \n",
       "35152                 0.0  \n",
       "65642                 0.0  \n",
       "96132                 0.0  \n",
       "126622                0.0  \n",
       "157112                0.0  \n",
       "187602                0.0  \n",
       "218092                0.0  \n",
       "248582                0.0  \n",
       "279072             2915.0  \n",
       "309562             1715.0  \n",
       "340052             2737.0  \n",
       "370542             2664.0  \n",
       "401032             2247.0  \n",
       "431522             2169.0  "
      ]
     },
     "execution_count": 74,
     "metadata": {},
     "output_type": "execute_result"
    }
   ],
   "source": [
    "df_train[(df_train.item_id_code==1) & (df_train.store_id_code==1)][['d','target_dept','target_dept_lag_1',\n",
    "                                                                   'target_dept_lag_2',\n",
    "                                                                   'target_dept_lag_3','target_dept_lag_4',\n",
    "                                                                   'target_dept_lag_5','target_dept_lag_6',\n",
    "                                                                   'target_dept_lag_7','target_dept_lag_8',\n",
    "                                                                   'target_dept_lag_9']].head(15)"
   ]
  },
  {
   "cell_type": "code",
   "execution_count": 75,
   "metadata": {},
   "outputs": [
    {
     "data": {
      "text/html": [
       "<div>\n",
       "<style scoped>\n",
       "    .dataframe tbody tr th:only-of-type {\n",
       "        vertical-align: middle;\n",
       "    }\n",
       "\n",
       "    .dataframe tbody tr th {\n",
       "        vertical-align: top;\n",
       "    }\n",
       "\n",
       "    .dataframe thead th {\n",
       "        text-align: right;\n",
       "    }\n",
       "</style>\n",
       "<table border=\"1\" class=\"dataframe\">\n",
       "  <thead>\n",
       "    <tr style=\"text-align: right;\">\n",
       "      <th></th>\n",
       "      <th>d</th>\n",
       "      <th>target_item</th>\n",
       "      <th>target_item_lag_1</th>\n",
       "      <th>target_item_lag_2</th>\n",
       "      <th>target_item_lag_3</th>\n",
       "      <th>target_item_lag_4</th>\n",
       "      <th>target_item_lag_5</th>\n",
       "    </tr>\n",
       "  </thead>\n",
       "  <tbody>\n",
       "    <tr>\n",
       "      <th>4662</th>\n",
       "      <td>1762</td>\n",
       "      <td>2</td>\n",
       "      <td>0.0</td>\n",
       "      <td>0.0</td>\n",
       "      <td>0.0</td>\n",
       "      <td>0.0</td>\n",
       "      <td>0.0</td>\n",
       "    </tr>\n",
       "    <tr>\n",
       "      <th>35152</th>\n",
       "      <td>1763</td>\n",
       "      <td>1</td>\n",
       "      <td>2.0</td>\n",
       "      <td>0.0</td>\n",
       "      <td>0.0</td>\n",
       "      <td>0.0</td>\n",
       "      <td>0.0</td>\n",
       "    </tr>\n",
       "    <tr>\n",
       "      <th>65642</th>\n",
       "      <td>1764</td>\n",
       "      <td>0</td>\n",
       "      <td>1.0</td>\n",
       "      <td>2.0</td>\n",
       "      <td>0.0</td>\n",
       "      <td>0.0</td>\n",
       "      <td>0.0</td>\n",
       "    </tr>\n",
       "    <tr>\n",
       "      <th>96132</th>\n",
       "      <td>1765</td>\n",
       "      <td>5</td>\n",
       "      <td>0.0</td>\n",
       "      <td>1.0</td>\n",
       "      <td>2.0</td>\n",
       "      <td>0.0</td>\n",
       "      <td>0.0</td>\n",
       "    </tr>\n",
       "    <tr>\n",
       "      <th>126622</th>\n",
       "      <td>1766</td>\n",
       "      <td>4</td>\n",
       "      <td>5.0</td>\n",
       "      <td>0.0</td>\n",
       "      <td>1.0</td>\n",
       "      <td>2.0</td>\n",
       "      <td>0.0</td>\n",
       "    </tr>\n",
       "    <tr>\n",
       "      <th>157112</th>\n",
       "      <td>1767</td>\n",
       "      <td>4</td>\n",
       "      <td>4.0</td>\n",
       "      <td>5.0</td>\n",
       "      <td>0.0</td>\n",
       "      <td>1.0</td>\n",
       "      <td>2.0</td>\n",
       "    </tr>\n",
       "    <tr>\n",
       "      <th>187602</th>\n",
       "      <td>1768</td>\n",
       "      <td>3</td>\n",
       "      <td>4.0</td>\n",
       "      <td>4.0</td>\n",
       "      <td>5.0</td>\n",
       "      <td>0.0</td>\n",
       "      <td>1.0</td>\n",
       "    </tr>\n",
       "    <tr>\n",
       "      <th>218092</th>\n",
       "      <td>1769</td>\n",
       "      <td>3</td>\n",
       "      <td>3.0</td>\n",
       "      <td>4.0</td>\n",
       "      <td>4.0</td>\n",
       "      <td>5.0</td>\n",
       "      <td>0.0</td>\n",
       "    </tr>\n",
       "    <tr>\n",
       "      <th>248582</th>\n",
       "      <td>1770</td>\n",
       "      <td>9</td>\n",
       "      <td>3.0</td>\n",
       "      <td>3.0</td>\n",
       "      <td>4.0</td>\n",
       "      <td>4.0</td>\n",
       "      <td>5.0</td>\n",
       "    </tr>\n",
       "    <tr>\n",
       "      <th>279072</th>\n",
       "      <td>1771</td>\n",
       "      <td>7</td>\n",
       "      <td>9.0</td>\n",
       "      <td>3.0</td>\n",
       "      <td>3.0</td>\n",
       "      <td>4.0</td>\n",
       "      <td>4.0</td>\n",
       "    </tr>\n",
       "    <tr>\n",
       "      <th>309562</th>\n",
       "      <td>1772</td>\n",
       "      <td>5</td>\n",
       "      <td>7.0</td>\n",
       "      <td>9.0</td>\n",
       "      <td>3.0</td>\n",
       "      <td>3.0</td>\n",
       "      <td>4.0</td>\n",
       "    </tr>\n",
       "    <tr>\n",
       "      <th>340052</th>\n",
       "      <td>1773</td>\n",
       "      <td>1</td>\n",
       "      <td>5.0</td>\n",
       "      <td>7.0</td>\n",
       "      <td>9.0</td>\n",
       "      <td>3.0</td>\n",
       "      <td>3.0</td>\n",
       "    </tr>\n",
       "    <tr>\n",
       "      <th>370542</th>\n",
       "      <td>1774</td>\n",
       "      <td>4</td>\n",
       "      <td>1.0</td>\n",
       "      <td>5.0</td>\n",
       "      <td>7.0</td>\n",
       "      <td>9.0</td>\n",
       "      <td>3.0</td>\n",
       "    </tr>\n",
       "    <tr>\n",
       "      <th>401032</th>\n",
       "      <td>1775</td>\n",
       "      <td>4</td>\n",
       "      <td>4.0</td>\n",
       "      <td>1.0</td>\n",
       "      <td>5.0</td>\n",
       "      <td>7.0</td>\n",
       "      <td>9.0</td>\n",
       "    </tr>\n",
       "    <tr>\n",
       "      <th>431522</th>\n",
       "      <td>1776</td>\n",
       "      <td>7</td>\n",
       "      <td>4.0</td>\n",
       "      <td>4.0</td>\n",
       "      <td>1.0</td>\n",
       "      <td>5.0</td>\n",
       "      <td>7.0</td>\n",
       "    </tr>\n",
       "  </tbody>\n",
       "</table>\n",
       "</div>"
      ],
      "text/plain": [
       "           d  target_item  target_item_lag_1  target_item_lag_2  \\\n",
       "4662    1762            2                0.0                0.0   \n",
       "35152   1763            1                2.0                0.0   \n",
       "65642   1764            0                1.0                2.0   \n",
       "96132   1765            5                0.0                1.0   \n",
       "126622  1766            4                5.0                0.0   \n",
       "157112  1767            4                4.0                5.0   \n",
       "187602  1768            3                4.0                4.0   \n",
       "218092  1769            3                3.0                4.0   \n",
       "248582  1770            9                3.0                3.0   \n",
       "279072  1771            7                9.0                3.0   \n",
       "309562  1772            5                7.0                9.0   \n",
       "340052  1773            1                5.0                7.0   \n",
       "370542  1774            4                1.0                5.0   \n",
       "401032  1775            4                4.0                1.0   \n",
       "431522  1776            7                4.0                4.0   \n",
       "\n",
       "        target_item_lag_3  target_item_lag_4  target_item_lag_5  \n",
       "4662                  0.0                0.0                0.0  \n",
       "35152                 0.0                0.0                0.0  \n",
       "65642                 0.0                0.0                0.0  \n",
       "96132                 2.0                0.0                0.0  \n",
       "126622                1.0                2.0                0.0  \n",
       "157112                0.0                1.0                2.0  \n",
       "187602                5.0                0.0                1.0  \n",
       "218092                4.0                5.0                0.0  \n",
       "248582                4.0                4.0                5.0  \n",
       "279072                3.0                4.0                4.0  \n",
       "309562                3.0                3.0                4.0  \n",
       "340052                9.0                3.0                3.0  \n",
       "370542                7.0                9.0                3.0  \n",
       "401032                5.0                7.0                9.0  \n",
       "431522                1.0                5.0                7.0  "
      ]
     },
     "execution_count": 75,
     "metadata": {},
     "output_type": "execute_result"
    }
   ],
   "source": [
    "df_train[(df_train.item_id_code==1) & (df_train.store_id_code==1)][['d','target_item','target_item_lag_1','target_item_lag_2',\n",
    "                                                                   'target_item_lag_3','target_item_lag_4',\n",
    "                                                                   'target_item_lag_5']].head(15)"
   ]
  },
  {
   "cell_type": "code",
   "execution_count": 76,
   "metadata": {},
   "outputs": [
    {
     "data": {
      "text/plain": [
       "(28153, 1525, 323)"
      ]
     },
     "execution_count": 76,
     "metadata": {},
     "output_type": "execute_result"
    }
   ],
   "source": [
    "df_train.target_dept.max(), df_train.target_item.max(), df_train.target.max()"
   ]
  },
  {
   "cell_type": "code",
   "execution_count": 77,
   "metadata": {},
   "outputs": [
    {
     "name": "stdout",
     "output_type": "stream",
     "text": [
      "<class 'pandas.core.frame.DataFrame'>\n",
      "Int64Index: 5488200 entries, 0 to 5488199\n",
      "Data columns (total 99 columns):\n",
      " #   Column                     Dtype  \n",
      "---  ------                     -----  \n",
      " 0   id                         object \n",
      " 1   d                          int16  \n",
      " 2   target                     int16  \n",
      " 3   month                      int8   \n",
      " 4   year                       int16  \n",
      " 5   dom                        int8   \n",
      " 6   target_dept                int16  \n",
      " 7   target_item                int16  \n",
      " 8   store_id_code              int8   \n",
      " 9   item_id_code               int16  \n",
      " 10  store_id_code_target_mean  float16\n",
      " 11  cat_id_code_target_mean    float16\n",
      " 12  state_id_code_target_mean  float16\n",
      " 13  item_id_code_target_mean   float16\n",
      " 14  dept_id_code_target_mean   float16\n",
      " 15  target_lag_1               float64\n",
      " 16  target_dept_lag_1          float64\n",
      " 17  target_item_lag_1          float64\n",
      " 18  target_lag_2               float64\n",
      " 19  target_dept_lag_2          float64\n",
      " 20  target_item_lag_2          float64\n",
      " 21  target_lag_3               float64\n",
      " 22  target_dept_lag_3          float64\n",
      " 23  target_item_lag_3          float64\n",
      " 24  target_lag_4               float64\n",
      " 25  target_dept_lag_4          float64\n",
      " 26  target_item_lag_4          float64\n",
      " 27  target_lag_5               float64\n",
      " 28  target_dept_lag_5          float64\n",
      " 29  target_item_lag_5          float64\n",
      " 30  target_lag_6               float64\n",
      " 31  target_dept_lag_6          float64\n",
      " 32  target_item_lag_6          float64\n",
      " 33  target_lag_7               float64\n",
      " 34  target_dept_lag_7          float64\n",
      " 35  target_item_lag_7          float64\n",
      " 36  target_lag_8               float64\n",
      " 37  target_dept_lag_8          float64\n",
      " 38  target_item_lag_8          float64\n",
      " 39  target_lag_9               float64\n",
      " 40  target_dept_lag_9          float64\n",
      " 41  target_item_lag_9          float64\n",
      " 42  target_lag_10              float64\n",
      " 43  target_dept_lag_10         float64\n",
      " 44  target_item_lag_10         float64\n",
      " 45  target_lag_11              float64\n",
      " 46  target_dept_lag_11         float64\n",
      " 47  target_item_lag_11         float64\n",
      " 48  target_lag_12              float64\n",
      " 49  target_dept_lag_12         float64\n",
      " 50  target_item_lag_12         float64\n",
      " 51  target_lag_13              float64\n",
      " 52  target_dept_lag_13         float64\n",
      " 53  target_item_lag_13         float64\n",
      " 54  target_lag_14              float64\n",
      " 55  target_dept_lag_14         float64\n",
      " 56  target_item_lag_14         float64\n",
      " 57  target_lag_15              float64\n",
      " 58  target_dept_lag_15         float64\n",
      " 59  target_item_lag_15         float64\n",
      " 60  target_lag_16              float64\n",
      " 61  target_dept_lag_16         float64\n",
      " 62  target_item_lag_16         float64\n",
      " 63  target_lag_17              float64\n",
      " 64  target_dept_lag_17         float64\n",
      " 65  target_item_lag_17         float64\n",
      " 66  target_lag_18              float64\n",
      " 67  target_dept_lag_18         float64\n",
      " 68  target_item_lag_18         float64\n",
      " 69  target_lag_19              float64\n",
      " 70  target_dept_lag_19         float64\n",
      " 71  target_item_lag_19         float64\n",
      " 72  target_lag_20              float64\n",
      " 73  target_dept_lag_20         float64\n",
      " 74  target_item_lag_20         float64\n",
      " 75  target_lag_21              float64\n",
      " 76  target_dept_lag_21         float64\n",
      " 77  target_item_lag_21         float64\n",
      " 78  target_lag_22              float64\n",
      " 79  target_dept_lag_22         float64\n",
      " 80  target_item_lag_22         float64\n",
      " 81  target_lag_23              float64\n",
      " 82  target_dept_lag_23         float64\n",
      " 83  target_item_lag_23         float64\n",
      " 84  target_lag_24              float64\n",
      " 85  target_dept_lag_24         float64\n",
      " 86  target_item_lag_24         float64\n",
      " 87  target_lag_25              float64\n",
      " 88  target_dept_lag_25         float64\n",
      " 89  target_item_lag_25         float64\n",
      " 90  target_lag_26              float64\n",
      " 91  target_dept_lag_26         float64\n",
      " 92  target_item_lag_26         float64\n",
      " 93  target_lag_27              float64\n",
      " 94  target_dept_lag_27         float64\n",
      " 95  target_item_lag_27         float64\n",
      " 96  target_lag_28              float64\n",
      " 97  target_dept_lag_28         float64\n",
      " 98  target_item_lag_28         float64\n",
      "dtypes: float16(5), float64(84), int16(6), int8(3), object(1)\n",
      "memory usage: 3.6+ GB\n"
     ]
    }
   ],
   "source": [
    "df_train.info()"
   ]
  },
  {
   "cell_type": "code",
   "execution_count": 78,
   "metadata": {},
   "outputs": [],
   "source": [
    "#converting all the lags to be int16\n",
    "lag_cols = [col for col in df_train.columns if 'lag' in str(col)]\n",
    "for col in lag_cols:\n",
    "    df_train[col] = df_train[col].astype('int16')  "
   ]
  },
  {
   "cell_type": "code",
   "execution_count": 79,
   "metadata": {},
   "outputs": [
    {
     "name": "stdout",
     "output_type": "stream",
     "text": [
      "<class 'pandas.core.frame.DataFrame'>\n",
      "Int64Index: 5488200 entries, 0 to 5488199\n",
      "Data columns (total 99 columns):\n",
      " #   Column                     Dtype  \n",
      "---  ------                     -----  \n",
      " 0   id                         object \n",
      " 1   d                          int16  \n",
      " 2   target                     int16  \n",
      " 3   month                      int8   \n",
      " 4   year                       int16  \n",
      " 5   dom                        int8   \n",
      " 6   target_dept                int16  \n",
      " 7   target_item                int16  \n",
      " 8   store_id_code              int8   \n",
      " 9   item_id_code               int16  \n",
      " 10  store_id_code_target_mean  float16\n",
      " 11  cat_id_code_target_mean    float16\n",
      " 12  state_id_code_target_mean  float16\n",
      " 13  item_id_code_target_mean   float16\n",
      " 14  dept_id_code_target_mean   float16\n",
      " 15  target_lag_1               int16  \n",
      " 16  target_dept_lag_1          int16  \n",
      " 17  target_item_lag_1          int16  \n",
      " 18  target_lag_2               int16  \n",
      " 19  target_dept_lag_2          int16  \n",
      " 20  target_item_lag_2          int16  \n",
      " 21  target_lag_3               int16  \n",
      " 22  target_dept_lag_3          int16  \n",
      " 23  target_item_lag_3          int16  \n",
      " 24  target_lag_4               int16  \n",
      " 25  target_dept_lag_4          int16  \n",
      " 26  target_item_lag_4          int16  \n",
      " 27  target_lag_5               int16  \n",
      " 28  target_dept_lag_5          int16  \n",
      " 29  target_item_lag_5          int16  \n",
      " 30  target_lag_6               int16  \n",
      " 31  target_dept_lag_6          int16  \n",
      " 32  target_item_lag_6          int16  \n",
      " 33  target_lag_7               int16  \n",
      " 34  target_dept_lag_7          int16  \n",
      " 35  target_item_lag_7          int16  \n",
      " 36  target_lag_8               int16  \n",
      " 37  target_dept_lag_8          int16  \n",
      " 38  target_item_lag_8          int16  \n",
      " 39  target_lag_9               int16  \n",
      " 40  target_dept_lag_9          int16  \n",
      " 41  target_item_lag_9          int16  \n",
      " 42  target_lag_10              int16  \n",
      " 43  target_dept_lag_10         int16  \n",
      " 44  target_item_lag_10         int16  \n",
      " 45  target_lag_11              int16  \n",
      " 46  target_dept_lag_11         int16  \n",
      " 47  target_item_lag_11         int16  \n",
      " 48  target_lag_12              int16  \n",
      " 49  target_dept_lag_12         int16  \n",
      " 50  target_item_lag_12         int16  \n",
      " 51  target_lag_13              int16  \n",
      " 52  target_dept_lag_13         int16  \n",
      " 53  target_item_lag_13         int16  \n",
      " 54  target_lag_14              int16  \n",
      " 55  target_dept_lag_14         int16  \n",
      " 56  target_item_lag_14         int16  \n",
      " 57  target_lag_15              int16  \n",
      " 58  target_dept_lag_15         int16  \n",
      " 59  target_item_lag_15         int16  \n",
      " 60  target_lag_16              int16  \n",
      " 61  target_dept_lag_16         int16  \n",
      " 62  target_item_lag_16         int16  \n",
      " 63  target_lag_17              int16  \n",
      " 64  target_dept_lag_17         int16  \n",
      " 65  target_item_lag_17         int16  \n",
      " 66  target_lag_18              int16  \n",
      " 67  target_dept_lag_18         int16  \n",
      " 68  target_item_lag_18         int16  \n",
      " 69  target_lag_19              int16  \n",
      " 70  target_dept_lag_19         int16  \n",
      " 71  target_item_lag_19         int16  \n",
      " 72  target_lag_20              int16  \n",
      " 73  target_dept_lag_20         int16  \n",
      " 74  target_item_lag_20         int16  \n",
      " 75  target_lag_21              int16  \n",
      " 76  target_dept_lag_21         int16  \n",
      " 77  target_item_lag_21         int16  \n",
      " 78  target_lag_22              int16  \n",
      " 79  target_dept_lag_22         int16  \n",
      " 80  target_item_lag_22         int16  \n",
      " 81  target_lag_23              int16  \n",
      " 82  target_dept_lag_23         int16  \n",
      " 83  target_item_lag_23         int16  \n",
      " 84  target_lag_24              int16  \n",
      " 85  target_dept_lag_24         int16  \n",
      " 86  target_item_lag_24         int16  \n",
      " 87  target_lag_25              int16  \n",
      " 88  target_dept_lag_25         int16  \n",
      " 89  target_item_lag_25         int16  \n",
      " 90  target_lag_26              int16  \n",
      " 91  target_dept_lag_26         int16  \n",
      " 92  target_item_lag_26         int16  \n",
      " 93  target_lag_27              int16  \n",
      " 94  target_dept_lag_27         int16  \n",
      " 95  target_item_lag_27         int16  \n",
      " 96  target_lag_28              int16  \n",
      " 97  target_dept_lag_28         int16  \n",
      " 98  target_item_lag_28         int16  \n",
      "dtypes: float16(5), int16(90), int8(3), object(1)\n",
      "memory usage: 1.1+ GB\n"
     ]
    }
   ],
   "source": [
    "df_train.info()"
   ]
  },
  {
   "cell_type": "code",
   "execution_count": 80,
   "metadata": {},
   "outputs": [
    {
     "name": "stdout",
     "output_type": "stream",
     "text": [
      "<class 'pandas.core.frame.DataFrame'>\n",
      "Int64Index: 5488200 entries, 0 to 5488199\n",
      "Data columns (total 99 columns):\n",
      " #   Column                     Dtype   \n",
      "---  ------                     -----   \n",
      " 0   id                         category\n",
      " 1   d                          int16   \n",
      " 2   target                     int16   \n",
      " 3   month                      int8    \n",
      " 4   year                       int16   \n",
      " 5   dom                        int8    \n",
      " 6   target_dept                int16   \n",
      " 7   target_item                int16   \n",
      " 8   store_id_code              int8    \n",
      " 9   item_id_code               int16   \n",
      " 10  store_id_code_target_mean  float16 \n",
      " 11  cat_id_code_target_mean    float16 \n",
      " 12  state_id_code_target_mean  float16 \n",
      " 13  item_id_code_target_mean   float16 \n",
      " 14  dept_id_code_target_mean   float16 \n",
      " 15  target_lag_1               int16   \n",
      " 16  target_dept_lag_1          int16   \n",
      " 17  target_item_lag_1          int16   \n",
      " 18  target_lag_2               int16   \n",
      " 19  target_dept_lag_2          int16   \n",
      " 20  target_item_lag_2          int16   \n",
      " 21  target_lag_3               int16   \n",
      " 22  target_dept_lag_3          int16   \n",
      " 23  target_item_lag_3          int16   \n",
      " 24  target_lag_4               int16   \n",
      " 25  target_dept_lag_4          int16   \n",
      " 26  target_item_lag_4          int16   \n",
      " 27  target_lag_5               int16   \n",
      " 28  target_dept_lag_5          int16   \n",
      " 29  target_item_lag_5          int16   \n",
      " 30  target_lag_6               int16   \n",
      " 31  target_dept_lag_6          int16   \n",
      " 32  target_item_lag_6          int16   \n",
      " 33  target_lag_7               int16   \n",
      " 34  target_dept_lag_7          int16   \n",
      " 35  target_item_lag_7          int16   \n",
      " 36  target_lag_8               int16   \n",
      " 37  target_dept_lag_8          int16   \n",
      " 38  target_item_lag_8          int16   \n",
      " 39  target_lag_9               int16   \n",
      " 40  target_dept_lag_9          int16   \n",
      " 41  target_item_lag_9          int16   \n",
      " 42  target_lag_10              int16   \n",
      " 43  target_dept_lag_10         int16   \n",
      " 44  target_item_lag_10         int16   \n",
      " 45  target_lag_11              int16   \n",
      " 46  target_dept_lag_11         int16   \n",
      " 47  target_item_lag_11         int16   \n",
      " 48  target_lag_12              int16   \n",
      " 49  target_dept_lag_12         int16   \n",
      " 50  target_item_lag_12         int16   \n",
      " 51  target_lag_13              int16   \n",
      " 52  target_dept_lag_13         int16   \n",
      " 53  target_item_lag_13         int16   \n",
      " 54  target_lag_14              int16   \n",
      " 55  target_dept_lag_14         int16   \n",
      " 56  target_item_lag_14         int16   \n",
      " 57  target_lag_15              int16   \n",
      " 58  target_dept_lag_15         int16   \n",
      " 59  target_item_lag_15         int16   \n",
      " 60  target_lag_16              int16   \n",
      " 61  target_dept_lag_16         int16   \n",
      " 62  target_item_lag_16         int16   \n",
      " 63  target_lag_17              int16   \n",
      " 64  target_dept_lag_17         int16   \n",
      " 65  target_item_lag_17         int16   \n",
      " 66  target_lag_18              int16   \n",
      " 67  target_dept_lag_18         int16   \n",
      " 68  target_item_lag_18         int16   \n",
      " 69  target_lag_19              int16   \n",
      " 70  target_dept_lag_19         int16   \n",
      " 71  target_item_lag_19         int16   \n",
      " 72  target_lag_20              int16   \n",
      " 73  target_dept_lag_20         int16   \n",
      " 74  target_item_lag_20         int16   \n",
      " 75  target_lag_21              int16   \n",
      " 76  target_dept_lag_21         int16   \n",
      " 77  target_item_lag_21         int16   \n",
      " 78  target_lag_22              int16   \n",
      " 79  target_dept_lag_22         int16   \n",
      " 80  target_item_lag_22         int16   \n",
      " 81  target_lag_23              int16   \n",
      " 82  target_dept_lag_23         int16   \n",
      " 83  target_item_lag_23         int16   \n",
      " 84  target_lag_24              int16   \n",
      " 85  target_dept_lag_24         int16   \n",
      " 86  target_item_lag_24         int16   \n",
      " 87  target_lag_25              int16   \n",
      " 88  target_dept_lag_25         int16   \n",
      " 89  target_item_lag_25         int16   \n",
      " 90  target_lag_26              int16   \n",
      " 91  target_dept_lag_26         int16   \n",
      " 92  target_item_lag_26         int16   \n",
      " 93  target_lag_27              int16   \n",
      " 94  target_dept_lag_27         int16   \n",
      " 95  target_item_lag_27         int16   \n",
      " 96  target_lag_28              int16   \n",
      " 97  target_dept_lag_28         int16   \n",
      " 98  target_item_lag_28         int16   \n",
      "dtypes: category(1), float16(5), int16(90), int8(3)\n",
      "memory usage: 1.0 GB\n"
     ]
    }
   ],
   "source": [
    "df_train['id'] = df_train['id'].astype('category')\n",
    "df_train.info()"
   ]
  },
  {
   "cell_type": "code",
   "execution_count": 81,
   "metadata": {},
   "outputs": [
    {
     "data": {
      "text/html": [
       "<div>\n",
       "<style scoped>\n",
       "    .dataframe tbody tr th:only-of-type {\n",
       "        vertical-align: middle;\n",
       "    }\n",
       "\n",
       "    .dataframe tbody tr th {\n",
       "        vertical-align: top;\n",
       "    }\n",
       "\n",
       "    .dataframe thead th {\n",
       "        text-align: right;\n",
       "    }\n",
       "</style>\n",
       "<table border=\"1\" class=\"dataframe\">\n",
       "  <thead>\n",
       "    <tr style=\"text-align: right;\">\n",
       "      <th></th>\n",
       "      <th>id</th>\n",
       "      <th>d</th>\n",
       "      <th>target</th>\n",
       "      <th>month</th>\n",
       "      <th>year</th>\n",
       "      <th>dom</th>\n",
       "      <th>target_dept</th>\n",
       "      <th>target_item</th>\n",
       "      <th>store_id_code</th>\n",
       "      <th>item_id_code</th>\n",
       "      <th>...</th>\n",
       "      <th>target_item_lag_25</th>\n",
       "      <th>target_lag_26</th>\n",
       "      <th>target_dept_lag_26</th>\n",
       "      <th>target_item_lag_26</th>\n",
       "      <th>target_lag_27</th>\n",
       "      <th>target_dept_lag_27</th>\n",
       "      <th>target_item_lag_27</th>\n",
       "      <th>target_lag_28</th>\n",
       "      <th>target_dept_lag_28</th>\n",
       "      <th>target_item_lag_28</th>\n",
       "    </tr>\n",
       "  </thead>\n",
       "  <tbody>\n",
       "    <tr>\n",
       "      <th>0</th>\n",
       "      <td>HOBBIES_1_001_CA_1_evaluation</td>\n",
       "      <td>1762</td>\n",
       "      <td>0</td>\n",
       "      <td>11</td>\n",
       "      <td>2015</td>\n",
       "      <td>25</td>\n",
       "      <td>3740</td>\n",
       "      <td>0</td>\n",
       "      <td>0</td>\n",
       "      <td>1437</td>\n",
       "      <td>...</td>\n",
       "      <td>0</td>\n",
       "      <td>0</td>\n",
       "      <td>0</td>\n",
       "      <td>0</td>\n",
       "      <td>0</td>\n",
       "      <td>0</td>\n",
       "      <td>0</td>\n",
       "      <td>0</td>\n",
       "      <td>0</td>\n",
       "      <td>0</td>\n",
       "    </tr>\n",
       "    <tr>\n",
       "      <th>1</th>\n",
       "      <td>HOBBIES_1_002_CA_1_evaluation</td>\n",
       "      <td>1762</td>\n",
       "      <td>0</td>\n",
       "      <td>11</td>\n",
       "      <td>2015</td>\n",
       "      <td>25</td>\n",
       "      <td>3740</td>\n",
       "      <td>1</td>\n",
       "      <td>0</td>\n",
       "      <td>1438</td>\n",
       "      <td>...</td>\n",
       "      <td>0</td>\n",
       "      <td>0</td>\n",
       "      <td>0</td>\n",
       "      <td>0</td>\n",
       "      <td>0</td>\n",
       "      <td>0</td>\n",
       "      <td>0</td>\n",
       "      <td>0</td>\n",
       "      <td>0</td>\n",
       "      <td>0</td>\n",
       "    </tr>\n",
       "    <tr>\n",
       "      <th>2</th>\n",
       "      <td>HOBBIES_1_003_CA_1_evaluation</td>\n",
       "      <td>1762</td>\n",
       "      <td>3</td>\n",
       "      <td>11</td>\n",
       "      <td>2015</td>\n",
       "      <td>25</td>\n",
       "      <td>3740</td>\n",
       "      <td>4</td>\n",
       "      <td>0</td>\n",
       "      <td>1439</td>\n",
       "      <td>...</td>\n",
       "      <td>0</td>\n",
       "      <td>0</td>\n",
       "      <td>0</td>\n",
       "      <td>0</td>\n",
       "      <td>0</td>\n",
       "      <td>0</td>\n",
       "      <td>0</td>\n",
       "      <td>0</td>\n",
       "      <td>0</td>\n",
       "      <td>0</td>\n",
       "    </tr>\n",
       "    <tr>\n",
       "      <th>3</th>\n",
       "      <td>HOBBIES_1_004_CA_1_evaluation</td>\n",
       "      <td>1762</td>\n",
       "      <td>3</td>\n",
       "      <td>11</td>\n",
       "      <td>2015</td>\n",
       "      <td>25</td>\n",
       "      <td>3740</td>\n",
       "      <td>15</td>\n",
       "      <td>0</td>\n",
       "      <td>1440</td>\n",
       "      <td>...</td>\n",
       "      <td>0</td>\n",
       "      <td>0</td>\n",
       "      <td>0</td>\n",
       "      <td>0</td>\n",
       "      <td>0</td>\n",
       "      <td>0</td>\n",
       "      <td>0</td>\n",
       "      <td>0</td>\n",
       "      <td>0</td>\n",
       "      <td>0</td>\n",
       "    </tr>\n",
       "    <tr>\n",
       "      <th>4</th>\n",
       "      <td>HOBBIES_1_005_CA_1_evaluation</td>\n",
       "      <td>1762</td>\n",
       "      <td>0</td>\n",
       "      <td>11</td>\n",
       "      <td>2015</td>\n",
       "      <td>25</td>\n",
       "      <td>3740</td>\n",
       "      <td>10</td>\n",
       "      <td>0</td>\n",
       "      <td>1441</td>\n",
       "      <td>...</td>\n",
       "      <td>0</td>\n",
       "      <td>0</td>\n",
       "      <td>0</td>\n",
       "      <td>0</td>\n",
       "      <td>0</td>\n",
       "      <td>0</td>\n",
       "      <td>0</td>\n",
       "      <td>0</td>\n",
       "      <td>0</td>\n",
       "      <td>0</td>\n",
       "    </tr>\n",
       "  </tbody>\n",
       "</table>\n",
       "<p>5 rows × 99 columns</p>\n",
       "</div>"
      ],
      "text/plain": [
       "                              id     d  target  month  year  dom  target_dept  \\\n",
       "0  HOBBIES_1_001_CA_1_evaluation  1762       0     11  2015   25         3740   \n",
       "1  HOBBIES_1_002_CA_1_evaluation  1762       0     11  2015   25         3740   \n",
       "2  HOBBIES_1_003_CA_1_evaluation  1762       3     11  2015   25         3740   \n",
       "3  HOBBIES_1_004_CA_1_evaluation  1762       3     11  2015   25         3740   \n",
       "4  HOBBIES_1_005_CA_1_evaluation  1762       0     11  2015   25         3740   \n",
       "\n",
       "   target_item  store_id_code  item_id_code  ...  target_item_lag_25  \\\n",
       "0            0              0          1437  ...                   0   \n",
       "1            1              0          1438  ...                   0   \n",
       "2            4              0          1439  ...                   0   \n",
       "3           15              0          1440  ...                   0   \n",
       "4           10              0          1441  ...                   0   \n",
       "\n",
       "   target_lag_26  target_dept_lag_26  target_item_lag_26  target_lag_27  \\\n",
       "0              0                   0                   0              0   \n",
       "1              0                   0                   0              0   \n",
       "2              0                   0                   0              0   \n",
       "3              0                   0                   0              0   \n",
       "4              0                   0                   0              0   \n",
       "\n",
       "   target_dept_lag_27  target_item_lag_27  target_lag_28  target_dept_lag_28  \\\n",
       "0                   0                   0              0                   0   \n",
       "1                   0                   0              0                   0   \n",
       "2                   0                   0              0                   0   \n",
       "3                   0                   0              0                   0   \n",
       "4                   0                   0              0                   0   \n",
       "\n",
       "   target_item_lag_28  \n",
       "0                   0  \n",
       "1                   0  \n",
       "2                   0  \n",
       "3                   0  \n",
       "4                   0  \n",
       "\n",
       "[5 rows x 99 columns]"
      ]
     },
     "execution_count": 81,
     "metadata": {},
     "output_type": "execute_result"
    }
   ],
   "source": [
    "df_train.head()"
   ]
  },
  {
   "cell_type": "markdown",
   "metadata": {},
   "source": [
    "# Train Test Vdlidation Split"
   ]
  },
  {
   "cell_type": "code",
   "execution_count": 174,
   "metadata": {},
   "outputs": [],
   "source": [
    "drop_columns= ['id','target','target_dept','target_item','month','year','dom']\n",
    "\n",
    "#this is training data with the exclusion of 28 days\n",
    "X_train = df_train[df_train.d <= df_train.d.max()-28].drop(drop_columns, axis=1) \n",
    "y_train = df_train[df_train.d <= df_train.d.max()-28]['target']\n",
    "\n",
    "X_valid = df_train[df_train.d > df_train.d.max()-28].drop(list(set(drop_columns) - set(['id'])), axis=1)\n",
    "y_valid = df_train[df_train.d > df_train.d.max()-28]['target']\n",
    "#convert the id\n",
    "X_valid['id'] = X_valid['id'].apply(lambda x: x.replace('_evaluation','_validation'))\n",
    "\n",
    "\n",
    "\n",
    "X_test  =  df_train[df_train.d > df_train.d.max()-28].drop(list(set(drop_columns) - set(['id'])), axis=1)\n",
    "X_test.d = X_test.d + 28 #adding 28 for all the days\n",
    "\n",
    "# y_test are the predictions\n",
    "\n",
    "#this is final training data without the exclusion of 28 days\n",
    "X_train_final = df_train.drop(drop_columns, axis=1) \n",
    "y_train_final = df_train['target']"
   ]
  },
  {
   "cell_type": "code",
   "execution_count": 175,
   "metadata": {},
   "outputs": [
    {
     "data": {
      "text/plain": [
       "(array([1914, 1915, 1916, 1917, 1918, 1919, 1920, 1921, 1922, 1923, 1924,\n",
       "        1925, 1926, 1927, 1928, 1929, 1930, 1931, 1932, 1933, 1934, 1935,\n",
       "        1936, 1937, 1938, 1939, 1940, 1941], dtype=int16),\n",
       " array([1942, 1943, 1944, 1945, 1946, 1947, 1948, 1949, 1950, 1951, 1952,\n",
       "        1953, 1954, 1955, 1956, 1957, 1958, 1959, 1960, 1961, 1962, 1963,\n",
       "        1964, 1965, 1966, 1967, 1968, 1969], dtype=int16))"
      ]
     },
     "execution_count": 175,
     "metadata": {},
     "output_type": "execute_result"
    }
   ],
   "source": [
    "X_valid.d.unique(), X_test.d.unique()"
   ]
  },
  {
   "cell_type": "code",
   "execution_count": 177,
   "metadata": {},
   "outputs": [
    {
     "data": {
      "text/plain": [
       "(4634480    HOBBIES_1_001_CA_1_validation\n",
       " 4634481    HOBBIES_1_002_CA_1_validation\n",
       " 4634482    HOBBIES_1_003_CA_1_validation\n",
       " 4634483    HOBBIES_1_004_CA_1_validation\n",
       " 4634484    HOBBIES_1_005_CA_1_validation\n",
       " Name: id, dtype: category\n",
       " Categories (30490, object): [FOODS_1_001_CA_1_validation, FOODS_1_001_CA_2_validation, FOODS_1_001_CA_3_validation, FOODS_1_001_CA_4_validation, ..., HOUSEHOLD_2_516_TX_3_validation, HOUSEHOLD_2_516_WI_1_validation, HOUSEHOLD_2_516_WI_2_validation, HOUSEHOLD_2_516_WI_3_validation],\n",
       " 4634480    HOBBIES_1_001_CA_1_evaluation\n",
       " 4634481    HOBBIES_1_002_CA_1_evaluation\n",
       " 4634482    HOBBIES_1_003_CA_1_evaluation\n",
       " 4634483    HOBBIES_1_004_CA_1_evaluation\n",
       " 4634484    HOBBIES_1_005_CA_1_evaluation\n",
       " Name: id, dtype: category\n",
       " Categories (30490, object): [FOODS_1_001_CA_1_evaluation, FOODS_1_001_CA_2_evaluation, FOODS_1_001_CA_3_evaluation, FOODS_1_001_CA_4_evaluation, ..., HOUSEHOLD_2_516_TX_3_evaluation, HOUSEHOLD_2_516_WI_1_evaluation, HOUSEHOLD_2_516_WI_2_evaluation, HOUSEHOLD_2_516_WI_3_evaluation])"
      ]
     },
     "execution_count": 177,
     "metadata": {},
     "output_type": "execute_result"
    }
   ],
   "source": [
    "X_valid.id.head(), X_test.id.head()"
   ]
  },
  {
   "cell_type": "code",
   "execution_count": 179,
   "metadata": {},
   "outputs": [],
   "source": [
    "# Trying Linear Regression\n",
    "from sklearn.linear_model import LinearRegression\n",
    "from sklearn.metrics import r2_score\n",
    "from sklearn.metrics import mean_squared_error\n",
    "lr = LinearRegression(n_jobs=-1, normalize=False, fit_intercept=True, copy_X=True)"
   ]
  },
  {
   "cell_type": "code",
   "execution_count": 180,
   "metadata": {},
   "outputs": [
    {
     "data": {
      "text/plain": [
       "LinearRegression(copy_X=True, fit_intercept=True, n_jobs=-1, normalize=False)"
      ]
     },
     "execution_count": 180,
     "metadata": {},
     "output_type": "execute_result"
    }
   ],
   "source": [
    "lr.fit(X_train, y_train)"
   ]
  },
  {
   "cell_type": "code",
   "execution_count": 181,
   "metadata": {},
   "outputs": [],
   "source": [
    "#Prediction for Valid set\n",
    "pred_lr_valid = lr_stack_pred = lr.predict(X_valid.drop(['id'], axis=1))\n",
    "df_submission_valid= X_valid[['id','d']]\n",
    "df_submission_valid['target'] = pred_lr_valid\n",
    "\n",
    "#Prediction for Eval Set\n",
    "pred_lr_eval = lr_stack_pred = lr.predict(X_test.drop(['id'], axis=1))\n",
    "df_submission_eval = X_test[['id','d']]\n",
    "df_submission_eval['target'] = pred_lr_eval"
   ]
  },
  {
   "cell_type": "code",
   "execution_count": 182,
   "metadata": {},
   "outputs": [],
   "source": [
    "col_append = ['F'+str(i) for i in range(1,29)]\n",
    "\n",
    "#1. Converting \n",
    "\n",
    "#valid set\n",
    "submission_pivot_valid = df_submission_valid.pivot_table('target', ['id'], 'd')\n",
    "submission_pivot_valid.columns = col_append\n",
    "submission_pivot_valid = submission_pivot_valid.reset_index()\n",
    "\n",
    "#eval set\n",
    "submission_pivot_eval = df_submission_eval.pivot_table('target', ['id'], 'd')\n",
    "submission_pivot_eval.columns = col_append\n",
    "submission_pivot_eval = submission_pivot_eval.reset_index()\n",
    "\n",
    "#Concatenating\n",
    "df_submission = pd.concat([submission_pivot_valid, submission_pivot_eval], axis=0)\n"
   ]
  },
  {
   "cell_type": "code",
   "execution_count": 184,
   "metadata": {},
   "outputs": [],
   "source": [
    "#Saving\n",
    "df_submission.to_csv('lr_submission_21jun2020_1914_41_1942_69.csv', index=False)"
   ]
  },
  {
   "cell_type": "code",
   "execution_count": 183,
   "metadata": {},
   "outputs": [
    {
     "data": {
      "text/plain": [
       "60980"
      ]
     },
     "execution_count": 183,
     "metadata": {},
     "output_type": "execute_result"
    }
   ],
   "source": [
    "df_submission.id.nunique()"
   ]
  },
  {
   "cell_type": "code",
   "execution_count": null,
   "metadata": {},
   "outputs": [],
   "source": [
    "for store in range(1, 11):\n",
    "    print('store : ',store)"
   ]
  },
  {
   "cell_type": "markdown",
   "metadata": {},
   "source": [
    "# Prediction Idea\n",
    "\n",
    "**Since we have to predict 28 days, 3049 items, and 10 stores**\n",
    "* Days = 28\n",
    "* Items = 3049\n",
    "* Stores = 10\n",
    "\n",
    "Total Predictions = 28 x 3049 x 10 = 853,720\n",
    "\n",
    "**Let's see if this is roughly the sum of each month entries in our dataset**"
   ]
  },
  {
   "cell_type": "markdown",
   "metadata": {},
   "source": [
    "**so, this clears the logic, as we can see that feb-2014 and feb-2015 have similar number of items**\n",
    "\n",
    "**Let's also suppose that we are to predict only one day**\n",
    "\n",
    "Then the equation would be : \n",
    "    \n",
    "    * 3049 x 10 = 30,490\n",
    "    \n",
    "So, \n",
    "    There can be two ways to do that\n",
    "\n",
    "    \n",
    "* **First Procedure** \n",
    "    Train for all days (huge dataset and huge model size)\n",
    "\n",
    "    for day in range(1,29):\n",
    "        predict([item,day])\n",
    "        \n",
    "        bnnnnnnnnnnnnnnnnnnnnnnnnnnnnnnnnnnnnnnnnnmnjkm,k\n",
    "* **Second Procedure** \n",
    "\n",
    "    * seperate each day and create 28 data sets\n",
    "    for day in range(1,29)\n",
    "        * load_data(day)\n",
    "        * train data\n",
    "        * predict(for day)\n",
    "\n"
   ]
  },
  {
   "cell_type": "markdown",
   "metadata": {},
   "source": [
    "just a crazy thought...\n",
    "\n",
    "**also to be noted that, if the 1 to 28 is for a particular month, then 23, 30 31 are not required for any of the month**\n",
    "\n",
    "* we will see once the data gets compiled\n"
   ]
  },
  {
   "cell_type": "code",
   "execution_count": 103,
   "metadata": {},
   "outputs": [
    {
     "name": "stdout",
     "output_type": "stream",
     "text": [
      "3.9990506 0.6982803664150627\n"
     ]
    }
   ],
   "source": [
    "print(mean_squared_error(y_valid,pred_r), r2_score(y_valid, pred_r))"
   ]
  },
  {
   "cell_type": "code",
   "execution_count": 148,
   "metadata": {},
   "outputs": [],
   "source": [
    "lr.fit(X_train_final, y_train_final)\n",
    "pred_lr_final_1jun2020 = lr_stack_pred = lr.predict(X_test.drop(['id'], axis=1))"
   ]
  },
  {
   "cell_type": "code",
   "execution_count": 120,
   "metadata": {},
   "outputs": [
    {
     "data": {
      "text/plain": [
       "853720"
      ]
     },
     "execution_count": 120,
     "metadata": {},
     "output_type": "execute_result"
    }
   ],
   "source": [
    "len(pred_lr_final_1jun2020)"
   ]
  },
  {
   "cell_type": "code",
   "execution_count": 121,
   "metadata": {},
   "outputs": [
    {
     "data": {
      "text/html": [
       "<div>\n",
       "<style scoped>\n",
       "    .dataframe tbody tr th:only-of-type {\n",
       "        vertical-align: middle;\n",
       "    }\n",
       "\n",
       "    .dataframe tbody tr th {\n",
       "        vertical-align: top;\n",
       "    }\n",
       "\n",
       "    .dataframe thead th {\n",
       "        text-align: right;\n",
       "    }\n",
       "</style>\n",
       "<table border=\"1\" class=\"dataframe\">\n",
       "  <thead>\n",
       "    <tr style=\"text-align: right;\">\n",
       "      <th></th>\n",
       "      <th>id</th>\n",
       "      <th>d</th>\n",
       "      <th>store_id_code</th>\n",
       "      <th>item_id_code</th>\n",
       "      <th>store_id_code_target_mean</th>\n",
       "      <th>cat_id_code_target_mean</th>\n",
       "      <th>state_id_code_target_mean</th>\n",
       "      <th>item_id_code_target_mean</th>\n",
       "      <th>dept_id_code_target_mean</th>\n",
       "      <th>target_lag_1</th>\n",
       "      <th>...</th>\n",
       "      <th>target_item_lag_25</th>\n",
       "      <th>target_lag_26</th>\n",
       "      <th>target_dept_lag_26</th>\n",
       "      <th>target_item_lag_26</th>\n",
       "      <th>target_lag_27</th>\n",
       "      <th>target_dept_lag_27</th>\n",
       "      <th>target_item_lag_27</th>\n",
       "      <th>target_lag_28</th>\n",
       "      <th>target_dept_lag_28</th>\n",
       "      <th>target_item_lag_28</th>\n",
       "    </tr>\n",
       "  </thead>\n",
       "  <tbody>\n",
       "    <tr>\n",
       "      <th>4634480</th>\n",
       "      <td>HOBBIES_1_001_CA_1_evaluation</td>\n",
       "      <td>1942</td>\n",
       "      <td>0</td>\n",
       "      <td>1437</td>\n",
       "      <td>1.323242</td>\n",
       "      <td>0.568848</td>\n",
       "      <td>1.233398</td>\n",
       "      <td>0.219604</td>\n",
       "      <td>0.705566</td>\n",
       "      <td>1</td>\n",
       "      <td>...</td>\n",
       "      <td>2</td>\n",
       "      <td>0</td>\n",
       "      <td>2958</td>\n",
       "      <td>6</td>\n",
       "      <td>0</td>\n",
       "      <td>3123</td>\n",
       "      <td>9</td>\n",
       "      <td>1</td>\n",
       "      <td>3231</td>\n",
       "      <td>6</td>\n",
       "    </tr>\n",
       "    <tr>\n",
       "      <th>4634481</th>\n",
       "      <td>HOBBIES_1_002_CA_1_evaluation</td>\n",
       "      <td>1942</td>\n",
       "      <td>0</td>\n",
       "      <td>1438</td>\n",
       "      <td>1.323242</td>\n",
       "      <td>0.568848</td>\n",
       "      <td>1.233398</td>\n",
       "      <td>0.263428</td>\n",
       "      <td>0.705566</td>\n",
       "      <td>0</td>\n",
       "      <td>...</td>\n",
       "      <td>2</td>\n",
       "      <td>0</td>\n",
       "      <td>2958</td>\n",
       "      <td>4</td>\n",
       "      <td>0</td>\n",
       "      <td>3123</td>\n",
       "      <td>0</td>\n",
       "      <td>1</td>\n",
       "      <td>3231</td>\n",
       "      <td>3</td>\n",
       "    </tr>\n",
       "    <tr>\n",
       "      <th>4634482</th>\n",
       "      <td>HOBBIES_1_003_CA_1_evaluation</td>\n",
       "      <td>1942</td>\n",
       "      <td>0</td>\n",
       "      <td>1439</td>\n",
       "      <td>1.323242</td>\n",
       "      <td>0.568848</td>\n",
       "      <td>1.233398</td>\n",
       "      <td>0.077820</td>\n",
       "      <td>0.705566</td>\n",
       "      <td>1</td>\n",
       "      <td>...</td>\n",
       "      <td>0</td>\n",
       "      <td>0</td>\n",
       "      <td>2958</td>\n",
       "      <td>0</td>\n",
       "      <td>0</td>\n",
       "      <td>3123</td>\n",
       "      <td>2</td>\n",
       "      <td>0</td>\n",
       "      <td>3231</td>\n",
       "      <td>2</td>\n",
       "    </tr>\n",
       "    <tr>\n",
       "      <th>4634483</th>\n",
       "      <td>HOBBIES_1_004_CA_1_evaluation</td>\n",
       "      <td>1942</td>\n",
       "      <td>0</td>\n",
       "      <td>1440</td>\n",
       "      <td>1.323242</td>\n",
       "      <td>0.568848</td>\n",
       "      <td>1.233398</td>\n",
       "      <td>2.041016</td>\n",
       "      <td>0.705566</td>\n",
       "      <td>2</td>\n",
       "      <td>...</td>\n",
       "      <td>10</td>\n",
       "      <td>0</td>\n",
       "      <td>2958</td>\n",
       "      <td>10</td>\n",
       "      <td>0</td>\n",
       "      <td>3123</td>\n",
       "      <td>13</td>\n",
       "      <td>0</td>\n",
       "      <td>3231</td>\n",
       "      <td>12</td>\n",
       "    </tr>\n",
       "    <tr>\n",
       "      <th>4634484</th>\n",
       "      <td>HOBBIES_1_005_CA_1_evaluation</td>\n",
       "      <td>1942</td>\n",
       "      <td>0</td>\n",
       "      <td>1441</td>\n",
       "      <td>1.323242</td>\n",
       "      <td>0.568848</td>\n",
       "      <td>1.233398</td>\n",
       "      <td>0.766602</td>\n",
       "      <td>0.705566</td>\n",
       "      <td>4</td>\n",
       "      <td>...</td>\n",
       "      <td>9</td>\n",
       "      <td>4</td>\n",
       "      <td>2958</td>\n",
       "      <td>11</td>\n",
       "      <td>0</td>\n",
       "      <td>3123</td>\n",
       "      <td>9</td>\n",
       "      <td>1</td>\n",
       "      <td>3231</td>\n",
       "      <td>12</td>\n",
       "    </tr>\n",
       "  </tbody>\n",
       "</table>\n",
       "<p>5 rows × 93 columns</p>\n",
       "</div>"
      ],
      "text/plain": [
       "                                    id     d  store_id_code  item_id_code  \\\n",
       "4634480  HOBBIES_1_001_CA_1_evaluation  1942              0          1437   \n",
       "4634481  HOBBIES_1_002_CA_1_evaluation  1942              0          1438   \n",
       "4634482  HOBBIES_1_003_CA_1_evaluation  1942              0          1439   \n",
       "4634483  HOBBIES_1_004_CA_1_evaluation  1942              0          1440   \n",
       "4634484  HOBBIES_1_005_CA_1_evaluation  1942              0          1441   \n",
       "\n",
       "         store_id_code_target_mean  cat_id_code_target_mean  \\\n",
       "4634480                   1.323242                 0.568848   \n",
       "4634481                   1.323242                 0.568848   \n",
       "4634482                   1.323242                 0.568848   \n",
       "4634483                   1.323242                 0.568848   \n",
       "4634484                   1.323242                 0.568848   \n",
       "\n",
       "         state_id_code_target_mean  item_id_code_target_mean  \\\n",
       "4634480                   1.233398                  0.219604   \n",
       "4634481                   1.233398                  0.263428   \n",
       "4634482                   1.233398                  0.077820   \n",
       "4634483                   1.233398                  2.041016   \n",
       "4634484                   1.233398                  0.766602   \n",
       "\n",
       "         dept_id_code_target_mean  target_lag_1  ...  target_item_lag_25  \\\n",
       "4634480                  0.705566             1  ...                   2   \n",
       "4634481                  0.705566             0  ...                   2   \n",
       "4634482                  0.705566             1  ...                   0   \n",
       "4634483                  0.705566             2  ...                  10   \n",
       "4634484                  0.705566             4  ...                   9   \n",
       "\n",
       "         target_lag_26  target_dept_lag_26  target_item_lag_26  target_lag_27  \\\n",
       "4634480              0                2958                   6              0   \n",
       "4634481              0                2958                   4              0   \n",
       "4634482              0                2958                   0              0   \n",
       "4634483              0                2958                  10              0   \n",
       "4634484              4                2958                  11              0   \n",
       "\n",
       "         target_dept_lag_27  target_item_lag_27  target_lag_28  \\\n",
       "4634480                3123                   9              1   \n",
       "4634481                3123                   0              1   \n",
       "4634482                3123                   2              0   \n",
       "4634483                3123                  13              0   \n",
       "4634484                3123                   9              1   \n",
       "\n",
       "         target_dept_lag_28  target_item_lag_28  \n",
       "4634480                3231                   6  \n",
       "4634481                3231                   3  \n",
       "4634482                3231                   2  \n",
       "4634483                3231                  12  \n",
       "4634484                3231                  12  \n",
       "\n",
       "[5 rows x 93 columns]"
      ]
     },
     "execution_count": 121,
     "metadata": {},
     "output_type": "execute_result"
    }
   ],
   "source": [
    "X_test.head()"
   ]
  },
  {
   "cell_type": "code",
   "execution_count": 123,
   "metadata": {},
   "outputs": [
    {
     "data": {
      "text/plain": [
       "853720"
      ]
     },
     "execution_count": 123,
     "metadata": {},
     "output_type": "execute_result"
    }
   ],
   "source": [
    "len(df_submission)"
   ]
  },
  {
   "cell_type": "code",
   "execution_count": 126,
   "metadata": {},
   "outputs": [
    {
     "name": "stdout",
     "output_type": "stream",
     "text": [
      "<class 'pandas.core.frame.DataFrame'>\n",
      "Index: 2 entries, d to target\n",
      "Columns: 853720 entries, 4634480 to 5488199\n",
      "dtypes: float32(853720)\n",
      "memory usage: 6.5+ MB\n"
     ]
    }
   ],
   "source": [
    "submission_trans.info()"
   ]
  },
  {
   "cell_type": "code",
   "execution_count": 145,
   "metadata": {},
   "outputs": [],
   "source": []
  },
  {
   "cell_type": "code",
   "execution_count": 150,
   "metadata": {},
   "outputs": [
    {
     "data": {
      "text/html": [
       "<div>\n",
       "<style scoped>\n",
       "    .dataframe tbody tr th:only-of-type {\n",
       "        vertical-align: middle;\n",
       "    }\n",
       "\n",
       "    .dataframe tbody tr th {\n",
       "        vertical-align: top;\n",
       "    }\n",
       "\n",
       "    .dataframe thead th {\n",
       "        text-align: right;\n",
       "    }\n",
       "</style>\n",
       "<table border=\"1\" class=\"dataframe\">\n",
       "  <thead>\n",
       "    <tr style=\"text-align: right;\">\n",
       "      <th></th>\n",
       "      <th>id</th>\n",
       "      <th>F1</th>\n",
       "      <th>F2</th>\n",
       "      <th>F3</th>\n",
       "      <th>F4</th>\n",
       "      <th>F5</th>\n",
       "      <th>F6</th>\n",
       "      <th>F7</th>\n",
       "      <th>F8</th>\n",
       "      <th>F9</th>\n",
       "      <th>...</th>\n",
       "      <th>F19</th>\n",
       "      <th>F20</th>\n",
       "      <th>F21</th>\n",
       "      <th>F22</th>\n",
       "      <th>F23</th>\n",
       "      <th>F24</th>\n",
       "      <th>F25</th>\n",
       "      <th>F26</th>\n",
       "      <th>F27</th>\n",
       "      <th>F28</th>\n",
       "    </tr>\n",
       "  </thead>\n",
       "  <tbody>\n",
       "    <tr>\n",
       "      <th>0</th>\n",
       "      <td>FOODS_1_001_CA_1_evaluation</td>\n",
       "      <td>1.282654</td>\n",
       "      <td>1.202532</td>\n",
       "      <td>0.903100</td>\n",
       "      <td>0.739114</td>\n",
       "      <td>0.722886</td>\n",
       "      <td>0.897184</td>\n",
       "      <td>1.025901</td>\n",
       "      <td>1.261501</td>\n",
       "      <td>0.513765</td>\n",
       "      <td>...</td>\n",
       "      <td>0.757762</td>\n",
       "      <td>1.268006</td>\n",
       "      <td>1.507601</td>\n",
       "      <td>1.364873</td>\n",
       "      <td>1.184933</td>\n",
       "      <td>0.803448</td>\n",
       "      <td>0.656094</td>\n",
       "      <td>1.146351</td>\n",
       "      <td>0.978135</td>\n",
       "      <td>0.643805</td>\n",
       "    </tr>\n",
       "    <tr>\n",
       "      <th>1</th>\n",
       "      <td>FOODS_1_001_CA_2_evaluation</td>\n",
       "      <td>1.740583</td>\n",
       "      <td>1.191805</td>\n",
       "      <td>1.720940</td>\n",
       "      <td>1.152399</td>\n",
       "      <td>0.862649</td>\n",
       "      <td>1.238713</td>\n",
       "      <td>1.756865</td>\n",
       "      <td>1.674244</td>\n",
       "      <td>1.081507</td>\n",
       "      <td>...</td>\n",
       "      <td>0.574088</td>\n",
       "      <td>1.382080</td>\n",
       "      <td>1.713957</td>\n",
       "      <td>0.697148</td>\n",
       "      <td>0.879808</td>\n",
       "      <td>0.820173</td>\n",
       "      <td>0.608149</td>\n",
       "      <td>0.533720</td>\n",
       "      <td>0.960836</td>\n",
       "      <td>1.220133</td>\n",
       "    </tr>\n",
       "    <tr>\n",
       "      <th>2</th>\n",
       "      <td>FOODS_1_001_CA_3_evaluation</td>\n",
       "      <td>0.769530</td>\n",
       "      <td>0.680082</td>\n",
       "      <td>0.560077</td>\n",
       "      <td>0.590597</td>\n",
       "      <td>0.614635</td>\n",
       "      <td>2.709026</td>\n",
       "      <td>2.160303</td>\n",
       "      <td>1.235490</td>\n",
       "      <td>0.780345</td>\n",
       "      <td>...</td>\n",
       "      <td>0.805515</td>\n",
       "      <td>1.327993</td>\n",
       "      <td>1.655731</td>\n",
       "      <td>0.815431</td>\n",
       "      <td>0.620212</td>\n",
       "      <td>0.624196</td>\n",
       "      <td>0.855104</td>\n",
       "      <td>1.157865</td>\n",
       "      <td>1.680206</td>\n",
       "      <td>1.244082</td>\n",
       "    </tr>\n",
       "    <tr>\n",
       "      <th>3</th>\n",
       "      <td>FOODS_1_001_CA_4_evaluation</td>\n",
       "      <td>0.752946</td>\n",
       "      <td>0.291519</td>\n",
       "      <td>0.531976</td>\n",
       "      <td>0.386735</td>\n",
       "      <td>0.286859</td>\n",
       "      <td>0.632291</td>\n",
       "      <td>0.479894</td>\n",
       "      <td>0.588857</td>\n",
       "      <td>0.189715</td>\n",
       "      <td>...</td>\n",
       "      <td>0.202372</td>\n",
       "      <td>0.695013</td>\n",
       "      <td>0.470369</td>\n",
       "      <td>0.311594</td>\n",
       "      <td>0.225238</td>\n",
       "      <td>0.194480</td>\n",
       "      <td>0.352906</td>\n",
       "      <td>0.677917</td>\n",
       "      <td>0.648406</td>\n",
       "      <td>0.375202</td>\n",
       "    </tr>\n",
       "    <tr>\n",
       "      <th>4</th>\n",
       "      <td>FOODS_1_001_TX_1_evaluation</td>\n",
       "      <td>0.120321</td>\n",
       "      <td>0.047658</td>\n",
       "      <td>0.118845</td>\n",
       "      <td>0.283642</td>\n",
       "      <td>0.090254</td>\n",
       "      <td>0.633421</td>\n",
       "      <td>0.367644</td>\n",
       "      <td>0.461131</td>\n",
       "      <td>0.394150</td>\n",
       "      <td>...</td>\n",
       "      <td>0.631626</td>\n",
       "      <td>0.979811</td>\n",
       "      <td>0.845172</td>\n",
       "      <td>0.721358</td>\n",
       "      <td>0.818234</td>\n",
       "      <td>1.579166</td>\n",
       "      <td>0.926591</td>\n",
       "      <td>1.326470</td>\n",
       "      <td>1.577242</td>\n",
       "      <td>1.104552</td>\n",
       "    </tr>\n",
       "    <tr>\n",
       "      <th>...</th>\n",
       "      <td>...</td>\n",
       "      <td>...</td>\n",
       "      <td>...</td>\n",
       "      <td>...</td>\n",
       "      <td>...</td>\n",
       "      <td>...</td>\n",
       "      <td>...</td>\n",
       "      <td>...</td>\n",
       "      <td>...</td>\n",
       "      <td>...</td>\n",
       "      <td>...</td>\n",
       "      <td>...</td>\n",
       "      <td>...</td>\n",
       "      <td>...</td>\n",
       "      <td>...</td>\n",
       "      <td>...</td>\n",
       "      <td>...</td>\n",
       "      <td>...</td>\n",
       "      <td>...</td>\n",
       "      <td>...</td>\n",
       "      <td>...</td>\n",
       "    </tr>\n",
       "    <tr>\n",
       "      <th>30485</th>\n",
       "      <td>HOUSEHOLD_2_516_TX_2_evaluation</td>\n",
       "      <td>0.170452</td>\n",
       "      <td>0.208212</td>\n",
       "      <td>0.315818</td>\n",
       "      <td>0.116524</td>\n",
       "      <td>0.109979</td>\n",
       "      <td>0.201319</td>\n",
       "      <td>0.134440</td>\n",
       "      <td>0.114504</td>\n",
       "      <td>0.311089</td>\n",
       "      <td>...</td>\n",
       "      <td>0.117435</td>\n",
       "      <td>0.211692</td>\n",
       "      <td>0.151852</td>\n",
       "      <td>0.058970</td>\n",
       "      <td>0.279734</td>\n",
       "      <td>0.194776</td>\n",
       "      <td>0.073547</td>\n",
       "      <td>0.080491</td>\n",
       "      <td>0.209900</td>\n",
       "      <td>0.189697</td>\n",
       "    </tr>\n",
       "    <tr>\n",
       "      <th>30486</th>\n",
       "      <td>HOUSEHOLD_2_516_TX_3_evaluation</td>\n",
       "      <td>0.015645</td>\n",
       "      <td>0.127556</td>\n",
       "      <td>0.199359</td>\n",
       "      <td>0.028193</td>\n",
       "      <td>0.055681</td>\n",
       "      <td>0.117191</td>\n",
       "      <td>0.013771</td>\n",
       "      <td>0.199754</td>\n",
       "      <td>0.187065</td>\n",
       "      <td>...</td>\n",
       "      <td>0.180481</td>\n",
       "      <td>0.152454</td>\n",
       "      <td>0.385275</td>\n",
       "      <td>0.117312</td>\n",
       "      <td>0.132531</td>\n",
       "      <td>0.119840</td>\n",
       "      <td>0.116183</td>\n",
       "      <td>0.151722</td>\n",
       "      <td>0.426033</td>\n",
       "      <td>0.459308</td>\n",
       "    </tr>\n",
       "    <tr>\n",
       "      <th>30487</th>\n",
       "      <td>HOUSEHOLD_2_516_WI_1_evaluation</td>\n",
       "      <td>-0.050681</td>\n",
       "      <td>0.175376</td>\n",
       "      <td>0.181067</td>\n",
       "      <td>0.080190</td>\n",
       "      <td>0.319270</td>\n",
       "      <td>0.213434</td>\n",
       "      <td>0.116731</td>\n",
       "      <td>0.098961</td>\n",
       "      <td>0.082777</td>\n",
       "      <td>...</td>\n",
       "      <td>0.189825</td>\n",
       "      <td>0.181651</td>\n",
       "      <td>0.079075</td>\n",
       "      <td>0.032673</td>\n",
       "      <td>0.048532</td>\n",
       "      <td>0.042464</td>\n",
       "      <td>0.043327</td>\n",
       "      <td>0.045992</td>\n",
       "      <td>0.363359</td>\n",
       "      <td>0.198981</td>\n",
       "    </tr>\n",
       "    <tr>\n",
       "      <th>30488</th>\n",
       "      <td>HOUSEHOLD_2_516_WI_2_evaluation</td>\n",
       "      <td>0.014328</td>\n",
       "      <td>0.056116</td>\n",
       "      <td>0.174431</td>\n",
       "      <td>0.104903</td>\n",
       "      <td>0.074131</td>\n",
       "      <td>0.100362</td>\n",
       "      <td>0.006227</td>\n",
       "      <td>-0.008182</td>\n",
       "      <td>0.038841</td>\n",
       "      <td>...</td>\n",
       "      <td>0.015435</td>\n",
       "      <td>0.013940</td>\n",
       "      <td>0.030405</td>\n",
       "      <td>0.175110</td>\n",
       "      <td>0.304392</td>\n",
       "      <td>0.212012</td>\n",
       "      <td>0.171433</td>\n",
       "      <td>0.113376</td>\n",
       "      <td>0.220949</td>\n",
       "      <td>0.235481</td>\n",
       "    </tr>\n",
       "    <tr>\n",
       "      <th>30489</th>\n",
       "      <td>HOUSEHOLD_2_516_WI_3_evaluation</td>\n",
       "      <td>-0.042574</td>\n",
       "      <td>-0.001107</td>\n",
       "      <td>0.100437</td>\n",
       "      <td>0.015588</td>\n",
       "      <td>0.043359</td>\n",
       "      <td>0.267444</td>\n",
       "      <td>0.078369</td>\n",
       "      <td>0.048436</td>\n",
       "      <td>0.077932</td>\n",
       "      <td>...</td>\n",
       "      <td>0.048289</td>\n",
       "      <td>0.029147</td>\n",
       "      <td>0.226701</td>\n",
       "      <td>0.051986</td>\n",
       "      <td>0.083354</td>\n",
       "      <td>0.091444</td>\n",
       "      <td>0.070418</td>\n",
       "      <td>0.111566</td>\n",
       "      <td>0.195099</td>\n",
       "      <td>0.101698</td>\n",
       "    </tr>\n",
       "  </tbody>\n",
       "</table>\n",
       "<p>30490 rows × 29 columns</p>\n",
       "</div>"
      ],
      "text/plain": [
       "                                    id        F1        F2        F3  \\\n",
       "0          FOODS_1_001_CA_1_evaluation  1.282654  1.202532  0.903100   \n",
       "1          FOODS_1_001_CA_2_evaluation  1.740583  1.191805  1.720940   \n",
       "2          FOODS_1_001_CA_3_evaluation  0.769530  0.680082  0.560077   \n",
       "3          FOODS_1_001_CA_4_evaluation  0.752946  0.291519  0.531976   \n",
       "4          FOODS_1_001_TX_1_evaluation  0.120321  0.047658  0.118845   \n",
       "...                                ...       ...       ...       ...   \n",
       "30485  HOUSEHOLD_2_516_TX_2_evaluation  0.170452  0.208212  0.315818   \n",
       "30486  HOUSEHOLD_2_516_TX_3_evaluation  0.015645  0.127556  0.199359   \n",
       "30487  HOUSEHOLD_2_516_WI_1_evaluation -0.050681  0.175376  0.181067   \n",
       "30488  HOUSEHOLD_2_516_WI_2_evaluation  0.014328  0.056116  0.174431   \n",
       "30489  HOUSEHOLD_2_516_WI_3_evaluation -0.042574 -0.001107  0.100437   \n",
       "\n",
       "             F4        F5        F6        F7        F8        F9  ...  \\\n",
       "0      0.739114  0.722886  0.897184  1.025901  1.261501  0.513765  ...   \n",
       "1      1.152399  0.862649  1.238713  1.756865  1.674244  1.081507  ...   \n",
       "2      0.590597  0.614635  2.709026  2.160303  1.235490  0.780345  ...   \n",
       "3      0.386735  0.286859  0.632291  0.479894  0.588857  0.189715  ...   \n",
       "4      0.283642  0.090254  0.633421  0.367644  0.461131  0.394150  ...   \n",
       "...         ...       ...       ...       ...       ...       ...  ...   \n",
       "30485  0.116524  0.109979  0.201319  0.134440  0.114504  0.311089  ...   \n",
       "30486  0.028193  0.055681  0.117191  0.013771  0.199754  0.187065  ...   \n",
       "30487  0.080190  0.319270  0.213434  0.116731  0.098961  0.082777  ...   \n",
       "30488  0.104903  0.074131  0.100362  0.006227 -0.008182  0.038841  ...   \n",
       "30489  0.015588  0.043359  0.267444  0.078369  0.048436  0.077932  ...   \n",
       "\n",
       "            F19       F20       F21       F22       F23       F24       F25  \\\n",
       "0      0.757762  1.268006  1.507601  1.364873  1.184933  0.803448  0.656094   \n",
       "1      0.574088  1.382080  1.713957  0.697148  0.879808  0.820173  0.608149   \n",
       "2      0.805515  1.327993  1.655731  0.815431  0.620212  0.624196  0.855104   \n",
       "3      0.202372  0.695013  0.470369  0.311594  0.225238  0.194480  0.352906   \n",
       "4      0.631626  0.979811  0.845172  0.721358  0.818234  1.579166  0.926591   \n",
       "...         ...       ...       ...       ...       ...       ...       ...   \n",
       "30485  0.117435  0.211692  0.151852  0.058970  0.279734  0.194776  0.073547   \n",
       "30486  0.180481  0.152454  0.385275  0.117312  0.132531  0.119840  0.116183   \n",
       "30487  0.189825  0.181651  0.079075  0.032673  0.048532  0.042464  0.043327   \n",
       "30488  0.015435  0.013940  0.030405  0.175110  0.304392  0.212012  0.171433   \n",
       "30489  0.048289  0.029147  0.226701  0.051986  0.083354  0.091444  0.070418   \n",
       "\n",
       "            F26       F27       F28  \n",
       "0      1.146351  0.978135  0.643805  \n",
       "1      0.533720  0.960836  1.220133  \n",
       "2      1.157865  1.680206  1.244082  \n",
       "3      0.677917  0.648406  0.375202  \n",
       "4      1.326470  1.577242  1.104552  \n",
       "...         ...       ...       ...  \n",
       "30485  0.080491  0.209900  0.189697  \n",
       "30486  0.151722  0.426033  0.459308  \n",
       "30487  0.045992  0.363359  0.198981  \n",
       "30488  0.113376  0.220949  0.235481  \n",
       "30489  0.111566  0.195099  0.101698  \n",
       "\n",
       "[30490 rows x 29 columns]"
      ]
     },
     "execution_count": 150,
     "metadata": {},
     "output_type": "execute_result"
    }
   ],
   "source": []
  },
  {
   "cell_type": "code",
   "execution_count": 173,
   "metadata": {},
   "outputs": [
    {
     "data": {
      "text/plain": [
       "(60980, 29)"
      ]
     },
     "execution_count": 173,
     "metadata": {},
     "output_type": "execute_result"
    }
   ],
   "source": [
    "df_submission.shape"
   ]
  },
  {
   "cell_type": "code",
   "execution_count": 159,
   "metadata": {},
   "outputs": [],
   "source": []
  },
  {
   "cell_type": "code",
   "execution_count": 155,
   "metadata": {},
   "outputs": [],
   "source": []
  },
  {
   "cell_type": "code",
   "execution_count": 156,
   "metadata": {},
   "outputs": [
    {
     "data": {
      "text/plain": [
       "Index(['id', 'F1', 'F2', 'F3', 'F4', 'F5', 'F6', 'F7', 'F8', 'F9', 'F10',\n",
       "       'F11', 'F12', 'F13', 'F14', 'F15', 'F16', 'F17', 'F18', 'F19', 'F20',\n",
       "       'F21', 'F22', 'F23', 'F24', 'F25', 'F26', 'F27', 'F28'],\n",
       "      dtype='object')"
      ]
     },
     "execution_count": 156,
     "metadata": {},
     "output_type": "execute_result"
    }
   ],
   "source": []
  },
  {
   "cell_type": "code",
   "execution_count": null,
   "metadata": {},
   "outputs": [],
   "source": []
  }
 ],
 "metadata": {
  "kernelspec": {
   "display_name": "Python 3",
   "language": "python",
   "name": "python3"
  },
  "language_info": {
   "codemirror_mode": {
    "name": "ipython",
    "version": 3
   },
   "file_extension": ".py",
   "mimetype": "text/x-python",
   "name": "python",
   "nbconvert_exporter": "python",
   "pygments_lexer": "ipython3",
   "version": "3.7.6"
  }
 },
 "nbformat": 4,
 "nbformat_minor": 2
}
