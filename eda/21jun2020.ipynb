{
 "cells": [
  {
   "cell_type": "markdown",
   "metadata": {},
   "source": [
    "# Basic EDA"
   ]
  },
  {
   "cell_type": "code",
   "execution_count": 6,
   "metadata": {},
   "outputs": [
    {
     "output_type": "error",
     "ename": "SyntaxError",
     "evalue": "invalid syntax (<ipython-input-6-3903db23fbcb>, line 4)",
     "traceback": [
      "\u001b[1;36m  File \u001b[1;32m\"<ipython-input-6-3903db23fbcb>\"\u001b[1;36m, line \u001b[1;32m4\u001b[0m\n\u001b[1;33m    import ..//src//dispatcher.py\u001b[0m\n\u001b[1;37m           ^\u001b[0m\n\u001b[1;31mSyntaxError\u001b[0m\u001b[1;31m:\u001b[0m invalid syntax\n"
     ]
    }
   ],
   "source": [
    "import pandas as pd\n",
    "import numpy as np\n",
    "import os\n",
    "DATA_FOLDER = '..//data//'"
   ]
  },
  {
   "cell_type": "code",
   "execution_count": 16,
   "metadata": {},
   "outputs": [],
   "source": [
    "df_sample_sub = pd.read_csv(os.path.join(DATA_FOLDER,'sample_submission.csv'))\n",
    "df_stv        = pd.read_csv(os.path.join(DATA_FOLDER,'sales_train_validation.csv'))\n",
    "df_ste        = pd.read_csv(os.path.join(DATA_FOLDER,'sales_train_evaluation.csv'))\n",
    "df_prices     = pd.read_csv(os.path.join(DATA_FOLDER,'sell_prices.csv'))\n",
    "df_calander   = pd.read_csv(os.path.join(DATA_FOLDER,'calendar.csv'))"
   ]
  },
  {
   "cell_type": "markdown",
   "metadata": {},
   "source": [
    "### Checking the Sample Submission file"
   ]
  },
  {
   "cell_type": "code",
   "execution_count": 6,
   "metadata": {},
   "outputs": [
    {
     "output_type": "execute_result",
     "data": {
      "text/plain": "                              id  F1  F2  F3  F4  F5  F6  F7  F8  F9  ...  \\\n0  HOBBIES_1_001_CA_1_validation   0   0   0   0   0   0   0   0   0  ...   \n1  HOBBIES_1_002_CA_1_validation   0   0   0   0   0   0   0   0   0  ...   \n2  HOBBIES_1_003_CA_1_validation   0   0   0   0   0   0   0   0   0  ...   \n3  HOBBIES_1_004_CA_1_validation   0   0   0   0   0   0   0   0   0  ...   \n4  HOBBIES_1_005_CA_1_validation   0   0   0   0   0   0   0   0   0  ...   \n\n   F19  F20  F21  F22  F23  F24  F25  F26  F27  F28  \n0    0    0    0    0    0    0    0    0    0    0  \n1    0    0    0    0    0    0    0    0    0    0  \n2    0    0    0    0    0    0    0    0    0    0  \n3    0    0    0    0    0    0    0    0    0    0  \n4    0    0    0    0    0    0    0    0    0    0  \n\n[5 rows x 29 columns]",
      "text/html": "<div>\n<style scoped>\n    .dataframe tbody tr th:only-of-type {\n        vertical-align: middle;\n    }\n\n    .dataframe tbody tr th {\n        vertical-align: top;\n    }\n\n    .dataframe thead th {\n        text-align: right;\n    }\n</style>\n<table border=\"1\" class=\"dataframe\">\n  <thead>\n    <tr style=\"text-align: right;\">\n      <th></th>\n      <th>id</th>\n      <th>F1</th>\n      <th>F2</th>\n      <th>F3</th>\n      <th>F4</th>\n      <th>F5</th>\n      <th>F6</th>\n      <th>F7</th>\n      <th>F8</th>\n      <th>F9</th>\n      <th>...</th>\n      <th>F19</th>\n      <th>F20</th>\n      <th>F21</th>\n      <th>F22</th>\n      <th>F23</th>\n      <th>F24</th>\n      <th>F25</th>\n      <th>F26</th>\n      <th>F27</th>\n      <th>F28</th>\n    </tr>\n  </thead>\n  <tbody>\n    <tr>\n      <th>0</th>\n      <td>HOBBIES_1_001_CA_1_validation</td>\n      <td>0</td>\n      <td>0</td>\n      <td>0</td>\n      <td>0</td>\n      <td>0</td>\n      <td>0</td>\n      <td>0</td>\n      <td>0</td>\n      <td>0</td>\n      <td>...</td>\n      <td>0</td>\n      <td>0</td>\n      <td>0</td>\n      <td>0</td>\n      <td>0</td>\n      <td>0</td>\n      <td>0</td>\n      <td>0</td>\n      <td>0</td>\n      <td>0</td>\n    </tr>\n    <tr>\n      <th>1</th>\n      <td>HOBBIES_1_002_CA_1_validation</td>\n      <td>0</td>\n      <td>0</td>\n      <td>0</td>\n      <td>0</td>\n      <td>0</td>\n      <td>0</td>\n      <td>0</td>\n      <td>0</td>\n      <td>0</td>\n      <td>...</td>\n      <td>0</td>\n      <td>0</td>\n      <td>0</td>\n      <td>0</td>\n      <td>0</td>\n      <td>0</td>\n      <td>0</td>\n      <td>0</td>\n      <td>0</td>\n      <td>0</td>\n    </tr>\n    <tr>\n      <th>2</th>\n      <td>HOBBIES_1_003_CA_1_validation</td>\n      <td>0</td>\n      <td>0</td>\n      <td>0</td>\n      <td>0</td>\n      <td>0</td>\n      <td>0</td>\n      <td>0</td>\n      <td>0</td>\n      <td>0</td>\n      <td>...</td>\n      <td>0</td>\n      <td>0</td>\n      <td>0</td>\n      <td>0</td>\n      <td>0</td>\n      <td>0</td>\n      <td>0</td>\n      <td>0</td>\n      <td>0</td>\n      <td>0</td>\n    </tr>\n    <tr>\n      <th>3</th>\n      <td>HOBBIES_1_004_CA_1_validation</td>\n      <td>0</td>\n      <td>0</td>\n      <td>0</td>\n      <td>0</td>\n      <td>0</td>\n      <td>0</td>\n      <td>0</td>\n      <td>0</td>\n      <td>0</td>\n      <td>...</td>\n      <td>0</td>\n      <td>0</td>\n      <td>0</td>\n      <td>0</td>\n      <td>0</td>\n      <td>0</td>\n      <td>0</td>\n      <td>0</td>\n      <td>0</td>\n      <td>0</td>\n    </tr>\n    <tr>\n      <th>4</th>\n      <td>HOBBIES_1_005_CA_1_validation</td>\n      <td>0</td>\n      <td>0</td>\n      <td>0</td>\n      <td>0</td>\n      <td>0</td>\n      <td>0</td>\n      <td>0</td>\n      <td>0</td>\n      <td>0</td>\n      <td>...</td>\n      <td>0</td>\n      <td>0</td>\n      <td>0</td>\n      <td>0</td>\n      <td>0</td>\n      <td>0</td>\n      <td>0</td>\n      <td>0</td>\n      <td>0</td>\n      <td>0</td>\n    </tr>\n  </tbody>\n</table>\n<p>5 rows × 29 columns</p>\n</div>"
     },
     "metadata": {},
     "execution_count": 6
    }
   ],
   "source": [
    "df_sample_sub.head()\n"
   ]
  },
  {
   "cell_type": "code",
   "execution_count": 8,
   "metadata": {},
   "outputs": [
    {
     "output_type": "execute_result",
     "data": {
      "text/plain": "                              id        item_id    dept_id   cat_id store_id  \\\n0  HOBBIES_1_001_CA_1_validation  HOBBIES_1_001  HOBBIES_1  HOBBIES     CA_1   \n1  HOBBIES_1_002_CA_1_validation  HOBBIES_1_002  HOBBIES_1  HOBBIES     CA_1   \n2  HOBBIES_1_003_CA_1_validation  HOBBIES_1_003  HOBBIES_1  HOBBIES     CA_1   \n3  HOBBIES_1_004_CA_1_validation  HOBBIES_1_004  HOBBIES_1  HOBBIES     CA_1   \n4  HOBBIES_1_005_CA_1_validation  HOBBIES_1_005  HOBBIES_1  HOBBIES     CA_1   \n\n  state_id  d_1  d_2  d_3  d_4  ...  d_1904  d_1905  d_1906  d_1907  d_1908  \\\n0       CA    0    0    0    0  ...       1       3       0       1       1   \n1       CA    0    0    0    0  ...       0       0       0       0       0   \n2       CA    0    0    0    0  ...       2       1       2       1       1   \n3       CA    0    0    0    0  ...       1       0       5       4       1   \n4       CA    0    0    0    0  ...       2       1       1       0       1   \n\n   d_1909  d_1910  d_1911  d_1912  d_1913  \n0       1       3       0       1       1  \n1       1       0       0       0       0  \n2       1       0       1       1       1  \n3       0       1       3       7       2  \n4       1       2       2       2       4  \n\n[5 rows x 1919 columns]",
      "text/html": "<div>\n<style scoped>\n    .dataframe tbody tr th:only-of-type {\n        vertical-align: middle;\n    }\n\n    .dataframe tbody tr th {\n        vertical-align: top;\n    }\n\n    .dataframe thead th {\n        text-align: right;\n    }\n</style>\n<table border=\"1\" class=\"dataframe\">\n  <thead>\n    <tr style=\"text-align: right;\">\n      <th></th>\n      <th>id</th>\n      <th>item_id</th>\n      <th>dept_id</th>\n      <th>cat_id</th>\n      <th>store_id</th>\n      <th>state_id</th>\n      <th>d_1</th>\n      <th>d_2</th>\n      <th>d_3</th>\n      <th>d_4</th>\n      <th>...</th>\n      <th>d_1904</th>\n      <th>d_1905</th>\n      <th>d_1906</th>\n      <th>d_1907</th>\n      <th>d_1908</th>\n      <th>d_1909</th>\n      <th>d_1910</th>\n      <th>d_1911</th>\n      <th>d_1912</th>\n      <th>d_1913</th>\n    </tr>\n  </thead>\n  <tbody>\n    <tr>\n      <th>0</th>\n      <td>HOBBIES_1_001_CA_1_validation</td>\n      <td>HOBBIES_1_001</td>\n      <td>HOBBIES_1</td>\n      <td>HOBBIES</td>\n      <td>CA_1</td>\n      <td>CA</td>\n      <td>0</td>\n      <td>0</td>\n      <td>0</td>\n      <td>0</td>\n      <td>...</td>\n      <td>1</td>\n      <td>3</td>\n      <td>0</td>\n      <td>1</td>\n      <td>1</td>\n      <td>1</td>\n      <td>3</td>\n      <td>0</td>\n      <td>1</td>\n      <td>1</td>\n    </tr>\n    <tr>\n      <th>1</th>\n      <td>HOBBIES_1_002_CA_1_validation</td>\n      <td>HOBBIES_1_002</td>\n      <td>HOBBIES_1</td>\n      <td>HOBBIES</td>\n      <td>CA_1</td>\n      <td>CA</td>\n      <td>0</td>\n      <td>0</td>\n      <td>0</td>\n      <td>0</td>\n      <td>...</td>\n      <td>0</td>\n      <td>0</td>\n      <td>0</td>\n      <td>0</td>\n      <td>0</td>\n      <td>1</td>\n      <td>0</td>\n      <td>0</td>\n      <td>0</td>\n      <td>0</td>\n    </tr>\n    <tr>\n      <th>2</th>\n      <td>HOBBIES_1_003_CA_1_validation</td>\n      <td>HOBBIES_1_003</td>\n      <td>HOBBIES_1</td>\n      <td>HOBBIES</td>\n      <td>CA_1</td>\n      <td>CA</td>\n      <td>0</td>\n      <td>0</td>\n      <td>0</td>\n      <td>0</td>\n      <td>...</td>\n      <td>2</td>\n      <td>1</td>\n      <td>2</td>\n      <td>1</td>\n      <td>1</td>\n      <td>1</td>\n      <td>0</td>\n      <td>1</td>\n      <td>1</td>\n      <td>1</td>\n    </tr>\n    <tr>\n      <th>3</th>\n      <td>HOBBIES_1_004_CA_1_validation</td>\n      <td>HOBBIES_1_004</td>\n      <td>HOBBIES_1</td>\n      <td>HOBBIES</td>\n      <td>CA_1</td>\n      <td>CA</td>\n      <td>0</td>\n      <td>0</td>\n      <td>0</td>\n      <td>0</td>\n      <td>...</td>\n      <td>1</td>\n      <td>0</td>\n      <td>5</td>\n      <td>4</td>\n      <td>1</td>\n      <td>0</td>\n      <td>1</td>\n      <td>3</td>\n      <td>7</td>\n      <td>2</td>\n    </tr>\n    <tr>\n      <th>4</th>\n      <td>HOBBIES_1_005_CA_1_validation</td>\n      <td>HOBBIES_1_005</td>\n      <td>HOBBIES_1</td>\n      <td>HOBBIES</td>\n      <td>CA_1</td>\n      <td>CA</td>\n      <td>0</td>\n      <td>0</td>\n      <td>0</td>\n      <td>0</td>\n      <td>...</td>\n      <td>2</td>\n      <td>1</td>\n      <td>1</td>\n      <td>0</td>\n      <td>1</td>\n      <td>1</td>\n      <td>2</td>\n      <td>2</td>\n      <td>2</td>\n      <td>4</td>\n    </tr>\n  </tbody>\n</table>\n<p>5 rows × 1919 columns</p>\n</div>"
     },
     "metadata": {},
     "execution_count": 8
    }
   ],
   "source": [
    "df_stv.head()"
   ]
  },
  {
   "cell_type": "code",
   "execution_count": 14,
   "metadata": {
    "tags": []
   },
   "outputs": [
    {
     "output_type": "stream",
     "name": "stdout",
     "text": "d_1\nd_2\nd_3\nd_4\nd_5\nd_6\nd_7\nd_8\nd_9\nd_10\nd_11\nd_12\nd_13\nd_14\nd_15\nd_16\nd_17\nd_18\nd_19\nd_20\nd_21\nd_22\nd_23\nd_24\nd_25\nd_26\nd_27\nd_28\nd_29\nd_30\nd_31\nd_32\nd_33\nd_34\nd_35\nd_36\nd_37\nd_38\nd_39\nd_40\nd_41\nd_42\nd_43\nd_44\nd_45\nd_46\nd_47\nd_48\nd_49\nd_50\nd_51\nd_52\nd_53\nd_54\nd_55\nd_56\nd_57\nd_58\nd_59\nd_60\nd_61\nd_62\nd_63\nd_64\nd_65\nd_66\nd_67\nd_68\nd_69\nd_70\nd_71\nd_72\nd_73\nd_74\nd_75\nd_76\nd_77\nd_78\nd_79\nd_80\nd_81\nd_82\nd_83\nd_84\nd_85\nd_86\nd_87\nd_88\nd_89\nd_90\nd_91\nd_92\nd_93\nd_94\nd_95\nd_96\nd_97\nd_98\nd_99\nd_100\nd_101\nd_102\nd_103\nd_104\nd_105\nd_106\nd_107\nd_108\nd_109\nd_110\nd_111\nd_112\nd_113\nd_114\nd_115\nd_116\nd_117\nd_118\nd_119\nd_120\nd_121\nd_122\nd_123\nd_124\nd_125\nd_126\nd_127\nd_128\nd_129\nd_130\nd_131\nd_132\nd_133\nd_134\nd_135\nd_136\nd_137\nd_138\nd_139\nd_140\nd_141\nd_142\nd_143\nd_144\nd_145\nd_146\nd_147\nd_148\nd_149\nd_150\nd_151\nd_152\nd_153\nd_154\nd_155\nd_156\nd_157\nd_158\nd_159\nd_160\nd_161\nd_162\nd_163\nd_164\nd_165\nd_166\nd_167\nd_168\nd_169\nd_170\nd_171\nd_172\nd_173\nd_174\nd_175\nd_176\nd_177\nd_178\nd_179\nd_180\nd_181\nd_182\nd_183\nd_184\nd_185\nd_186\nd_187\nd_188\nd_189\nd_190\nd_191\nd_192\nd_193\nd_194\nd_195\nd_196\nd_197\nd_198\nd_199\nd_200\nd_201\nd_202\nd_203\nd_204\nd_205\nd_206\nd_207\nd_208\nd_209\nd_210\nd_211\nd_212\nd_213\nd_214\nd_215\nd_216\nd_217\nd_218\nd_219\nd_220\nd_221\nd_222\nd_223\nd_224\nd_225\nd_226\nd_227\nd_228\nd_229\nd_230\nd_231\nd_232\nd_233\nd_234\nd_235\nd_236\nd_237\nd_238\nd_239\nd_240\nd_241\nd_242\nd_243\nd_244\nd_245\nd_246\nd_247\nd_248\nd_249\nd_250\nd_251\nd_252\nd_253\nd_254\nd_255\nd_256\nd_257\nd_258\nd_259\nd_260\nd_261\nd_262\nd_263\nd_264\nd_265\nd_266\nd_267\nd_268\nd_269\nd_270\nd_271\nd_272\nd_273\nd_274\nd_275\nd_276\nd_277\nd_278\nd_279\nd_280\nd_281\nd_282\nd_283\nd_284\nd_285\nd_286\nd_287\nd_288\nd_289\nd_290\nd_291\nd_292\nd_293\nd_294\nd_295\nd_296\nd_297\nd_298\nd_299\nd_300\nd_301\nd_302\nd_303\nd_304\nd_305\nd_306\nd_307\nd_308\nd_309\nd_310\nd_311\nd_312\nd_313\nd_314\nd_315\nd_316\nd_317\nd_318\nd_319\nd_320\nd_321\nd_322\nd_323\nd_324\nd_325\nd_326\nd_327\nd_328\nd_329\nd_330\nd_331\nd_332\nd_333\nd_334\nd_335\nd_336\nd_337\nd_338\nd_339\nd_340\nd_341\nd_342\nd_343\nd_344\nd_345\nd_346\nd_347\nd_348\nd_349\nd_350\nd_351\nd_352\nd_353\nd_354\nd_355\nd_356\nd_357\nd_358\nd_359\nd_360\nd_361\nd_362\nd_363\nd_364\nd_365\nd_366\nd_367\nd_368\nd_369\nd_370\nd_371\nd_372\nd_373\nd_374\nd_375\nd_376\nd_377\nd_378\nd_379\nd_380\nd_381\nd_382\nd_383\nd_384\nd_385\nd_386\nd_387\nd_388\nd_389\nd_390\nd_391\nd_392\nd_393\nd_394\nd_395\nd_396\nd_397\nd_398\nd_399\nd_400\nd_401\nd_402\nd_403\nd_404\nd_405\nd_406\nd_407\nd_408\nd_409\nd_410\nd_411\nd_412\nd_413\nd_414\nd_415\nd_416\nd_417\nd_418\nd_419\nd_420\nd_421\nd_422\nd_423\nd_424\nd_425\nd_426\nd_427\nd_428\nd_429\nd_430\nd_431\nd_432\nd_433\nd_434\nd_435\nd_436\nd_437\nd_438\nd_439\nd_440\nd_441\nd_442\nd_443\nd_444\nd_445\nd_446\nd_447\nd_448\nd_449\nd_450\nd_451\nd_452\nd_453\nd_454\nd_455\nd_456\nd_457\nd_458\nd_459\nd_460\nd_461\nd_462\nd_463\nd_464\nd_465\nd_466\nd_467\nd_468\nd_469\nd_470\nd_471\nd_472\nd_473\nd_474\nd_475\nd_476\nd_477\nd_478\nd_479\nd_480\nd_481\nd_482\nd_483\nd_484\nd_485\nd_486\nd_487\nd_488\nd_489\nd_490\nd_491\nd_492\nd_493\nd_494\nd_495\nd_496\nd_497\nd_498\nd_499\nd_500\nd_501\nd_502\nd_503\nd_504\nd_505\nd_506\nd_507\nd_508\nd_509\nd_510\nd_511\nd_512\nd_513\nd_514\nd_515\nd_516\nd_517\nd_518\nd_519\nd_520\nd_521\nd_522\nd_523\nd_524\nd_525\nd_526\nd_527\nd_528\nd_529\nd_530\nd_531\nd_532\nd_533\nd_534\nd_535\nd_536\nd_537\nd_538\nd_539\nd_540\nd_541\nd_542\nd_543\nd_544\nd_545\nd_546\nd_547\nd_548\nd_549\nd_550\nd_551\nd_552\nd_553\nd_554\nd_555\nd_556\nd_557\nd_558\nd_559\nd_560\nd_561\nd_562\nd_563\nd_564\nd_565\nd_566\nd_567\nd_568\nd_569\nd_570\nd_571\nd_572\nd_573\nd_574\nd_575\nd_576\nd_577\nd_578\nd_579\nd_580\nd_581\nd_582\nd_583\nd_584\nd_585\nd_586\nd_587\nd_588\nd_589\nd_590\nd_591\nd_592\nd_593\nd_594\nd_595\nd_596\nd_597\nd_598\nd_599\nd_600\nd_601\nd_602\nd_603\nd_604\nd_605\nd_606\nd_607\nd_608\nd_609\nd_610\nd_611\nd_612\nd_613\nd_614\nd_615\nd_616\nd_617\nd_618\nd_619\nd_620\nd_621\nd_622\nd_623\nd_624\nd_625\nd_626\nd_627\nd_628\nd_629\nd_630\nd_631\nd_632\nd_633\nd_634\nd_635\nd_636\nd_637\nd_638\nd_639\nd_640\nd_641\nd_642\nd_643\nd_644\nd_645\nd_646\nd_647\nd_648\nd_649\nd_650\nd_651\nd_652\nd_653\nd_654\nd_655\nd_656\nd_657\nd_658\nd_659\nd_660\nd_661\nd_662\nd_663\nd_664\nd_665\nd_666\nd_667\nd_668\nd_669\nd_670\nd_671\nd_672\nd_673\nd_674\nd_675\nd_676\nd_677\nd_678\nd_679\nd_680\nd_681\nd_682\nd_683\nd_684\nd_685\nd_686\nd_687\nd_688\nd_689\nd_690\nd_691\nd_692\nd_693\nd_694\nd_695\nd_696\nd_697\nd_698\nd_699\nd_700\nd_701\nd_702\nd_703\nd_704\nd_705\nd_706\nd_707\nd_708\nd_709\nd_710\nd_711\nd_712\nd_713\nd_714\nd_715\nd_716\nd_717\nd_718\nd_719\nd_720\nd_721\nd_722\nd_723\nd_724\nd_725\nd_726\nd_727\nd_728\nd_729\nd_730\nd_731\nd_732\nd_733\nd_734\nd_735\nd_736\nd_737\nd_738\nd_739\nd_740\nd_741\nd_742\nd_743\nd_744\nd_745\nd_746\nd_747\nd_748\nd_749\nd_750\nd_751\nd_752\nd_753\nd_754\nd_755\nd_756\nd_757\nd_758\nd_759\nd_760\nd_761\nd_762\nd_763\nd_764\nd_765\nd_766\nd_767\nd_768\nd_769\nd_770\nd_771\nd_772\nd_773\nd_774\nd_775\nd_776\nd_777\nd_778\nd_779\nd_780\nd_781\nd_782\nd_783\nd_784\nd_785\nd_786\nd_787\nd_788\nd_789\nd_790\nd_791\nd_792\nd_793\nd_794\nd_795\nd_796\nd_797\nd_798\nd_799\nd_800\nd_801\nd_802\nd_803\nd_804\nd_805\nd_806\nd_807\nd_808\nd_809\nd_810\nd_811\nd_812\nd_813\nd_814\nd_815\nd_816\nd_817\nd_818\nd_819\nd_820\nd_821\nd_822\nd_823\nd_824\nd_825\nd_826\nd_827\nd_828\nd_829\nd_830\nd_831\nd_832\nd_833\nd_834\nd_835\nd_836\nd_837\nd_838\nd_839\nd_840\nd_841\nd_842\nd_843\nd_844\nd_845\nd_846\nd_847\nd_848\nd_849\nd_850\nd_851\nd_852\nd_853\nd_854\nd_855\nd_856\nd_857\nd_858\nd_859\nd_860\nd_861\nd_862\nd_863\nd_864\nd_865\nd_866\nd_867\nd_868\nd_869\nd_870\nd_871\nd_872\nd_873\nd_874\nd_875\nd_876\nd_877\nd_878\nd_879\nd_880\nd_881\nd_882\nd_883\nd_884\nd_885\nd_886\nd_887\nd_888\nd_889\nd_890\nd_891\nd_892\nd_893\nd_894\nd_895\nd_896\nd_897\nd_898\nd_899\nd_900\nd_901\nd_902\nd_903\nd_904\nd_905\nd_906\nd_907\nd_908\nd_909\nd_910\nd_911\nd_912\nd_913\nd_914\nd_915\nd_916\nd_917\nd_918\nd_919\nd_920\nd_921\nd_922\nd_923\nd_924\nd_925\nd_926\nd_927\nd_928\nd_929\nd_930\nd_931\nd_932\nd_933\nd_934\nd_935\nd_936\nd_937\nd_938\nd_939\nd_940\nd_941\nd_942\nd_943\nd_944\nd_945\nd_946\nd_947\nd_948\nd_949\nd_950\nd_951\nd_952\nd_953\nd_954\nd_955\nd_956\nd_957\nd_958\nd_959\nd_960\nd_961\nd_962\nd_963\nd_964\nd_965\nd_966\nd_967\nd_968\nd_969\nd_970\nd_971\nd_972\nd_973\nd_974\nd_975\nd_976\nd_977\nd_978\nd_979\nd_980\nd_981\nd_982\nd_983\nd_984\nd_985\nd_986\nd_987\nd_988\nd_989\nd_990\nd_991\nd_992\nd_993\nd_994\nd_995\nd_996\nd_997\nd_998\nd_999\nd_1000\nd_1001\nd_1002\nd_1003\nd_1004\nd_1005\nd_1006\nd_1007\nd_1008\nd_1009\nd_1010\nd_1011\nd_1012\nd_1013\nd_1014\nd_1015\nd_1016\nd_1017\nd_1018\nd_1019\nd_1020\nd_1021\nd_1022\nd_1023\nd_1024\nd_1025\nd_1026\nd_1027\nd_1028\nd_1029\nd_1030\nd_1031\nd_1032\nd_1033\nd_1034\nd_1035\nd_1036\nd_1037\nd_1038\nd_1039\nd_1040\nd_1041\nd_1042\nd_1043\nd_1044\nd_1045\nd_1046\nd_1047\nd_1048\nd_1049\nd_1050\nd_1051\nd_1052\nd_1053\nd_1054\nd_1055\nd_1056\nd_1057\nd_1058\nd_1059\nd_1060\nd_1061\nd_1062\nd_1063\nd_1064\nd_1065\nd_1066\nd_1067\nd_1068\nd_1069\nd_1070\nd_1071\nd_1072\nd_1073\nd_1074\nd_1075\nd_1076\nd_1077\nd_1078\nd_1079\nd_1080\nd_1081\nd_1082\nd_1083\nd_1084\nd_1085\nd_1086\nd_1087\nd_1088\nd_1089\nd_1090\nd_1091\nd_1092\nd_1093\nd_1094\nd_1095\nd_1096\nd_1097\nd_1098\nd_1099\nd_1100\nd_1101\nd_1102\nd_1103\nd_1104\nd_1105\nd_1106\nd_1107\nd_1108\nd_1109\nd_1110\nd_1111\nd_1112\nd_1113\nd_1114\nd_1115\nd_1116\nd_1117\nd_1118\nd_1119\nd_1120\nd_1121\nd_1122\nd_1123\nd_1124\nd_1125\nd_1126\nd_1127\nd_1128\nd_1129\nd_1130\nd_1131\nd_1132\nd_1133\nd_1134\nd_1135\nd_1136\nd_1137\nd_1138\nd_1139\nd_1140\nd_1141\nd_1142\nd_1143\nd_1144\nd_1145\nd_1146\nd_1147\nd_1148\nd_1149\nd_1150\nd_1151\nd_1152\nd_1153\nd_1154\nd_1155\nd_1156\nd_1157\nd_1158\nd_1159\nd_1160\nd_1161\nd_1162\nd_1163\nd_1164\nd_1165\nd_1166\nd_1167\nd_1168\nd_1169\nd_1170\nd_1171\nd_1172\nd_1173\nd_1174\nd_1175\nd_1176\nd_1177\nd_1178\nd_1179\nd_1180\nd_1181\nd_1182\nd_1183\nd_1184\nd_1185\nd_1186\nd_1187\nd_1188\nd_1189\nd_1190\nd_1191\nd_1192\nd_1193\nd_1194\nd_1195\nd_1196\nd_1197\nd_1198\nd_1199\nd_1200\nd_1201\nd_1202\nd_1203\nd_1204\nd_1205\nd_1206\nd_1207\nd_1208\nd_1209\nd_1210\nd_1211\nd_1212\nd_1213\nd_1214\nd_1215\nd_1216\nd_1217\nd_1218\nd_1219\nd_1220\nd_1221\nd_1222\nd_1223\nd_1224\nd_1225\nd_1226\nd_1227\nd_1228\nd_1229\nd_1230\nd_1231\nd_1232\nd_1233\nd_1234\nd_1235\nd_1236\nd_1237\nd_1238\nd_1239\nd_1240\nd_1241\nd_1242\nd_1243\nd_1244\nd_1245\nd_1246\nd_1247\nd_1248\nd_1249\nd_1250\nd_1251\nd_1252\nd_1253\nd_1254\nd_1255\nd_1256\nd_1257\nd_1258\nd_1259\nd_1260\nd_1261\nd_1262\nd_1263\nd_1264\nd_1265\nd_1266\nd_1267\nd_1268\nd_1269\nd_1270\nd_1271\nd_1272\nd_1273\nd_1274\nd_1275\nd_1276\nd_1277\nd_1278\nd_1279\nd_1280\nd_1281\nd_1282\nd_1283\nd_1284\nd_1285\nd_1286\nd_1287\nd_1288\nd_1289\nd_1290\nd_1291\nd_1292\nd_1293\nd_1294\nd_1295\nd_1296\nd_1297\nd_1298\nd_1299\nd_1300\nd_1301\nd_1302\nd_1303\nd_1304\nd_1305\nd_1306\nd_1307\nd_1308\nd_1309\nd_1310\nd_1311\nd_1312\nd_1313\nd_1314\nd_1315\nd_1316\nd_1317\nd_1318\nd_1319\nd_1320\nd_1321\nd_1322\nd_1323\nd_1324\nd_1325\nd_1326\nd_1327\nd_1328\nd_1329\nd_1330\nd_1331\nd_1332\nd_1333\nd_1334\nd_1335\nd_1336\nd_1337\nd_1338\nd_1339\nd_1340\nd_1341\nd_1342\nd_1343\nd_1344\nd_1345\nd_1346\nd_1347\nd_1348\nd_1349\nd_1350\nd_1351\nd_1352\nd_1353\nd_1354\nd_1355\nd_1356\nd_1357\nd_1358\nd_1359\nd_1360\nd_1361\nd_1362\nd_1363\nd_1364\nd_1365\nd_1366\nd_1367\nd_1368\nd_1369\nd_1370\nd_1371\nd_1372\nd_1373\nd_1374\nd_1375\nd_1376\nd_1377\nd_1378\nd_1379\nd_1380\nd_1381\nd_1382\nd_1383\nd_1384\nd_1385\nd_1386\nd_1387\nd_1388\nd_1389\nd_1390\nd_1391\nd_1392\nd_1393\nd_1394\nd_1395\nd_1396\nd_1397\nd_1398\nd_1399\nd_1400\nd_1401\nd_1402\nd_1403\nd_1404\nd_1405\nd_1406\nd_1407\nd_1408\nd_1409\nd_1410\nd_1411\nd_1412\nd_1413\nd_1414\nd_1415\nd_1416\nd_1417\nd_1418\nd_1419\nd_1420\nd_1421\nd_1422\nd_1423\nd_1424\nd_1425\nd_1426\nd_1427\nd_1428\nd_1429\nd_1430\nd_1431\nd_1432\nd_1433\nd_1434\nd_1435\nd_1436\nd_1437\nd_1438\nd_1439\nd_1440\nd_1441\nd_1442\nd_1443\nd_1444\nd_1445\nd_1446\nd_1447\nd_1448\nd_1449\nd_1450\nd_1451\nd_1452\nd_1453\nd_1454\nd_1455\nd_1456\nd_1457\nd_1458\nd_1459\nd_1460\nd_1461\nd_1462\nd_1463\nd_1464\nd_1465\nd_1466\nd_1467\nd_1468\nd_1469\nd_1470\nd_1471\nd_1472\nd_1473\nd_1474\nd_1475\nd_1476\nd_1477\nd_1478\nd_1479\nd_1480\nd_1481\nd_1482\nd_1483\nd_1484\nd_1485\nd_1486\nd_1487\nd_1488\nd_1489\nd_1490\nd_1491\nd_1492\nd_1493\nd_1494\nd_1495\nd_1496\nd_1497\nd_1498\nd_1499\nd_1500\nd_1501\nd_1502\nd_1503\nd_1504\nd_1505\nd_1506\nd_1507\nd_1508\nd_1509\nd_1510\nd_1511\nd_1512\nd_1513\nd_1514\nd_1515\nd_1516\nd_1517\nd_1518\nd_1519\nd_1520\nd_1521\nd_1522\nd_1523\nd_1524\nd_1525\nd_1526\nd_1527\nd_1528\nd_1529\nd_1530\nd_1531\nd_1532\nd_1533\nd_1534\nd_1535\nd_1536\nd_1537\nd_1538\nd_1539\nd_1540\nd_1541\nd_1542\nd_1543\nd_1544\nd_1545\nd_1546\nd_1547\nd_1548\nd_1549\nd_1550\nd_1551\nd_1552\nd_1553\nd_1554\nd_1555\nd_1556\nd_1557\nd_1558\nd_1559\nd_1560\nd_1561\nd_1562\nd_1563\nd_1564\nd_1565\nd_1566\nd_1567\nd_1568\nd_1569\nd_1570\nd_1571\nd_1572\nd_1573\nd_1574\nd_1575\nd_1576\nd_1577\nd_1578\nd_1579\nd_1580\nd_1581\nd_1582\nd_1583\nd_1584\nd_1585\nd_1586\nd_1587\nd_1588\nd_1589\nd_1590\nd_1591\nd_1592\nd_1593\nd_1594\nd_1595\nd_1596\nd_1597\nd_1598\nd_1599\nd_1600\nd_1601\nd_1602\nd_1603\nd_1604\nd_1605\nd_1606\nd_1607\nd_1608\nd_1609\nd_1610\nd_1611\nd_1612\nd_1613\nd_1614\nd_1615\nd_1616\nd_1617\nd_1618\nd_1619\nd_1620\nd_1621\nd_1622\nd_1623\nd_1624\nd_1625\nd_1626\nd_1627\nd_1628\nd_1629\nd_1630\nd_1631\nd_1632\nd_1633\nd_1634\nd_1635\nd_1636\nd_1637\nd_1638\nd_1639\nd_1640\nd_1641\nd_1642\nd_1643\nd_1644\nd_1645\nd_1646\nd_1647\nd_1648\nd_1649\nd_1650\nd_1651\nd_1652\nd_1653\nd_1654\nd_1655\nd_1656\nd_1657\nd_1658\nd_1659\nd_1660\nd_1661\nd_1662\nd_1663\nd_1664\nd_1665\nd_1666\nd_1667\nd_1668\nd_1669\nd_1670\nd_1671\nd_1672\nd_1673\nd_1674\nd_1675\nd_1676\nd_1677\nd_1678\nd_1679\nd_1680\nd_1681\nd_1682\nd_1683\nd_1684\nd_1685\nd_1686\nd_1687\nd_1688\nd_1689\nd_1690\nd_1691\nd_1692\nd_1693\nd_1694\nd_1695\nd_1696\nd_1697\nd_1698\nd_1699\nd_1700\nd_1701\nd_1702\nd_1703\nd_1704\nd_1705\nd_1706\nd_1707\nd_1708\nd_1709\nd_1710\nd_1711\nd_1712\nd_1713\nd_1714\nd_1715\nd_1716\nd_1717\nd_1718\nd_1719\nd_1720\nd_1721\nd_1722\nd_1723\nd_1724\nd_1725\nd_1726\nd_1727\nd_1728\nd_1729\nd_1730\nd_1731\nd_1732\nd_1733\nd_1734\nd_1735\nd_1736\nd_1737\nd_1738\nd_1739\nd_1740\nd_1741\nd_1742\nd_1743\nd_1744\nd_1745\nd_1746\nd_1747\nd_1748\nd_1749\nd_1750\nd_1751\nd_1752\nd_1753\nd_1754\nd_1755\nd_1756\nd_1757\nd_1758\nd_1759\nd_1760\nd_1761\nd_1762\nd_1763\nd_1764\nd_1765\nd_1766\nd_1767\nd_1768\nd_1769\nd_1770\nd_1771\nd_1772\nd_1773\nd_1774\nd_1775\nd_1776\nd_1777\nd_1778\nd_1779\nd_1780\nd_1781\nd_1782\nd_1783\nd_1784\nd_1785\nd_1786\nd_1787\nd_1788\nd_1789\nd_1790\nd_1791\nd_1792\nd_1793\nd_1794\nd_1795\nd_1796\nd_1797\nd_1798\nd_1799\nd_1800\nd_1801\nd_1802\nd_1803\nd_1804\nd_1805\nd_1806\nd_1807\nd_1808\nd_1809\nd_1810\nd_1811\nd_1812\nd_1813\nd_1814\nd_1815\nd_1816\nd_1817\nd_1818\nd_1819\nd_1820\nd_1821\nd_1822\nd_1823\nd_1824\nd_1825\nd_1826\nd_1827\nd_1828\nd_1829\nd_1830\nd_1831\nd_1832\nd_1833\nd_1834\nd_1835\nd_1836\nd_1837\nd_1838\nd_1839\nd_1840\nd_1841\nd_1842\nd_1843\nd_1844\nd_1845\nd_1846\nd_1847\nd_1848\nd_1849\nd_1850\nd_1851\nd_1852\nd_1853\nd_1854\nd_1855\nd_1856\nd_1857\nd_1858\nd_1859\nd_1860\nd_1861\nd_1862\nd_1863\nd_1864\nd_1865\nd_1866\nd_1867\nd_1868\nd_1869\nd_1870\nd_1871\nd_1872\nd_1873\nd_1874\nd_1875\nd_1876\nd_1877\nd_1878\nd_1879\nd_1880\nd_1881\nd_1882\nd_1883\nd_1884\nd_1885\nd_1886\nd_1887\nd_1888\nd_1889\nd_1890\nd_1891\nd_1892\nd_1893\nd_1894\nd_1895\nd_1896\nd_1897\nd_1898\nd_1899\nd_1900\nd_1901\nd_1902\nd_1903\nd_1904\nd_1905\nd_1906\nd_1907\nd_1908\nd_1909\nd_1910\nd_1911\nd_1912\nd_1913\n"
    }
   ],
   "source": []
  },
  {
   "cell_type": "code",
   "execution_count": null,
   "metadata": {},
   "outputs": [],
   "source": []
  },
  {
   "cell_type": "code",
   "execution_count": null,
   "metadata": {},
   "outputs": [],
   "source": []
  }
 ],
 "metadata": {
  "language_info": {
   "codemirror_mode": {
    "name": "ipython",
    "version": 3
   },
   "file_extension": ".py",
   "mimetype": "text/x-python",
   "name": "python",
   "nbconvert_exporter": "python",
   "pygments_lexer": "ipython3",
   "version": "3.7.6-final"
  },
  "orig_nbformat": 2,
  "kernelspec": {
   "name": "python3",
   "display_name": "Python 3"
  }
 },
 "nbformat": 4,
 "nbformat_minor": 2
}